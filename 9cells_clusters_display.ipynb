{
 "cells": [
  {
   "cell_type": "code",
   "execution_count": 11,
   "metadata": {},
   "outputs": [],
   "source": [
    "import uproot4\n",
    "import matplotlib.pyplot as plt\n",
    "import matplotlib.patches as patches\n",
    "from matplotlib.collections import PatchCollection\n",
    "from matplotlib import cm\n",
    "from matplotlib.colors import LogNorm, Normalize\n",
    "import os\n",
    "import numpy as np\n",
    "import pandas as pd\n",
    "import itertools\n",
    "\n",
    "from event_display import  build_calorimeter_section\n",
    "from data_tools import reduce_9cells "
   ]
  },
  {
   "cell_type": "code",
   "execution_count": 12,
   "metadata": {},
   "outputs": [],
   "source": [
    "pics_prefix = os.path.join(\"plots\", \"v1_\")"
   ]
  },
  {
   "cell_type": "code",
   "execution_count": 13,
   "metadata": {},
   "outputs": [
    {
     "name": "stdout",
     "output_type": "stream",
     "text": [
      "Time open 0.2520170211791992\n",
      "Time split 0.311002254486084\n",
      "Inputs shape new = (10000, 12, 12, 1)\n"
     ]
    }
   ],
   "source": [
    "from geant3_parser import build_true_answers_train_set\n",
    "from geant3_parser import Geant3DataFile\n",
    "\n",
    "def norm_func(e):\n",
    "    return np.float64(np.log(e) / 11)\n",
    "\n",
    "file_name = os.path.join('data', 'shower_geant3_new.dat')\n",
    "data_file = Geant3DataFile(file_name, skip_lines=3)\n",
    "\n",
    "events_to_read = 5000\n",
    "input_data, answers, values = build_true_answers_train_set(data_file, events_to_read*2, norm_func=norm_func, rnd_shift=((-2,2), (-2,2)))\n",
    "\n",
    "# Remove x,y\n",
    "\n",
    "# Reshape to events x 11 x 11 x 1 form\n",
    "input_data = np.reshape(input_data, (len(input_data), 11, 11, 1))  # -1 => autodetermine\n",
    "answers = np.reshape(answers, (len(answers), 11, 11, 1))  # -1 => autodetermine\n",
    "\n",
    "# Pad with 1 row and column of zeroes, so it divides by 2, events x 12 x 12 x 1 now\n",
    "input_data = np.pad(input_data, ((0,0), (0,1), (0,1), (0,0)), mode='constant', constant_values=0)\n",
    "answers = np.pad(answers, ((0,0), (0,1), (0,1), (0,0)), mode='constant', constant_values=0)\n",
    "\n",
    "# printout shape\n",
    "print(f\"Inputs shape new = {np.shape(input_data)}\")"
   ]
  },
  {
   "cell_type": "code",
   "execution_count": 14,
   "metadata": {},
   "outputs": [],
   "source": [
    "def display_event(event_data, fig=None, ax=None, cal_size=12, cell_size=1):\n",
    "    # constants\n",
    "    size_x = cell_size\n",
    "    size_y = cell_size\n",
    "    dx = size_x / 2.0\n",
    "    dy = size_y / 2.0\n",
    "\n",
    "    # go through all cells and calculate their centers\n",
    "    centers = np.arange(-cal_size/2.0 + cell_size/2, cal_size/2 + cell_size/2, 1)\n",
    "    positions = []\n",
    "    for y_iter in range(cal_size):\n",
    "        for x_iter in range(cal_size):\n",
    "            positions.append((centers[x_iter], centers[y_iter]))\n",
    "\n",
    "    # plot calorimeter with empty cells\n",
    "    if not fig or not ax:\n",
    "        fig, ax = plt.subplots()\n",
    "    build_calorimeter_section(ax, positions, 1, 1)\n",
    "\n",
    "    # Create a heat map\n",
    "    norm = LogNorm()\n",
    "    norm.autoscale(event_data)\n",
    "    cmap = cm.get_cmap('inferno')\n",
    "\n",
    "    # Convert data to rectangular patches    \n",
    "    module_rects = []\n",
    "    for y_iter in range(cal_size):\n",
    "        for x_iter in range(cal_size):\n",
    "            x = centers[x_iter]\n",
    "            y = centers[y_iter]\n",
    "            weight = event_data[x_iter][y_iter][0]\n",
    "            #print(x,y,weight)\n",
    "            patch = patches.Rectangle((x-dx, y-dy), size_x, size_y, edgecolor='black', facecolor=cmap(norm(weight)))\n",
    "            module_rects.append(patch)\n",
    "\n",
    "    # plot rectangles with data\n",
    "    col = PatchCollection(module_rects, match_original=True)\n",
    "    ax.add_collection(col)\n",
    "\n",
    "    # plot heatmap legend\n",
    "    sm = plt.cm.ScalarMappable(cmap=cmap, norm=norm)\n",
    "    sm.set_array(event_data)\n",
    "    fig.colorbar(sm)\n",
    "    \n",
    "    return fig, ax\n",
    "\n",
    "\n",
    "def display_event_comparison(left_data, right_data, fig=None, cal_size=12, cell_size=1):\n",
    "    # constants\n",
    "    size_x = cell_size\n",
    "    size_y = cell_size\n",
    "    dx = size_x / 2.0\n",
    "    dy = size_y / 2.0\n",
    "\n",
    "    # go through all cells and calculate their centers\n",
    "    centers = np.arange(-cal_size/2.0 + cell_size/2, cal_size/2 + cell_size/2, 1)\n",
    "    positions = []\n",
    "    for y_iter in range(cal_size):\n",
    "        for x_iter in range(cal_size):\n",
    "            positions.append((centers[x_iter], centers[y_iter]))\n",
    "\n",
    "    # plot calorimeter with empty cells\n",
    "    if not fig:\n",
    "        fig = plt.figure(figsize=(12,9))\n",
    "\n",
    "    ax_left, ax_right = fig.subplots(1, 2)\n",
    "    build_calorimeter_section(ax_left, positions, 1, 1)\n",
    "    build_calorimeter_section(ax_right, positions, 1, 1)\n",
    "\n",
    "    # Create a heat map\n",
    "    norm = LogNorm()    \n",
    "    norm.autoscale(np.vstack((left_data,right_data)))\n",
    "    cmap = cm.get_cmap('inferno')\n",
    "\n",
    "    def display_event_values(data, ax):\n",
    "        # Convert data to rectangular patches    \n",
    "        module_rects = []\n",
    "        for y_iter in range(cal_size):\n",
    "            for x_iter in range(cal_size):\n",
    "                x = centers[x_iter]\n",
    "                y = centers[y_iter]\n",
    "                weight = data[x_iter][y_iter][0]\n",
    "                #print(x,y,weight)\n",
    "                patch = patches.Rectangle((x-dx, y-dy), size_x, size_y, edgecolor='black', facecolor=cmap(norm(weight)))\n",
    "                module_rects.append(patch)\n",
    "\n",
    "        # plot rectangles with data\n",
    "        col = PatchCollection(module_rects, match_original=True)\n",
    "        ax.add_collection(col)\n",
    "\n",
    "    display_event_values(left_data, ax_left)\n",
    "    display_event_values(right_data, ax_right)\n",
    "\n",
    "    # plot heatmap legend\n",
    "    sm = plt.cm.ScalarMappable(cmap=cmap, norm=norm)\n",
    "    sm.set_array(np.vstack((left_data,right_data)))\n",
    "    fig.colorbar(sm, orientation=\"horizontal\", ax=[ax_left,ax_right], extend=\"both\")\n",
    "\n",
    "    ax_left.set_aspect('equal', 'box')\n",
    "    ax_right.set_aspect('equal', 'box')\n",
    "    \n",
    "    return fig, ax_left, ax_right\n",
    "\n",
    "def get_bin_centers(bins):\n",
    "    \"\"\"Calculates bin centers out of bin boundaries\"\"\"\n",
    "    assert len(bins) >= 2\n",
    "    return bins[:-1] + (bins[1:] - bins[:-1]) / 2\n",
    "\n",
    "# Prints 11x11 cells event\n",
    "def print_event(table):\n",
    "    if not len(table):\n",
    "        print(\"EMPTY TABLE\")\n",
    "        return\n",
    "    \n",
    "    split_line = \"\"\n",
    "    for irow, row in enumerate(table):\n",
    "        if irow == 0:\n",
    "            # First row => making title\n",
    "            col_names = \"ROW   \" +  \" \".join([f\"{column_num:<5}\" for column_num in range(len(row))])\n",
    "            spaces = int((len(col_names) - len(\"COLUMNS\"))/2)\n",
    "            header = \"{0}COLUMNS{0}\".format(spaces*\" \")\n",
    "            split_line = \"-\"*len(col_names)\n",
    "            print()            \n",
    "            print(header)\n",
    "            print(col_names)\n",
    "            print(split_line)\n",
    "        cells = f\"{irow:<4}| \" + \" \".join([f\"{cell[0]*11:<5.2}\" for cell in row])\n",
    "        print(cells)\n",
    "\n",
    "    # Footer\n",
    "    print(split_line)"
   ]
  },
  {
   "cell_type": "code",
   "execution_count": 15,
   "metadata": {},
   "outputs": [
    {
     "data": {
      "text/plain": [
       "(<Figure size 864x648 with 3 Axes>, <AxesSubplot:>, <AxesSubplot:>)"
      ]
     },
     "execution_count": 15,
     "metadata": {},
     "output_type": "execute_result"
    },
    {
     "data": {
      "image/png": "[encoded data removed]",
      "text/plain": [
       "<Figure size 864x648 with 3 Axes>"
      ]
     },
     "metadata": {
      "needs_background": "light"
     },
     "output_type": "display_data"
    }
   ],
   "source": [
    "event_number = 12\n",
    "left_event = np.exp(input_data[event_number]*11)\n",
    "right_event = np.exp(answers[event_number]*11)\n",
    "left_event[left_event<1.5] = 0\n",
    "right_event[right_event<2] = 0\n",
    "display_event_comparison(left_event, right_event)\n"
   ]
  },
  {
   "cell_type": "code",
   "execution_count": 16,
   "metadata": {},
   "outputs": [],
   "source": [
    "ench_events = np.copy(input_data)\n",
    "for event in ench_events:\n",
    "    reduce_9cells(event)"
   ]
  },
  {
   "cell_type": "code",
   "execution_count": 18,
   "metadata": {},
   "outputs": [
    {
     "data": {
      "text/plain": [
       "(<Figure size 864x648 with 3 Axes>, <AxesSubplot:>, <AxesSubplot:>)"
      ]
     },
     "execution_count": 18,
     "metadata": {},
     "output_type": "execute_result"
    },
    {
     "data": {
      "image/png": "[encoded data removed]",
      "text/plain": [
       "<Figure size 864x648 with 3 Axes>"
      ]
     },
     "metadata": {
      "needs_background": "light"
     },
     "output_type": "display_data"
    }
   ],
   "source": [
    "event_number = 11\n",
    "left_event = np.exp(input_data[event_number]*11)\n",
    "right_event = np.exp(ench_events[event_number]*11)\n",
    "left_event[left_event<1.5] = 0\n",
    "right_event[right_event<2] = 0\n",
    "display_event_comparison(left_event, right_event)"
   ]
  }
 ],
 "metadata": {
  "interpreter": {
   "hash": "a707b6ce8c685eb936424fcc3009d4b4b7a52543c4db09380a3fc49186ceb509"
  },
  "kernelspec": {
   "display_name": "Python 3.7.11 ('base')",
   "language": "python",
   "name": "python3"
  },
  "language_info": {
   "codemirror_mode": {
    "name": "ipython",
    "version": 3
   },
   "file_extension": ".py",
   "mimetype": "text/x-python",
   "name": "python",
   "nbconvert_exporter": "python",
   "pygments_lexer": "ipython3",
   "version": "3.9.12"
  },
  "orig_nbformat": 4
 },
 "nbformat": 4,
 "nbformat_minor": 2
}
