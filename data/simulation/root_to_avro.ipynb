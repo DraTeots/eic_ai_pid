{
 "cells": [
  {
   "cell_type": "code",
   "execution_count": 13,
   "outputs": [
    {
     "name": "stdout",
     "output_type": "stream",
     "text": [
      "Believed path is: /home/romanov/eic/eic_ai_pid/data/simulation\n"
     ]
    }
   ],
   "source": [
    "import uproot\n",
    "import matplotlib\n",
    "import matplotlib.pyplot as plt\n",
    "import awkward as ak\n",
    "import hist\n",
    "import numpy as np\n",
    "from event_display import gdml_read_ecal_info\n",
    "import os\n",
    "\n",
    "%matplotlib inline\n",
    "matplotlib.rc(\"figure\", dpi=200)\n",
    "\n",
    "dir_path = os.path.dirname(os.path.realpath(\"__file__\"))\n",
    "print(f\"Believed path is: {dir_path}\")"
   ],
   "metadata": {
    "collapsed": false,
    "pycharm": {
     "name": "#%%\n"
    }
   }
  },
  {
   "cell_type": "code",
   "execution_count": 14,
   "outputs": [],
   "source": [
    "# Data file name\n",
    "#data_file_name = f\"{dir_path}/data/test_gun.edm4hep.root\"\n",
    "file_with_event_num = 100000\n",
    "root_file_name = f\"{dir_path}/../disk_gun_electrons_0-15GeV_{file_with_event_num}ev.edm4hep.root\"\n",
    "modules_file_name = f'{dir_path}/../disk_gun_electrons_0-15GeV_{file_with_event_num}ev.modules.csv'\n",
    "energy_file_name = f'{dir_path}/../disk_gun_electrons_0-15GeV_{file_with_event_num}ev.energy.csv'\n",
    "position_file_name = f'{dir_path}/../disk_gun_electrons_0-15GeV_{file_with_event_num}ev.position.csv'"
   ],
   "metadata": {
    "collapsed": false,
    "pycharm": {
     "name": "#%%\n"
    }
   }
  },
  {
   "cell_type": "code",
   "execution_count": 15,
   "outputs": [
    {
     "name": "stdout",
     "output_type": "stream",
     "text": [
      "[[True, False, False], [True, False], [True]]\n",
      "[[0, 2.26, 6.43], [0, 3.62], [0]]\n",
      "[[0.000511, 0.000511, 0.000511], [0.000511, 0.000511], [0.000511]]\n",
      "[[12.4], [0.843], [1.86]]\n",
      "[12.44688239  0.84302417  1.86409661]\n"
     ]
    }
   ],
   "source": [
    "# Open root file and get \"events\" tree from it\n",
    "tree = uproot.open(root_file_name)[\"events\"]\n",
    "\n",
    "# Number of events to process:\n",
    "entry_start = 0                  # (!) Try changing those\n",
    "entry_stop = file_with_event_num                 # <==\n",
    "\n",
    "gen_status = tree['MCParticles/MCParticles.generatorStatus'].array(entry_start=entry_start, entry_stop=entry_stop)\n",
    "\n",
    "stable_only = gen_status > 0\n",
    "# stable_only = stable_only[stable_only]\n",
    "\n",
    "times = tree['MCParticles/MCParticles.time'].array(entry_start=entry_start, entry_stop=entry_stop)\n",
    "masses = tree['MCParticles/MCParticles.mass'].array(entry_start=entry_start, entry_stop=entry_stop)\n",
    "print(stable_only[:3])\n",
    "print(times[:3])\n",
    "print(masses[:3])\n",
    "\n",
    "px = tree['MCParticles/MCParticles.momentum.x'].array(entry_start=entry_start, entry_stop=entry_stop)\n",
    "py = tree['MCParticles/MCParticles.momentum.y'].array(entry_start=entry_start, entry_stop=entry_stop)\n",
    "pz = tree['MCParticles/MCParticles.momentum.z'].array(entry_start=entry_start, entry_stop=entry_stop)\n",
    "pdg = tree['MCParticles/MCParticles.PDG'].array(entry_start=entry_start, entry_stop=entry_stop)\n",
    "\n",
    "masses = masses[stable_only]\n",
    "px = px[stable_only]\n",
    "py = py[stable_only]\n",
    "pz = pz[stable_only]\n",
    "\n",
    "e = np.sqrt(masses*masses + px*px + py*py + pz*pz)\n",
    "print(e[:3])\n",
    "\n",
    "e = ak.flatten(e).to_numpy()\n",
    "print(e[:3])\n",
    "# Read energies, x and y positions\n",
    "# Flatten arrays for simplicity\n",
    "#energies = get_flatten_branch_data('EcalEndcapNHits/EcalEndcapNHits.energy')\n",
    "#hits_x = get_flatten_branch_data('EcalEndcapNHits/EcalEndcapNHits.position.x')\n",
    "#hits_y = get_flatten_branch_data('EcalEndcapNHits/EcalEndcapNHits.position.y')"
   ],
   "metadata": {
    "collapsed": false,
    "pycharm": {
     "name": "#%%\n"
    }
   }
  },
  {
   "cell_type": "code",
   "execution_count": 16,
   "outputs": [],
   "source": [
    "np.savetxt(energy_file_name, e, comments=\"True energy of events [GeV]\")"
   ],
   "metadata": {
    "collapsed": false,
    "pycharm": {
     "name": "#%%\n"
    }
   }
  },
  {
   "cell_type": "code",
   "execution_count": 17,
   "outputs": [],
   "source": [
    "pos_x = tree['MCParticles/MCParticles.vertex.x'].array(entry_start=entry_start, entry_stop=entry_stop)\n",
    "pos_y = tree['MCParticles/MCParticles.vertex.y'].array(entry_start=entry_start, entry_stop=entry_stop)\n",
    "pos_z = tree['MCParticles/MCParticles.vertex.z'].array(entry_start=entry_start, entry_stop=entry_stop)\n",
    "pos_x = ak.flatten(pos_x[stable_only]).to_numpy()\n",
    "pos_y = ak.flatten(pos_y[stable_only]).to_numpy()\n",
    "pos_z = ak.flatten(pos_z[stable_only]).to_numpy()\n",
    "\n",
    "pos = np.column_stack((pos_x, pos_y, pos_z))\n",
    "np.shape(pos)\n",
    "np.savetxt(position_file_name, e, comments=\"True position of particle vertex [mm] (direction is 0,0,-1)\")"
   ],
   "metadata": {
    "collapsed": false,
    "pycharm": {
     "name": "#%%\n"
    }
   }
  },
  {
   "cell_type": "code",
   "execution_count": 18,
   "outputs": [
    {
     "data": {
      "text/plain": "'/home/romanov/eic/eic_ai_pid/data/simulation/../disk_gun_electrons_0-15GeV_100000ev.position.csv'"
     },
     "execution_count": 18,
     "metadata": {},
     "output_type": "execute_result"
    }
   ],
   "source": [
    "position_file_name"
   ],
   "metadata": {
    "collapsed": false,
    "pycharm": {
     "name": "#%%\n"
    }
   }
  },
  {
   "cell_type": "code",
   "execution_count": 19,
   "outputs": [
    {
     "name": "stdout",
     "output_type": "stream",
     "text": [
      "module_size_x    : 20.5\n",
      "module_size_y    : 20.5\n",
      "module_size_z    : 200.0\n",
      "total_modules    : 2816\n",
      "num_modules_x    : 61\n",
      "num_modules_y    : 61\n",
      "min_x            : -615.0\n",
      "max_x            : 615.0\n",
      "min_y            : -615.0\n",
      "max_y            : 615.0\n",
      "min_z            : 0.0\n",
      "max_z            : 0.0\n",
      "border_left      : -625.25\n",
      "border_right     : 625.25\n",
      "border_top       : 625.25\n",
      "border_bottom    : -625.25\n",
      "unit             : mm\n"
     ]
    }
   ],
   "source": [
    "# Load geometry file\n",
    "ecal_info = gdml_read_ecal_info(f\"{dir_path}/../ecce.gdml\")\n",
    "\n",
    "# ecal_info is of EcalGeoInfo class, which is a helper holding information\n",
    "# about all needed ecal geometries.\n",
    "# Print what information it holds:\n",
    "ecal_info.print()"
   ],
   "metadata": {
    "collapsed": false,
    "pycharm": {
     "name": "#%%\n"
    }
   }
  },
  {
   "cell_type": "code",
   "execution_count": 20,
   "outputs": [],
   "source": [
    "events = ecal_info.read_events_from_file(root_file_name, 0, file_with_event_num)"
   ],
   "metadata": {
    "collapsed": false,
    "pycharm": {
     "name": "#%%\n"
    }
   }
  },
  {
   "cell_type": "code",
   "execution_count": 21,
   "outputs": [
    {
     "name": "stdout",
     "output_type": "stream",
     "text": [
      "Original shape (100000, 61, 61)\n",
      "Flatten shape (100000, 3721)\n"
     ]
    }
   ],
   "source": [
    "original_shape = np.shape(events)\n",
    "print(f\"Original shape {original_shape}\")\n",
    "\n",
    "flatten_shape = (original_shape[0], original_shape[1] * original_shape[2])\n",
    "print(f\"Flatten shape {flatten_shape}\")\n",
    "reshaped_events = np.reshape(events, flatten_shape)"
   ],
   "metadata": {
    "collapsed": false,
    "pycharm": {
     "name": "#%%\n"
    }
   }
  },
  {
   "cell_type": "code",
   "execution_count": 22,
   "outputs": [],
   "source": [
    "np.savetxt(modules_file_name, reshaped_events)"
   ],
   "metadata": {
    "collapsed": false,
    "pycharm": {
     "name": "#%%\n"
    }
   }
  }
 ],
 "metadata": {
  "kernelspec": {
   "display_name": "Python 3",
   "language": "python",
   "name": "python3"
  },
  "language_info": {
   "codemirror_mode": {
    "name": "ipython",
    "version": 2
   },
   "file_extension": ".py",
   "mimetype": "text/x-python",
   "name": "python",
   "nbconvert_exporter": "python",
   "pygments_lexer": "ipython2",
   "version": "2.7.6"
  }
 },
 "nbformat": 4,
 "nbformat_minor": 0
}