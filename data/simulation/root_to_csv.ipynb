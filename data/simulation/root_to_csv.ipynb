{
 "cells": [
  {
   "cell_type": "code",
   "execution_count": 1,
   "outputs": [
    {
     "name": "stdout",
     "output_type": "stream",
     "text": [
      "Believed path is: /home/romanov/eic/eic_ai_pid/data/simulation\n"
     ]
    }
   ],
   "source": [
    "import uproot\n",
    "import matplotlib\n",
    "import matplotlib.pyplot as plt\n",
    "import awkward as ak\n",
    "import hist\n",
    "import numpy as np\n",
    "from event_display import gdml_read_ecal_info\n",
    "import os\n",
    "\n",
    "%matplotlib inline\n",
    "matplotlib.rc(\"figure\", dpi=200)\n",
    "\n",
    "dir_path = os.path.dirname(os.path.realpath(\"__file__\"))\n",
    "print(f\"Believed path is: {dir_path}\")"
   ],
   "metadata": {
    "collapsed": false,
    "pycharm": {
     "name": "#%%\n"
    }
   }
  },
  {
   "cell_type": "code",
   "execution_count": 2,
   "outputs": [],
   "source": [
    "# Data file name\n",
    "#data_file_name = f\"{dir_path}/data/test_gun.edm4hep.root\"\n",
    "file_with_event_num = 100\n",
    "root_file_name = f\"{dir_path}/../disk_gun_electrons_0-15GeV_{file_with_event_num}ev.edm4hep.root\"\n",
    "modules_file_name = f'{dir_path}/../disk_gun_electrons_0-15GeV_{file_with_event_num}ev.modules.csv'\n",
    "energy_file_name = f'{dir_path}/../disk_gun_electrons_0-15GeV_{file_with_event_num}ev.energy.csv'\n",
    "position_file_name = f'{dir_path}/../disk_gun_electrons_0-15GeV_{file_with_event_num}ev.position.csv'"
   ],
   "metadata": {
    "collapsed": false,
    "pycharm": {
     "name": "#%%\n"
    }
   }
  },
  {
   "cell_type": "code",
   "execution_count": 3,
   "outputs": [
    {
     "name": "stdout",
     "output_type": "stream",
     "text": [
      "[[True], [True, False], [True, False, False, False]]\n",
      "[[0], [0, 1.36], [0, 9.45, 9.45, 9.48]]\n",
      "[[0.000511], [0.000511, 0.94], [0.000511, 0.000511, 0, 0.000511]]\n",
      "[[2.14], [10.1], [5.89]]\n",
      "[ 2.14009718 10.11437696  5.88834766]\n"
     ]
    }
   ],
   "source": [
    "# Open root file and get \"events\" tree from it\n",
    "tree = uproot.open(root_file_name)[\"events\"]\n",
    "\n",
    "# Number of events to process:\n",
    "entry_start = 0                  # (!) Try changing those\n",
    "entry_stop = file_with_event_num                 # <==\n",
    "\n",
    "gen_status = tree['MCParticles/MCParticles.generatorStatus'].array(entry_start=entry_start, entry_stop=entry_stop)\n",
    "\n",
    "stable_only = gen_status > 0\n",
    "# stable_only = stable_only[stable_only]\n",
    "\n",
    "times = tree['MCParticles/MCParticles.time'].array(entry_start=entry_start, entry_stop=entry_stop)\n",
    "masses = tree['MCParticles/MCParticles.mass'].array(entry_start=entry_start, entry_stop=entry_stop)\n",
    "print(stable_only[:3])\n",
    "print(times[:3])\n",
    "print(masses[:3])\n",
    "\n",
    "px = tree['MCParticles/MCParticles.momentum.x'].array(entry_start=entry_start, entry_stop=entry_stop)\n",
    "py = tree['MCParticles/MCParticles.momentum.y'].array(entry_start=entry_start, entry_stop=entry_stop)\n",
    "pz = tree['MCParticles/MCParticles.momentum.z'].array(entry_start=entry_start, entry_stop=entry_stop)\n",
    "pdg = tree['MCParticles/MCParticles.PDG'].array(entry_start=entry_start, entry_stop=entry_stop)\n",
    "\n",
    "masses = masses[stable_only]\n",
    "px = px[stable_only]\n",
    "py = py[stable_only]\n",
    "pz = pz[stable_only]\n",
    "\n",
    "e = np.sqrt(masses*masses + px*px + py*py + pz*pz)\n",
    "print(e[:3])\n",
    "\n",
    "e = ak.flatten(e).to_numpy()\n",
    "print(e[:3])\n",
    "# Read energies, x and y positions\n",
    "# Flatten arrays for simplicity\n",
    "#energies = get_flatten_branch_data('EcalEndcapNHits/EcalEndcapNHits.energy')\n",
    "#hits_x = get_flatten_branch_data('EcalEndcapNHits/EcalEndcapNHits.position.x')\n",
    "#hits_y = get_flatten_branch_data('EcalEndcapNHits/EcalEndcapNHits.position.y')"
   ],
   "metadata": {
    "collapsed": false,
    "pycharm": {
     "name": "#%%\n"
    }
   }
  },
  {
   "cell_type": "code",
   "execution_count": 4,
   "outputs": [],
   "source": [
    "np.savetxt(energy_file_name, e, comments=\"True energy of events [GeV]\")"
   ],
   "metadata": {
    "collapsed": false,
    "pycharm": {
     "name": "#%%\n"
    }
   }
  },
  {
   "cell_type": "code",
   "execution_count": 5,
   "outputs": [],
   "source": [
    "pos_x = tree['MCParticles/MCParticles.vertex.x'].array(entry_start=entry_start, entry_stop=entry_stop)\n",
    "pos_y = tree['MCParticles/MCParticles.vertex.y'].array(entry_start=entry_start, entry_stop=entry_stop)\n",
    "pos_z = tree['MCParticles/MCParticles.vertex.z'].array(entry_start=entry_start, entry_stop=entry_stop)\n",
    "pos_x = ak.flatten(pos_x[stable_only]).to_numpy()\n",
    "pos_y = ak.flatten(pos_y[stable_only]).to_numpy()\n",
    "pos_z = ak.flatten(pos_z[stable_only]).to_numpy()\n",
    "\n",
    "pos = np.column_stack((pos_x, pos_y, pos_z))\n",
    "np.shape(pos)\n",
    "np.savetxt(position_file_name, e, comments=\"True position of particle vertex [mm] (direction is 0,0,-1)\")"
   ],
   "metadata": {
    "collapsed": false,
    "pycharm": {
     "name": "#%%\n"
    }
   }
  },
  {
   "cell_type": "code",
   "execution_count": 6,
   "outputs": [
    {
     "data": {
      "text/plain": "array([[-4.85925549e+01, -4.75319991e+02, -1.90000000e+03],\n       [-5.92147767e+00,  5.16688287e+02, -1.90000000e+03],\n       [-1.46352833e+02,  5.76331735e+02, -1.90000000e+03],\n       [ 1.96075812e+02,  1.20302661e+02, -1.90000000e+03],\n       [ 1.80698026e+02, -5.76469656e+02, -1.90000000e+03],\n       [-2.94188632e-01,  4.23907240e+02, -1.90000000e+03],\n       [-3.93884931e+02, -1.79783297e+02, -1.90000000e+03],\n       [ 1.35897826e+02, -4.64052350e+01, -1.90000000e+03],\n       [-3.09892846e+01,  6.47528503e+01, -1.90000000e+03],\n       [-3.73553257e+02,  3.35101546e+02, -1.90000000e+03],\n       [ 1.99121212e+02,  3.76715659e+02, -1.90000000e+03],\n       [ 3.35555970e+02, -2.97590308e+02, -1.90000000e+03],\n       [ 9.80595415e+01,  4.78968478e+02, -1.90000000e+03],\n       [-5.69045388e+02,  6.91979279e+01, -1.90000000e+03],\n       [ 1.79020831e+02,  6.35839350e+00, -1.90000000e+03],\n       [ 4.59136378e+02, -7.47149100e+01, -1.90000000e+03],\n       [-1.33628112e+02, -2.84267782e+02, -1.90000000e+03],\n       [ 6.75213523e+02,  1.56066514e+02, -1.90000000e+03],\n       [ 3.98676908e+02,  4.99531593e+02, -1.90000000e+03],\n       [ 4.35598585e+02,  5.43956264e+02, -1.90000000e+03],\n       [-1.45669338e+02,  6.84065596e+02, -1.90000000e+03],\n       [-4.33144889e+02, -1.72906929e+02, -1.90000000e+03],\n       [-4.40141478e+02, -4.94383990e+02, -1.90000000e+03],\n       [-1.05211088e+02, -5.56055435e+02, -1.90000000e+03],\n       [-2.36763174e+02, -2.23949635e+01, -1.90000000e+03],\n       [-2.37998415e+02, -3.46157873e+02, -1.90000000e+03],\n       [ 5.93082673e+02, -2.75274411e+02, -1.90000000e+03],\n       [-5.32489938e+02, -3.59266765e+01, -1.90000000e+03],\n       [-1.00834320e+02,  5.92409053e+02, -1.90000000e+03],\n       [ 1.81594823e+02,  1.37495074e+02, -1.90000000e+03],\n       [ 6.79499347e+02,  3.61869406e+01, -1.90000000e+03],\n       [ 3.85454085e+02,  2.10635130e+02, -1.90000000e+03],\n       [-3.71323630e+02,  5.66103105e+02, -1.90000000e+03],\n       [ 4.28973824e+02,  1.95546914e+02, -1.90000000e+03],\n       [-5.10233337e+02,  7.89789515e+01, -1.90000000e+03],\n       [-3.63831214e+02, -2.85601504e+02, -1.90000000e+03],\n       [ 5.49672922e+02,  3.63405110e+02, -1.90000000e+03],\n       [ 6.62498818e+00, -3.57833514e+01, -1.90000000e+03],\n       [-6.65802411e+02, -2.03130052e+02, -1.90000000e+03],\n       [-2.19587014e+01,  5.27828046e+02, -1.90000000e+03],\n       [-4.44827637e+01,  3.60380788e+02, -1.90000000e+03],\n       [-2.29905800e+01,  1.88255337e+02, -1.90000000e+03],\n       [-3.12530770e+02,  2.03064373e+02, -1.90000000e+03],\n       [ 4.09889625e+02, -4.90319990e+01, -1.90000000e+03],\n       [-1.69621774e+02,  3.07420942e+02, -1.90000000e+03],\n       [-4.77677982e+02, -4.91956358e+01, -1.90000000e+03],\n       [ 5.33907504e+02,  4.28135897e+02, -1.90000000e+03],\n       [-1.17546800e+02,  4.29571226e+02, -1.90000000e+03],\n       [-2.95544939e+02, -5.74376118e+02, -1.90000000e+03],\n       [-6.12198470e+01,  4.19719506e+01, -1.90000000e+03],\n       [ 2.32854413e+02, -4.55120233e+02, -1.90000000e+03],\n       [ 3.72045331e+02, -3.82281155e+02, -1.90000000e+03],\n       [ 4.22387079e+02,  1.52514290e+02, -1.90000000e+03],\n       [ 1.48805060e+02, -5.35954899e+02, -1.90000000e+03],\n       [-2.34080648e+02,  6.36549244e+02, -1.90000000e+03],\n       [ 1.77263156e+02,  2.78129669e+02, -1.90000000e+03],\n       [-4.14304960e+02,  1.56729201e+02, -1.90000000e+03],\n       [-2.58416922e+02,  6.67229039e+00, -1.90000000e+03],\n       [-5.84278939e+02, -1.46111900e+02, -1.90000000e+03],\n       [-4.77162499e+02, -1.39708192e+02, -1.90000000e+03],\n       [ 2.97324883e+02,  4.48695607e+02, -1.90000000e+03],\n       [ 4.71895187e+02, -5.08674970e+02, -1.90000000e+03],\n       [-2.11579606e+02, -5.60139492e+02, -1.90000000e+03],\n       [ 4.36458595e+02,  1.04870954e+02, -1.90000000e+03],\n       [-5.96066689e+02,  3.47780524e+02, -1.90000000e+03],\n       [-1.12010417e+02,  6.73835491e+02, -1.90000000e+03],\n       [-8.05841796e+01, -6.56023199e+02, -1.90000000e+03],\n       [-3.22435834e+02,  5.64459744e+02, -1.90000000e+03],\n       [-3.40059846e+02,  2.38276976e+01, -1.90000000e+03],\n       [ 6.50715573e+02,  2.26521464e+02, -1.90000000e+03],\n       [-2.81031193e+02, -2.86743748e+02, -1.90000000e+03],\n       [-5.05441293e+02,  4.15494343e+01, -1.90000000e+03],\n       [ 4.14162403e+02,  1.90126060e+02, -1.90000000e+03],\n       [-2.79803151e+02, -4.27055866e+02, -1.90000000e+03],\n       [-6.17103394e+02,  7.56141833e+01, -1.90000000e+03],\n       [-2.15038259e+02, -5.78553486e+02, -1.90000000e+03],\n       [-4.04039628e+02,  2.07647842e+02, -1.90000000e+03],\n       [ 4.46736966e+02,  2.90149631e+02, -1.90000000e+03],\n       [-1.69646617e+02, -1.03033218e+02, -1.90000000e+03],\n       [ 1.38860684e+02, -3.53194081e+02, -1.90000000e+03],\n       [ 2.26134569e+02,  6.52754348e+02, -1.90000000e+03],\n       [ 8.76026551e+01,  4.76343162e+02, -1.90000000e+03],\n       [-3.03348537e+02,  4.96154413e+02, -1.90000000e+03],\n       [-2.83061069e+02, -7.23702403e+01, -1.90000000e+03],\n       [ 2.93909618e+02,  2.67649704e+02, -1.90000000e+03],\n       [-3.39929567e+02, -3.89459465e+02, -1.90000000e+03],\n       [ 3.92929073e+02,  5.52134998e+02, -1.90000000e+03],\n       [ 3.68055778e+02, -4.95627925e+02, -1.90000000e+03],\n       [-3.18784161e+02,  4.24513652e+02, -1.90000000e+03],\n       [-4.76058706e+02, -3.74842653e+02, -1.90000000e+03],\n       [ 4.15008428e+02,  1.77000223e+02, -1.90000000e+03],\n       [ 3.05892951e+02, -4.53382910e+02, -1.90000000e+03],\n       [ 3.77513613e+02,  1.55582570e+02, -1.90000000e+03],\n       [-3.58695183e+02, -3.58226660e+02, -1.90000000e+03],\n       [-2.57341781e+02, -2.42752521e+02, -1.90000000e+03],\n       [-2.08770145e+02,  5.82684427e+01, -1.90000000e+03],\n       [-4.23505746e+02,  9.02372891e+00, -1.90000000e+03],\n       [-1.81924435e+02,  6.29637752e+02, -1.90000000e+03],\n       [ 1.16838219e+02, -4.06352305e+02, -1.90000000e+03],\n       [ 4.41435401e+02,  1.15159132e+02, -1.90000000e+03]])"
     },
     "execution_count": 6,
     "metadata": {},
     "output_type": "execute_result"
    }
   ],
   "source": [
    "pos[:,:5]"
   ],
   "metadata": {
    "collapsed": false,
    "pycharm": {
     "name": "#%%\n"
    }
   }
  },
  {
   "cell_type": "code",
   "execution_count": 7,
   "outputs": [
    {
     "data": {
      "text/plain": "'/home/romanov/eic/eic_ai_pid/data/simulation/../disk_gun_electrons_0-15GeV_100ev.position.csv'"
     },
     "execution_count": 7,
     "metadata": {},
     "output_type": "execute_result"
    }
   ],
   "source": [
    "position_file_name"
   ],
   "metadata": {
    "collapsed": false,
    "pycharm": {
     "name": "#%%\n"
    }
   }
  },
  {
   "cell_type": "code",
   "execution_count": 8,
   "outputs": [
    {
     "name": "stdout",
     "output_type": "stream",
     "text": [
      "module_size_x    : 20.5\n",
      "module_size_y    : 20.5\n",
      "module_size_z    : 200.0\n",
      "total_modules    : 2816\n",
      "num_modules_x    : 61\n",
      "num_modules_y    : 61\n",
      "min_x            : -615.0\n",
      "max_x            : 615.0\n",
      "min_y            : -615.0\n",
      "max_y            : 615.0\n",
      "min_z            : 0.0\n",
      "max_z            : 0.0\n",
      "border_left      : -625.25\n",
      "border_right     : 625.25\n",
      "border_top       : 625.25\n",
      "border_bottom    : -625.25\n",
      "unit             : mm\n"
     ]
    }
   ],
   "source": [
    "# Load geometry file\n",
    "ecal_info = gdml_read_ecal_info(f\"{dir_path}/../ecce.gdml\")\n",
    "\n",
    "# ecal_info is of EcalGeoInfo class, which is a helper holding information\n",
    "# about all needed ecal geometries.\n",
    "# Print what information it holds:\n",
    "ecal_info.print()"
   ],
   "metadata": {
    "collapsed": false,
    "pycharm": {
     "name": "#%%\n"
    }
   }
  },
  {
   "cell_type": "code",
   "execution_count": 9,
   "outputs": [],
   "source": [
    "events = ecal_info.read_events_from_file(root_file_name, 0, 1000)"
   ],
   "metadata": {
    "collapsed": false,
    "pycharm": {
     "name": "#%%\n"
    }
   }
  },
  {
   "cell_type": "code",
   "execution_count": 10,
   "outputs": [
    {
     "name": "stdout",
     "output_type": "stream",
     "text": [
      "Original shape (1000, 61, 61)\n",
      "Flatten shape (1000, 3721)\n"
     ]
    }
   ],
   "source": [
    "original_shape = np.shape(events)\n",
    "print(f\"Original shape {original_shape}\")\n",
    "\n",
    "flatten_shape = (original_shape[0], original_shape[1] * original_shape[2])\n",
    "print(f\"Flatten shape {flatten_shape}\")\n",
    "reshaped_events = np.reshape(events, flatten_shape)"
   ],
   "metadata": {
    "collapsed": false,
    "pycharm": {
     "name": "#%%\n"
    }
   }
  },
  {
   "cell_type": "code",
   "execution_count": 11,
   "outputs": [],
   "source": [
    "np.savetxt(modules_file_name, reshaped_events)"
   ],
   "metadata": {
    "collapsed": false,
    "pycharm": {
     "name": "#%%\n"
    }
   }
  }
 ],
 "metadata": {
  "kernelspec": {
   "display_name": "Python 3",
   "language": "python",
   "name": "python3"
  },
  "language_info": {
   "codemirror_mode": {
    "name": "ipython",
    "version": 2
   },
   "file_extension": ".py",
   "mimetype": "text/x-python",
   "name": "python",
   "nbconvert_exporter": "python",
   "pygments_lexer": "ipython2",
   "version": "2.7.6"
  }
 },
 "nbformat": 4,
 "nbformat_minor": 0
}