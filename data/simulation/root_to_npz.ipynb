{
 "cells": [
  {
   "cell_type": "code",
   "execution_count": 6,
   "outputs": [
    {
     "name": "stdout",
     "output_type": "stream",
     "text": [
      "Believed path is: /home/romanov/eic/eic_ai_pid/data/simulation\n"
     ]
    }
   ],
   "source": [
    "import uproot\n",
    "import matplotlib\n",
    "import matplotlib.pyplot as plt\n",
    "import awkward as ak\n",
    "import hist\n",
    "import numpy as np\n",
    "from event_display import gdml_read_ecal_info\n",
    "import os\n",
    "\n",
    "%matplotlib inline\n",
    "matplotlib.rc(\"figure\", dpi=200)\n",
    "\n",
    "dir_path = os.path.dirname(os.path.realpath(\"__file__\"))\n",
    "print(f\"Believed path is: {dir_path}\")"
   ],
   "metadata": {
    "collapsed": false,
    "pycharm": {
     "name": "#%%\n"
    }
   }
  },
  {
   "cell_type": "code",
   "execution_count": 7,
   "outputs": [],
   "source": [
    "# Data file name\n",
    "#data_file_name = f\"{dir_path}/data/test_gun.edm4hep.root\"\n",
    "file_event_num = 100000\n",
    "\n",
    "# Number of events to process:\n",
    "entry_start = 0                     # (!) Try changing those\n",
    "entry_stop = file_event_num         # <==\n",
    "events_to_read = entry_stop-entry_start\n",
    "\n",
    "base_name = 'disk_gun_piminus_0-15GeV'\n",
    "root_file_name = f\"{dir_path}/../{base_name}_{file_event_num}ev.edm4hep.root\"\n",
    "output_file = f'{dir_path}/../{base_name}_{file_event_num}ev.npz'"
   ],
   "metadata": {
    "collapsed": false,
    "pycharm": {
     "name": "#%%\n"
    }
   }
  },
  {
   "cell_type": "code",
   "execution_count": 8,
   "outputs": [],
   "source": [
    "# Open root file and get \"events\" tree from it\n",
    "tree = uproot.open(root_file_name)[\"events\"]\n",
    "\n",
    "# Read fields from a file\n",
    "gen_status = tree['MCParticles/MCParticles.generatorStatus'].array(entry_start=entry_start, entry_stop=entry_stop)\n",
    "masses = tree['MCParticles/MCParticles.mass'].array(entry_start=entry_start, entry_stop=entry_stop)\n",
    "px = tree['MCParticles/MCParticles.momentum.x'].array(entry_start=entry_start, entry_stop=entry_stop)\n",
    "py = tree['MCParticles/MCParticles.momentum.y'].array(entry_start=entry_start, entry_stop=entry_stop)\n",
    "pz = tree['MCParticles/MCParticles.momentum.z'].array(entry_start=entry_start, entry_stop=entry_stop)\n",
    "pdg = tree['MCParticles/MCParticles.PDG'].array(entry_start=entry_start, entry_stop=entry_stop)\n",
    "pos_x = tree['MCParticles/MCParticles.vertex.x'].array(entry_start=entry_start, entry_stop=entry_stop)\n",
    "pos_y = tree['MCParticles/MCParticles.vertex.y'].array(entry_start=entry_start, entry_stop=entry_stop)\n",
    "pos_z = tree['MCParticles/MCParticles.vertex.z'].array(entry_start=entry_start, entry_stop=entry_stop)\n",
    "\n",
    "# 'stable' are particles from particle gun\n",
    "stable_only = gen_status > 0\n",
    "\n",
    "# filter other particles\n",
    "masses = masses[stable_only]\n",
    "px = px[stable_only]\n",
    "py = py[stable_only]\n",
    "pz = pz[stable_only]\n",
    "pdg = pdg[stable_only]\n",
    "pos_x = ak.flatten(pos_x[stable_only]).to_numpy()\n",
    "pos_y = ak.flatten(pos_y[stable_only]).to_numpy()\n",
    "pos_z = ak.flatten(pos_z[stable_only]).to_numpy()\n",
    "\n",
    "# calculate energy\n",
    "energies = np.sqrt(masses * masses + px * px + py * py + pz * pz)\n",
    "energies = ak.flatten(energies).to_numpy()\n"
   ],
   "metadata": {
    "collapsed": false,
    "pycharm": {
     "name": "#%%\n"
    }
   }
  },
  {
   "cell_type": "code",
   "execution_count": 9,
   "outputs": [
    {
     "name": "stdout",
     "output_type": "stream",
     "text": [
      "100000\n"
     ]
    }
   ],
   "source": [
    "assert len(pos_x)==events_to_read\n",
    "assert len(pos_y)==events_to_read\n",
    "assert len(energies)==events_to_read"
   ],
   "metadata": {
    "collapsed": false,
    "pycharm": {
     "name": "#%%\n"
    }
   }
  },
  {
   "cell_type": "code",
   "execution_count": 10,
   "outputs": [
    {
     "name": "stdout",
     "output_type": "stream",
     "text": [
      "module_size_x    : 20.5\n",
      "module_size_y    : 20.5\n",
      "module_size_z    : 200.0\n",
      "total_modules    : 2816\n",
      "num_modules_x    : 61\n",
      "num_modules_y    : 61\n",
      "min_x            : -615.0\n",
      "max_x            : 615.0\n",
      "min_y            : -615.0\n",
      "max_y            : 615.0\n",
      "min_z            : 0.0\n",
      "max_z            : 0.0\n",
      "border_left      : -625.25\n",
      "border_right     : 625.25\n",
      "border_top       : 625.25\n",
      "border_bottom    : -625.25\n",
      "unit             : mm\n"
     ]
    }
   ],
   "source": [
    "# Load geometry file\n",
    "ecal_info = gdml_read_ecal_info(f\"{dir_path}/../ecce.gdml\")\n",
    "\n",
    "# ecal_info is of EcalGeoInfo class, which is a helper holding information\n",
    "# about all needed ecal geometries.\n",
    "# Print what information it holds:\n",
    "ecal_info.print()"
   ],
   "metadata": {
    "collapsed": false,
    "pycharm": {
     "name": "#%%\n"
    }
   }
  },
  {
   "cell_type": "code",
   "execution_count": 11,
   "outputs": [
    {
     "ename": "KeyboardInterrupt",
     "evalue": "",
     "output_type": "error",
     "traceback": [
      "\u001B[0;31m---------------------------------------------------------------------------\u001B[0m",
      "\u001B[0;31mKeyboardInterrupt\u001B[0m                         Traceback (most recent call last)",
      "Input \u001B[0;32mIn [11]\u001B[0m, in \u001B[0;36m<cell line: 1>\u001B[0;34m()\u001B[0m\n\u001B[0;32m----> 1\u001B[0m events \u001B[38;5;241m=\u001B[39m \u001B[43mecal_info\u001B[49m\u001B[38;5;241;43m.\u001B[39;49m\u001B[43mread_events_from_file\u001B[49m\u001B[43m(\u001B[49m\u001B[43mroot_file_name\u001B[49m\u001B[43m,\u001B[49m\u001B[43m \u001B[49m\u001B[38;5;241;43m0\u001B[39;49m\u001B[43m,\u001B[49m\u001B[43m \u001B[49m\u001B[43mfile_event_num\u001B[49m\u001B[43m)\u001B[49m\n",
      "File \u001B[0;32m~/eic/eic_ai_pid/event_display.py:148\u001B[0m, in \u001B[0;36mEcalGeomInfo.read_events_from_file\u001B[0;34m(self, data_file_name, entry_start, entry_stop)\u001B[0m\n\u001B[1;32m    144\u001B[0m energies \u001B[38;5;241m=\u001B[39m ak\u001B[38;5;241m.\u001B[39mflatten(tree[\u001B[38;5;124m'\u001B[39m\u001B[38;5;124mEcalEndcapNHits/EcalEndcapNHits.energy\u001B[39m\u001B[38;5;124m'\u001B[39m]\n\u001B[1;32m    145\u001B[0m                       \u001B[38;5;241m.\u001B[39marray(entry_start\u001B[38;5;241m=\u001B[39mi, entry_stop\u001B[38;5;241m=\u001B[39mi\u001B[38;5;241m+\u001B[39m\u001B[38;5;241m1\u001B[39m))\u001B[38;5;241m.\u001B[39mto_numpy()\n\u001B[1;32m    146\u001B[0m hits_x \u001B[38;5;241m=\u001B[39m ak\u001B[38;5;241m.\u001B[39mflatten(tree[\u001B[38;5;124m'\u001B[39m\u001B[38;5;124mEcalEndcapNHits/EcalEndcapNHits.position.x\u001B[39m\u001B[38;5;124m'\u001B[39m]\n\u001B[1;32m    147\u001B[0m                     \u001B[38;5;241m.\u001B[39marray(entry_start\u001B[38;5;241m=\u001B[39mi, entry_stop\u001B[38;5;241m=\u001B[39mi\u001B[38;5;241m+\u001B[39m\u001B[38;5;241m1\u001B[39m))\u001B[38;5;241m.\u001B[39mto_numpy()\n\u001B[0;32m--> 148\u001B[0m hits_y \u001B[38;5;241m=\u001B[39m ak\u001B[38;5;241m.\u001B[39mflatten(\u001B[43mtree\u001B[49m\u001B[43m[\u001B[49m\u001B[38;5;124;43m'\u001B[39;49m\u001B[38;5;124;43mEcalEndcapNHits/EcalEndcapNHits.position.y\u001B[39;49m\u001B[38;5;124;43m'\u001B[39;49m\u001B[43m]\u001B[49m\n\u001B[1;32m    149\u001B[0m \u001B[43m                    \u001B[49m\u001B[38;5;241;43m.\u001B[39;49m\u001B[43marray\u001B[49m\u001B[43m(\u001B[49m\u001B[43mentry_start\u001B[49m\u001B[38;5;241;43m=\u001B[39;49m\u001B[43mi\u001B[49m\u001B[43m,\u001B[49m\u001B[43m \u001B[49m\u001B[43mentry_stop\u001B[49m\u001B[38;5;241;43m=\u001B[39;49m\u001B[43mi\u001B[49m\u001B[38;5;241;43m+\u001B[39;49m\u001B[38;5;241;43m1\u001B[39;49m\u001B[43m)\u001B[49m)\u001B[38;5;241m.\u001B[39mto_numpy()\n\u001B[1;32m    150\u001B[0m hits_y \u001B[38;5;241m=\u001B[39m ak\u001B[38;5;241m.\u001B[39mflatten(tree[\u001B[38;5;124m'\u001B[39m\u001B[38;5;124mEcalEndcapNHits/EcalEndcapNHits.position.y\u001B[39m\u001B[38;5;124m'\u001B[39m]\n\u001B[1;32m    151\u001B[0m                     \u001B[38;5;241m.\u001B[39marray(entry_start\u001B[38;5;241m=\u001B[39mi, entry_stop\u001B[38;5;241m=\u001B[39mi \u001B[38;5;241m+\u001B[39m \u001B[38;5;241m1\u001B[39m))\u001B[38;5;241m.\u001B[39mto_numpy()\n\u001B[1;32m    152\u001B[0m input_values[current_event] \u001B[38;5;241m=\u001B[39m \u001B[38;5;28mself\u001B[39m\u001B[38;5;241m.\u001B[39marrays_to_event(energies, hits_x, hits_y)\n",
      "File \u001B[0;32m~/anaconda3/envs/ai/lib/python3.9/site-packages/uproot/behaviors/TBranch.py:2078\u001B[0m, in \u001B[0;36mTBranch.array\u001B[0;34m(self, interpretation, entry_start, entry_stop, decompression_executor, interpretation_executor, array_cache, library)\u001B[0m\n\u001B[1;32m   2072\u001B[0m             \u001B[38;5;28;01mfor\u001B[39;00m (\n\u001B[1;32m   2073\u001B[0m                 basket_num,\n\u001B[1;32m   2074\u001B[0m                 range_or_basket,\n\u001B[1;32m   2075\u001B[0m             ) \u001B[38;5;129;01min\u001B[39;00m branch\u001B[38;5;241m.\u001B[39mentries_to_ranges_or_baskets(entry_start, entry_stop):\n\u001B[1;32m   2076\u001B[0m                 ranges_or_baskets\u001B[38;5;241m.\u001B[39mappend((branch, basket_num, range_or_basket))\n\u001B[0;32m-> 2078\u001B[0m \u001B[43m_ranges_or_baskets_to_arrays\u001B[49m\u001B[43m(\u001B[49m\n\u001B[1;32m   2079\u001B[0m \u001B[43m    \u001B[49m\u001B[38;5;28;43mself\u001B[39;49m\u001B[43m,\u001B[49m\n\u001B[1;32m   2080\u001B[0m \u001B[43m    \u001B[49m\u001B[43mranges_or_baskets\u001B[49m\u001B[43m,\u001B[49m\n\u001B[1;32m   2081\u001B[0m \u001B[43m    \u001B[49m\u001B[43mbranchid_interpretation\u001B[49m\u001B[43m,\u001B[49m\n\u001B[1;32m   2082\u001B[0m \u001B[43m    \u001B[49m\u001B[43mentry_start\u001B[49m\u001B[43m,\u001B[49m\n\u001B[1;32m   2083\u001B[0m \u001B[43m    \u001B[49m\u001B[43mentry_stop\u001B[49m\u001B[43m,\u001B[49m\n\u001B[1;32m   2084\u001B[0m \u001B[43m    \u001B[49m\u001B[43mdecompression_executor\u001B[49m\u001B[43m,\u001B[49m\n\u001B[1;32m   2085\u001B[0m \u001B[43m    \u001B[49m\u001B[43minterpretation_executor\u001B[49m\u001B[43m,\u001B[49m\n\u001B[1;32m   2086\u001B[0m \u001B[43m    \u001B[49m\u001B[43mlibrary\u001B[49m\u001B[43m,\u001B[49m\n\u001B[1;32m   2087\u001B[0m \u001B[43m    \u001B[49m\u001B[43marrays\u001B[49m\u001B[43m,\u001B[49m\n\u001B[1;32m   2088\u001B[0m \u001B[43m    \u001B[49m\u001B[38;5;28;43;01mFalse\u001B[39;49;00m\u001B[43m,\u001B[49m\n\u001B[1;32m   2089\u001B[0m \u001B[43m\u001B[49m\u001B[43m)\u001B[49m\n\u001B[1;32m   2091\u001B[0m _fix_asgrouped(\n\u001B[1;32m   2092\u001B[0m     arrays, expression_context, branchid_interpretation, library, \u001B[38;5;28;01mNone\u001B[39;00m\n\u001B[1;32m   2093\u001B[0m )\n\u001B[1;32m   2095\u001B[0m \u001B[38;5;28;01mif\u001B[39;00m array_cache \u001B[38;5;129;01mis\u001B[39;00m \u001B[38;5;129;01mnot\u001B[39;00m \u001B[38;5;28;01mNone\u001B[39;00m:\n",
      "File \u001B[0;32m~/anaconda3/envs/ai/lib/python3.9/site-packages/uproot/behaviors/TBranch.py:3493\u001B[0m, in \u001B[0;36m_ranges_or_baskets_to_arrays\u001B[0;34m(hasbranches, ranges_or_baskets, branchid_interpretation, entry_start, entry_stop, decompression_executor, interpretation_executor, library, arrays, update_ranges_or_baskets)\u001B[0m\n\u001B[1;32m   3491\u001B[0m \u001B[38;5;28;01mif\u001B[39;00m \u001B[38;5;28misinstance\u001B[39m(obj, uproot\u001B[38;5;241m.\u001B[39msource\u001B[38;5;241m.\u001B[39mchunk\u001B[38;5;241m.\u001B[39mChunk):\n\u001B[1;32m   3492\u001B[0m     args \u001B[38;5;241m=\u001B[39m range_args[(obj\u001B[38;5;241m.\u001B[39mstart, obj\u001B[38;5;241m.\u001B[39mstop)]\n\u001B[0;32m-> 3493\u001B[0m     \u001B[43mdecompression_executor\u001B[49m\u001B[38;5;241;43m.\u001B[39;49m\u001B[43msubmit\u001B[49m\u001B[43m(\u001B[49m\u001B[43mchunk_to_basket\u001B[49m\u001B[43m,\u001B[49m\u001B[43m \u001B[49m\u001B[43mobj\u001B[49m\u001B[43m,\u001B[49m\u001B[43m \u001B[49m\u001B[38;5;241;43m*\u001B[39;49m\u001B[43margs\u001B[49m\u001B[43m)\u001B[49m\n\u001B[1;32m   3495\u001B[0m \u001B[38;5;28;01melif\u001B[39;00m \u001B[38;5;28misinstance\u001B[39m(obj, uproot\u001B[38;5;241m.\u001B[39mmodels\u001B[38;5;241m.\u001B[39mTBasket\u001B[38;5;241m.\u001B[39mModel_TBasket):\n\u001B[1;32m   3496\u001B[0m     interpretation_executor\u001B[38;5;241m.\u001B[39msubmit(basket_to_array, obj)\n",
      "File \u001B[0;32m~/anaconda3/envs/ai/lib/python3.9/site-packages/uproot/source/futures.py:73\u001B[0m, in \u001B[0;36mTrivialExecutor.submit\u001B[0;34m(self, task, *args)\u001B[0m\n\u001B[1;32m     69\u001B[0m \u001B[38;5;28;01mdef\u001B[39;00m \u001B[38;5;21msubmit\u001B[39m(\u001B[38;5;28mself\u001B[39m, task, \u001B[38;5;241m*\u001B[39margs):\n\u001B[1;32m     70\u001B[0m     \u001B[38;5;124;03m\"\"\"\u001B[39;00m\n\u001B[1;32m     71\u001B[0m \u001B[38;5;124;03m    Immediately runs ``task(*args)``.\u001B[39;00m\n\u001B[1;32m     72\u001B[0m \u001B[38;5;124;03m    \"\"\"\u001B[39;00m\n\u001B[0;32m---> 73\u001B[0m     \u001B[38;5;28;01mreturn\u001B[39;00m TrivialFuture(\u001B[43mtask\u001B[49m\u001B[43m(\u001B[49m\u001B[38;5;241;43m*\u001B[39;49m\u001B[43margs\u001B[49m\u001B[43m)\u001B[49m)\n",
      "File \u001B[0;32m~/anaconda3/envs/ai/lib/python3.9/site-packages/uproot/behaviors/TBranch.py:3423\u001B[0m, in \u001B[0;36m_ranges_or_baskets_to_arrays.<locals>.chunk_to_basket\u001B[0;34m(chunk, branch, basket_num)\u001B[0m\n\u001B[1;32m   3421\u001B[0m \u001B[38;5;28;01mtry\u001B[39;00m:\n\u001B[1;32m   3422\u001B[0m     cursor \u001B[38;5;241m=\u001B[39m uproot\u001B[38;5;241m.\u001B[39msource\u001B[38;5;241m.\u001B[39mcursor\u001B[38;5;241m.\u001B[39mCursor(chunk\u001B[38;5;241m.\u001B[39mstart)\n\u001B[0;32m-> 3423\u001B[0m     basket \u001B[38;5;241m=\u001B[39m \u001B[43muproot\u001B[49m\u001B[38;5;241;43m.\u001B[39;49m\u001B[43mmodels\u001B[49m\u001B[38;5;241;43m.\u001B[39;49m\u001B[43mTBasket\u001B[49m\u001B[38;5;241;43m.\u001B[39;49m\u001B[43mModel_TBasket\u001B[49m\u001B[38;5;241;43m.\u001B[39;49m\u001B[43mread\u001B[49m\u001B[43m(\u001B[49m\n\u001B[1;32m   3424\u001B[0m \u001B[43m        \u001B[49m\u001B[43mchunk\u001B[49m\u001B[43m,\u001B[49m\n\u001B[1;32m   3425\u001B[0m \u001B[43m        \u001B[49m\u001B[43mcursor\u001B[49m\u001B[43m,\u001B[49m\n\u001B[1;32m   3426\u001B[0m \u001B[43m        \u001B[49m\u001B[43m{\u001B[49m\u001B[38;5;124;43m\"\u001B[39;49m\u001B[38;5;124;43mbasket_num\u001B[39;49m\u001B[38;5;124;43m\"\u001B[39;49m\u001B[43m:\u001B[49m\u001B[43m \u001B[49m\u001B[43mbasket_num\u001B[49m\u001B[43m}\u001B[49m\u001B[43m,\u001B[49m\n\u001B[1;32m   3427\u001B[0m \u001B[43m        \u001B[49m\u001B[43mhasbranches\u001B[49m\u001B[38;5;241;43m.\u001B[39;49m\u001B[43m_file\u001B[49m\u001B[43m,\u001B[49m\n\u001B[1;32m   3428\u001B[0m \u001B[43m        \u001B[49m\u001B[43mhasbranches\u001B[49m\u001B[38;5;241;43m.\u001B[39;49m\u001B[43m_file\u001B[49m\u001B[43m,\u001B[49m\n\u001B[1;32m   3429\u001B[0m \u001B[43m        \u001B[49m\u001B[43mbranch\u001B[49m\u001B[43m,\u001B[49m\n\u001B[1;32m   3430\u001B[0m \u001B[43m    \u001B[49m\u001B[43m)\u001B[49m\n\u001B[1;32m   3431\u001B[0m     original_index \u001B[38;5;241m=\u001B[39m range_original_index[(chunk\u001B[38;5;241m.\u001B[39mstart, chunk\u001B[38;5;241m.\u001B[39mstop)]\n\u001B[1;32m   3432\u001B[0m     \u001B[38;5;28;01mif\u001B[39;00m update_ranges_or_baskets:\n",
      "File \u001B[0;32m~/anaconda3/envs/ai/lib/python3.9/site-packages/uproot/model.py:805\u001B[0m, in \u001B[0;36mModel.read\u001B[0;34m(cls, chunk, cursor, context, file, selffile, parent, concrete)\u001B[0m\n\u001B[1;32m    800\u001B[0m \u001B[38;5;28;01mif\u001B[39;00m context\u001B[38;5;241m.\u001B[39mget(\u001B[38;5;124m\"\u001B[39m\u001B[38;5;124mreading\u001B[39m\u001B[38;5;124m\"\u001B[39m, \u001B[38;5;28;01mTrue\u001B[39;00m):\n\u001B[1;32m    801\u001B[0m     \u001B[38;5;28mself\u001B[39m\u001B[38;5;241m.\u001B[39mhook_before_read_members(\n\u001B[1;32m    802\u001B[0m         chunk\u001B[38;5;241m=\u001B[39mchunk, cursor\u001B[38;5;241m=\u001B[39mcursor, context\u001B[38;5;241m=\u001B[39mcontext, file\u001B[38;5;241m=\u001B[39mfile\n\u001B[1;32m    803\u001B[0m     )\n\u001B[0;32m--> 805\u001B[0m     \u001B[38;5;28;43mself\u001B[39;49m\u001B[38;5;241;43m.\u001B[39;49m\u001B[43mread_members\u001B[49m\u001B[43m(\u001B[49m\u001B[43mchunk\u001B[49m\u001B[43m,\u001B[49m\u001B[43m \u001B[49m\u001B[43mcursor\u001B[49m\u001B[43m,\u001B[49m\u001B[43m \u001B[49m\u001B[43mcontext\u001B[49m\u001B[43m,\u001B[49m\u001B[43m \u001B[49m\u001B[43mfile\u001B[49m\u001B[43m)\u001B[49m\n\u001B[1;32m    807\u001B[0m     \u001B[38;5;28mself\u001B[39m\u001B[38;5;241m.\u001B[39mhook_after_read_members(\n\u001B[1;32m    808\u001B[0m         chunk\u001B[38;5;241m=\u001B[39mchunk, cursor\u001B[38;5;241m=\u001B[39mcursor, context\u001B[38;5;241m=\u001B[39mcontext, file\u001B[38;5;241m=\u001B[39mfile\n\u001B[1;32m    809\u001B[0m     )\n\u001B[1;32m    811\u001B[0m \u001B[38;5;28mself\u001B[39m\u001B[38;5;241m.\u001B[39mcheck_numbytes(chunk, cursor, context)\n",
      "File \u001B[0;32m~/anaconda3/envs/ai/lib/python3.9/site-packages/uproot/models/TBasket.py:283\u001B[0m, in \u001B[0;36mModel_TBasket.read_members\u001B[0;34m(self, chunk, cursor, context, file)\u001B[0m\n\u001B[1;32m    281\u001B[0m \u001B[38;5;28;01mif\u001B[39;00m compressed_bytes \u001B[38;5;241m!=\u001B[39m uncompressed_bytes:\n\u001B[1;32m    282\u001B[0m     \u001B[38;5;28mself\u001B[39m\u001B[38;5;241m.\u001B[39m_block_compression_info \u001B[38;5;241m=\u001B[39m []\n\u001B[0;32m--> 283\u001B[0m     uncompressed \u001B[38;5;241m=\u001B[39m \u001B[43muproot\u001B[49m\u001B[38;5;241;43m.\u001B[39;49m\u001B[43mcompression\u001B[49m\u001B[38;5;241;43m.\u001B[39;49m\u001B[43mdecompress\u001B[49m\u001B[43m(\u001B[49m\n\u001B[1;32m    284\u001B[0m \u001B[43m        \u001B[49m\u001B[43mchunk\u001B[49m\u001B[43m,\u001B[49m\n\u001B[1;32m    285\u001B[0m \u001B[43m        \u001B[49m\u001B[43mcursor\u001B[49m\u001B[43m,\u001B[49m\n\u001B[1;32m    286\u001B[0m \u001B[43m        \u001B[49m\u001B[43m{\u001B[49m\u001B[43m}\u001B[49m\u001B[43m,\u001B[49m\n\u001B[1;32m    287\u001B[0m \u001B[43m        \u001B[49m\u001B[43mcompressed_bytes\u001B[49m\u001B[43m,\u001B[49m\n\u001B[1;32m    288\u001B[0m \u001B[43m        \u001B[49m\u001B[43muncompressed_bytes\u001B[49m\u001B[43m,\u001B[49m\n\u001B[1;32m    289\u001B[0m \u001B[43m        \u001B[49m\u001B[38;5;28;43mself\u001B[39;49m\u001B[38;5;241;43m.\u001B[39;49m\u001B[43m_block_compression_info\u001B[49m\u001B[43m,\u001B[49m\n\u001B[1;32m    290\u001B[0m \u001B[43m    \u001B[49m\u001B[43m)\u001B[49m\n\u001B[1;32m    291\u001B[0m     \u001B[38;5;28mself\u001B[39m\u001B[38;5;241m.\u001B[39m_block_compression_info \u001B[38;5;241m=\u001B[39m \u001B[38;5;28mtuple\u001B[39m(\u001B[38;5;28mself\u001B[39m\u001B[38;5;241m.\u001B[39m_block_compression_info)\n\u001B[1;32m    292\u001B[0m     \u001B[38;5;28mself\u001B[39m\u001B[38;5;241m.\u001B[39m_raw_data \u001B[38;5;241m=\u001B[39m uncompressed\u001B[38;5;241m.\u001B[39mget(\n\u001B[1;32m    293\u001B[0m         \u001B[38;5;241m0\u001B[39m,\n\u001B[1;32m    294\u001B[0m         uncompressed_bytes,\n\u001B[1;32m    295\u001B[0m         uproot\u001B[38;5;241m.\u001B[39msource\u001B[38;5;241m.\u001B[39mcursor\u001B[38;5;241m.\u001B[39mCursor(\u001B[38;5;241m0\u001B[39m),\n\u001B[1;32m    296\u001B[0m         context,\n\u001B[1;32m    297\u001B[0m     )\n",
      "File \u001B[0;32m~/anaconda3/envs/ai/lib/python3.9/site-packages/uproot/compression.py:413\u001B[0m, in \u001B[0;36mdecompress\u001B[0;34m(chunk, cursor, context, compressed_bytes, uncompressed_bytes, block_info)\u001B[0m\n\u001B[1;32m    408\u001B[0m \u001B[38;5;28;01mif\u001B[39;00m block_info \u001B[38;5;129;01mis\u001B[39;00m \u001B[38;5;129;01mnot\u001B[39;00m \u001B[38;5;28;01mNone\u001B[39;00m:\n\u001B[1;32m    409\u001B[0m     block_info\u001B[38;5;241m.\u001B[39mappend(\n\u001B[1;32m    410\u001B[0m         (decompressor\u001B[38;5;241m.\u001B[39mname, block_compressed_bytes, block_uncompressed_bytes)\n\u001B[1;32m    411\u001B[0m     )\n\u001B[0;32m--> 413\u001B[0m uncompressed_bytestring \u001B[38;5;241m=\u001B[39m \u001B[43mdecompressor\u001B[49m\u001B[38;5;241;43m.\u001B[39;49m\u001B[43mdecompress\u001B[49m\u001B[43m(\u001B[49m\n\u001B[1;32m    414\u001B[0m \u001B[43m    \u001B[49m\u001B[43mdata\u001B[49m\u001B[43m,\u001B[49m\u001B[43m \u001B[49m\u001B[43mblock_uncompressed_bytes\u001B[49m\n\u001B[1;32m    415\u001B[0m \u001B[43m\u001B[49m\u001B[43m)\u001B[49m\n\u001B[1;32m    417\u001B[0m \u001B[38;5;28;01mif\u001B[39;00m \u001B[38;5;28mlen\u001B[39m(uncompressed_bytestring) \u001B[38;5;241m!=\u001B[39m block_uncompressed_bytes:\n\u001B[1;32m    418\u001B[0m     \u001B[38;5;28;01mraise\u001B[39;00m \u001B[38;5;167;01mValueError\u001B[39;00m(\n\u001B[1;32m    419\u001B[0m         \u001B[38;5;124;03m\"\"\"after successfully decompressing {} blocks, a block of \"\"\"\u001B[39;00m\n\u001B[1;32m    420\u001B[0m         \u001B[38;5;124;03m\"\"\"compressed size {} decompressed to {} bytes, but the \"\"\"\u001B[39;00m\n\u001B[0;32m   (...)\u001B[0m\n\u001B[1;32m    428\u001B[0m         )\n\u001B[1;32m    429\u001B[0m     )\n",
      "File \u001B[0;32m~/anaconda3/envs/ai/lib/python3.9/site-packages/uproot/compression.py:93\u001B[0m, in \u001B[0;36m_DecompressZLIB.decompress\u001B[0;34m(self, data, uncompressed_bytes)\u001B[0m\n\u001B[1;32m     90\u001B[0m \u001B[38;5;28;01mdef\u001B[39;00m \u001B[38;5;21mdecompress\u001B[39m(\u001B[38;5;28mself\u001B[39m, data, uncompressed_bytes\u001B[38;5;241m=\u001B[39m\u001B[38;5;28;01mNone\u001B[39;00m):\n\u001B[1;32m     91\u001B[0m     \u001B[38;5;28;01mimport\u001B[39;00m \u001B[38;5;21;01mzlib\u001B[39;00m\n\u001B[0;32m---> 93\u001B[0m     \u001B[38;5;28;01mreturn\u001B[39;00m \u001B[43mzlib\u001B[49m\u001B[38;5;241;43m.\u001B[39;49m\u001B[43mdecompress\u001B[49m\u001B[43m(\u001B[49m\u001B[43mdata\u001B[49m\u001B[43m)\u001B[49m\n",
      "\u001B[0;31mKeyboardInterrupt\u001B[0m: "
     ]
    }
   ],
   "source": [
    "events = ecal_info.read_events_from_file(root_file_name, 0, file_event_num)"
   ],
   "metadata": {
    "collapsed": false,
    "pycharm": {
     "name": "#%%\n"
    }
   }
  },
  {
   "cell_type": "code",
   "execution_count": null,
   "outputs": [],
   "source": [
    "original_shape = np.shape(events)\n",
    "print(f\"Original shape {original_shape}\")\n",
    "\n",
    "flatten_shape = (original_shape[0], original_shape[1] * original_shape[2])\n",
    "print(f\"Flatten shape {flatten_shape}\")\n",
    "reshaped_events = np.reshape(events, flatten_shape)"
   ],
   "metadata": {
    "collapsed": false,
    "pycharm": {
     "name": "#%%\n"
    }
   }
  },
  {
   "cell_type": "code",
   "execution_count": null,
   "outputs": [],
   "source": [
    "np.savetxt(modules_file_name, reshaped_events)"
   ],
   "metadata": {
    "collapsed": false,
    "pycharm": {
     "name": "#%%\n"
    }
   }
  }
 ],
 "metadata": {
  "kernelspec": {
   "display_name": "Python 3",
   "language": "python",
   "name": "python3"
  },
  "language_info": {
   "codemirror_mode": {
    "name": "ipython",
    "version": 2
   },
   "file_extension": ".py",
   "mimetype": "text/x-python",
   "name": "python",
   "nbconvert_exporter": "python",
   "pygments_lexer": "ipython2",
   "version": "2.7.6"
  }
 },
 "nbformat": 4,
 "nbformat_minor": 0
}