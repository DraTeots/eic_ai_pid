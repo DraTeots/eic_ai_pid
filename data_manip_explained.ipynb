{
 "cells": [
  {
   "cell_type": "code",
   "execution_count": 1,
   "metadata": {},
   "outputs": [],
   "source": [
    "import uproot4\n",
    "import matplotlib.pyplot as plt\n",
    "import matplotlib.patches as patches\n",
    "from matplotlib.collections import PatchCollection\n",
    "from matplotlib import cm\n",
    "from matplotlib.colors import LogNorm, Normalize\n",
    "import awkward1 as ak\n",
    "from lxml import etree as ET\n",
    "import os\n",
    "from pathlib import Path\n",
    "import pandas as pd\n",
    "import numpy as np"
   ]
  },
  {
   "cell_type": "code",
   "execution_count": 2,
   "metadata": {},
   "outputs": [],
   "source": [
    "# file_name = f\"{Path.cwd()}/data/2021-12-07_nomat_10000evt_pi-_1x_21.5y_0z_2GeV.root\"\n",
    "file_name = f\"{Path.cwd()}/data/2021-12-07_nomat_10000evt_e-_1x_21.5y_0z_2GeV.root\"\n",
    "cal_size=3\n",
    "start_event=0\n",
    "process_events=None\n",
    "\n",
    "\n",
    "root_file = uproot4.open(file_name)\n",
    "tree = root_file[\"events\"]\n",
    "#print(tree.keys())\n",
    "\n",
    "entry_start = start_event\n",
    "\n",
    "entry_stop = start_event + process_events if process_events else None\n",
    "events = tree.arrays(['EcalEndcapNHits.cellID', \n",
    "                        'EcalEndcapNHits.energyDeposit', \n",
    "                        'EcalEndcapNHits.position.x', \n",
    "                        'EcalEndcapNHits.position.y', \n",
    "                        'EcalEndcapNHits.position.z',\n",
    "                        'EcalEndcapNHits.truth.pdgID'],\n",
    "                        aliases={\"EcalEndcapNHits.cellID\": \"id\"},\n",
    "                        library=\"ak\",\n",
    "                        how=tuple,\n",
    "                        entry_start=entry_start, \n",
    "                        entry_stop=entry_stop)\n"
   ]
  },
  {
   "cell_type": "code",
   "execution_count": 3,
   "metadata": {},
   "outputs": [
    {
     "data": {
      "text/plain": [
       "(<Array [[3735911, 3285607, ... 3965287]] type='10000 * var * int64'>,\n",
       " <Array [[0.266, 0.000504, ... 0.00162]] type='10000 * var * float64'>,\n",
       " <Array [[10.3, 308, 267, ... 154, 133, -30.7]] type='10000 * var * float64'>,\n",
       " <Array [[215, 267, 308, ... 318, 277, 256]] type='10000 * var * float64'>,\n",
       " <Array [[-2.01e+03, -2.18e+03, ... -2.01e+03]] type='10000 * var * float64'>,\n",
       " <Array [[-211, 11, 11, 11, ... 22, 11, 11, 22]] type='10000 * var * int32'>)"
      ]
     },
     "execution_count": 3,
     "metadata": {},
     "output_type": "execute_result"
    }
   ],
   "source": [
    "events\n",
    "#events[0].type"
   ]
  },
  {
   "cell_type": "code",
   "execution_count": 4,
   "metadata": {},
   "outputs": [],
   "source": [
    "import hist\n",
    "from hist import Hist\n",
    "# Create histograms\n",
    "hist_hit_xy = Hist(hist.axis.Regular(50, -500, 500, name=\"X\", label=\"Hits x [mm]\", flow=False),\n",
    "                   hist.axis.Regular(50, -500, 500, name=\"Y\", label=\"Hits y [mm]\", flow=False))\n",
    "\n",
    "hist_hit_z = Hist(hist.axis.Regular(50, -2170, -2030, name=\"Z\", label=\"Hits z [mm]\", flow=False))\n",
    "\n",
    "hist_total_dep = Hist(hist.axis.Regular(200, 0, 3, name=\"DE\", label=\"Cal total cells E deposit [GeV]\", flow=False))\n",
    "hist_true_e = Hist(hist.axis.Regular(50, 0, 10, name=\"E\", label=\"Energy [GeV]\", flow=False))"
   ]
  },
  {
   "cell_type": "code",
   "execution_count": 5,
   "metadata": {},
   "outputs": [
    {
     "name": "stdout",
     "output_type": "stream",
     "text": [
      "Events processed: 1000\n",
      "Events processed: 2000\n",
      "Events processed: 3000\n",
      "Events processed: 4000\n",
      "Events processed: 5000\n",
      "Events processed: 6000\n",
      "Events processed: 7000\n",
      "Events processed: 8000\n",
      "Events processed: 9000\n",
      "Events processed: 10000\n"
     ]
    }
   ],
   "source": [
    "# Events loop\n",
    "train_data = []     # Resulting data for each event\n",
    "inc_hits = []       # Cal incidence x,y,z for each event\n",
    "event_count = 0\n",
    "for event in zip(*events):\n",
    "    arr_id, arr_de, arr_hit_x, arr_hit_y, arr_hit_z, arr_pid = event\n",
    "\n",
    "    # Print what event is being processed\n",
    "    event_count += 1\n",
    "    if (event_count % 1000) == 0:\n",
    "        print(f\"Events processed: {event_count}\")\n",
    "    \n",
    "    # Skip event if we don't have hits or generated particles\n",
    "    if not len(arr_id) or not len(arr_de):\n",
    "        continue\n",
    "\n",
    "    # in a simple scenario (1 particle gun particle per event) 1-st hit is an incidence hit\n",
    "    hit_x, hit_y, hit_z, pid = arr_hit_x[0], arr_hit_y[0], arr_hit_z[0], arr_pid[0]\n",
    "\n",
    "    total_deposit = 0\n",
    "\n",
    "    # Form a flat data training array. Indexes are like:\n",
    "    # [0] [1] [2]\n",
    "    # [3] [4] [5]\n",
    "    # [6] [7] [8]\n",
    "    # event_train_data = cal_size*cal_size*[0]\n",
    "\n",
    "    for de in arr_de :\n",
    "        total_deposit += de\n",
    "\n",
    "        #print(cell.col, cell.row, cell.adc)\n",
    "    # train_data.append(event_train_data)\n",
    "    inc_hits.append((hit_x, hit_y, hit_z))\n",
    "\n",
    "    # Fill some histograms\n",
    "    hist_hit_xy.fill(hit_x, hit_y)\n",
    "    hist_hit_z.fill(hit_z)\n",
    "    hist_total_dep.fill(total_deposit)\n",
    "    # hist_true_e.fill(arr_true_e[0])\n",
    "\n",
    "histograms = {\n",
    "    'hit_xy': hist_hit_xy,\n",
    "    'hit_z': hist_hit_z,\n",
    "    'total_dep': hist_total_dep,\n",
    "    'true_e': hist_true_e\n",
    "}"
   ]
  },
  {
   "cell_type": "code",
   "execution_count": 6,
   "metadata": {},
   "outputs": [
    {
     "data": {
      "text/plain": [
       "ColormeshArtists(pcolormesh=<matplotlib.collections.QuadMesh object at 0x0000022B219FEEB0>, cbar=<matplotlib.colorbar.Colorbar object at 0x0000022B219C0B50>, text=[])"
      ]
     },
     "execution_count": 6,
     "metadata": {},
     "output_type": "execute_result"
    },
    {
     "data": {
      "image/png": "[encoded data removed]",
      "text/plain": [
       "<Figure size 432x288 with 2 Axes>"
      ]
     },
     "metadata": {
      "needs_background": "light"
     },
     "output_type": "display_data"
    }
   ],
   "source": [
    "hist_hit_xy.plot()"
   ]
  },
  {
   "cell_type": "code",
   "execution_count": 7,
   "metadata": {},
   "outputs": [
    {
     "data": {
      "text/plain": [
       "[StairsArtists(stairs=<matplotlib.patches.StepPatch object at 0x0000022B21DB3550>, errorbar=<ErrorbarContainer object of 3 artists>, legend_artist=<ErrorbarContainer object of 3 artists>)]"
      ]
     },
     "execution_count": 7,
     "metadata": {},
     "output_type": "execute_result"
    },
    {
     "data": {
      "image/png": "[encoded data removed]",
      "text/plain": [
       "<Figure size 432x288 with 1 Axes>"
      ]
     },
     "metadata": {
      "needs_background": "light"
     },
     "output_type": "display_data"
    }
   ],
   "source": [
    "hist_hit_z.plot()"
   ]
  },
  {
   "cell_type": "code",
   "execution_count": 8,
   "metadata": {},
   "outputs": [
    {
     "data": {
      "text/plain": [
       "[StairsArtists(stairs=<matplotlib.patches.StepPatch object at 0x0000022B21E446A0>, errorbar=<ErrorbarContainer object of 3 artists>, legend_artist=<ErrorbarContainer object of 3 artists>)]"
      ]
     },
     "execution_count": 8,
     "metadata": {},
     "output_type": "execute_result"
    },
    {
     "data": {
      "image/png": "[encoded data removed]",
      "text/plain": [
       "<Figure size 432x288 with 1 Axes>"
      ]
     },
     "metadata": {
      "needs_background": "light"
     },
     "output_type": "display_data"
    }
   ],
   "source": [
    "hist_total_dep.plot()"
   ]
  }
 ],
 "metadata": {
  "interpreter": {
   "hash": "a707b6ce8c685eb936424fcc3009d4b4b7a52543c4db09380a3fc49186ceb509"
  },
  "kernelspec": {
   "display_name": "Python 3.8.5 64-bit ('base': conda)",
   "language": "python",
   "name": "python3"
  },
  "language_info": {
   "codemirror_mode": {
    "name": "ipython",
    "version": 3
   },
   "file_extension": ".py",
   "mimetype": "text/x-python",
   "name": "python",
   "nbconvert_exporter": "python",
   "pygments_lexer": "ipython3",
   "version": "3.8.5"
  },
  "orig_nbformat": 4
 },
 "nbformat": 4,
 "nbformat_minor": 2
}
