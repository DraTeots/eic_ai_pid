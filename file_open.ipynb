{
 "cells": [
  {
   "cell_type": "code",
   "execution_count": 1,
   "metadata": {},
   "outputs": [],
   "source": [
    "import uproot4\n",
    "from matplotlib import pyplot as p\n",
    "from hist import Hist\n",
    "import awkward1 as ak\n",
    "import numpy as np\n",
    "import matplotlib.pyplot as plt\n",
    "from matplotlib.gridspec import GridSpec\n",
    "import matplotlib.image as mpimg\n",
    "\n",
    "# Pretty printing arrays\n",
    "from pprint import pprint"
   ]
  },
  {
   "cell_type": "markdown",
   "metadata": {},
   "source": [
    "\n",
    "To get `data_18x275.root` download it from S3 \n",
    "[here](https://dtn01.sdcc.bnl.gov:9000/minio/eictest/ATHENA/FULL/canyonlands-v1.2/CI/DIS/CC_hepmc2/18x275/minQ2=100/)\n",
    "and rename to data_18x275.root"
   ]
  },
  {
   "cell_type": "code",
   "execution_count": 4,
   "metadata": {},
   "outputs": [
    {
     "data": {
      "text/plain": [
       "['events;5',\n",
       " 'events;4',\n",
       " 'metadata;1',\n",
       " 'run_metadata;1',\n",
       " 'evt_metadata;1',\n",
       " 'col_metadata;1']"
      ]
     },
     "execution_count": 4,
     "metadata": {},
     "output_type": "execute_result"
    }
   ],
   "source": [
    "file=uproot4.open(\"data_18x275.root\")\n",
    "\n",
    "# To see all object names in the file:\n",
    "# file.items()\n",
    "\n",
    "# only names: file.keys(), file.values()))\n",
    "\n",
    "# To see items in subdirectories\n",
    "# file.keys(recursive=True)\n",
    "\n",
    "# There are more functions related to file:\n",
    "# https://uproot.readthedocs.io/en/latest/uproot.reading.ReadOnlyFile.html\n",
    "\n",
    "# Root directories:\n",
    "# https://uproot.readthedocs.io/en/latest/uproot.reading.ReadOnlyDirectory.html\n",
    "\n",
    "# To read multiple files at once (aka TChain)\n",
    "# https://uproot.readthedocs.io/en/latest/basic.html#iterating-over-many-files"
   ]
  },
  {
   "cell_type": "code",
   "execution_count": 7,
   "metadata": {},
   "outputs": [
    {
     "name": "stdout",
     "output_type": "stream",
     "text": [
      "Number of entries: 222\n"
     ]
    },
    {
     "data": {
      "text/plain": [
       "['DIRCBarHits',\n",
       " 'DIRCBarHits/DIRCBarHits.cellID',\n",
       " 'DIRCBarHits/DIRCBarHits.flag',\n",
       " 'DIRCBarHits/DIRCBarHits.g4ID',\n",
       " 'DIRCBarHits/DIRCBarHits.position.x',\n",
       " 'DIRCBarHits/DIRCBarHits.position.y',\n",
       " 'DIRCBarHits/DIRCBarHits.position.z',\n",
       " 'DIRCBarHits/DIRCBarHits.momentum.x',\n",
       " 'DIRCBarHits/DIRCBarHits.momentum.y',\n",
       " 'DIRCBarHits/DIRCBarHits.momentum.z',\n",
       " 'DIRCBarHits/DIRCBarHits.length',\n",
       " 'DIRCBarHits/DIRCBarHits.truth.trackID',\n",
       " 'DIRCBarHits/DIRCBarHits.truth.pdgID',\n",
       " 'DIRCBarHits/DIRCBarHits.truth.deposit',\n",
       " 'DIRCBarHits/DIRCBarHits.truth.time',\n",
       " 'DIRCBarHits/DIRCBarHits.truth.length',\n",
       " 'DIRCBarHits/DIRCBarHits.truth.x',\n",
       " 'DIRCBarHits/DIRCBarHits.truth.y',\n",
       " 'DIRCBarHits/DIRCBarHits.truth.z',\n",
       " 'DIRCBarHits/DIRCBarHits.energyDeposit']"
      ]
     },
     "execution_count": 7,
     "metadata": {},
     "output_type": "execute_result"
    }
   ],
   "source": [
    "# File has a data tree called 'events'\n",
    "# get events tree as a separate thing\n",
    "tree = file[\"events\"]\n",
    "\n",
    "# Print number of entries\n",
    "print(f\"Number of entries: {tree.num_entries}\")\n",
    "\n",
    "# Uncomment this to see all values:\n",
    "#tree.show()\n",
    "\n",
    "names = [key for key in tree.keys() if \"DIRC\" in key]\n",
    "names\n",
    "\n",
    "# More TBranch functions:\n",
    "#https://uproot.readthedocs.io/en/latest/uproot.behaviors.TBranch.TBranch.html"
   ]
  },
  {
   "cell_type": "code",
   "execution_count": null,
   "metadata": {},
   "outputs": [],
   "source": [
    "hist = Hist(\n",
    "    hist.axis.Regular(10, 0, 1, name=\"x\"),\n",
    "    hist.axis.Regular(10, 0, 1, name=\"y\"),\n",
    "    hist.axis.Regular(10, 0, 1, name=\"z\"),\n",
    ")"
   ]
  }
 ],
 "metadata": {
  "interpreter": {
   "hash": "31f2aee4e71d21fbe5cf8b01ff0e069b9275f58929596ceb00d14d90e3e16cd6"
  },
  "kernelspec": {
   "display_name": "Python 3.8.10 64-bit",
   "name": "python3"
  },
  "language_info": {
   "codemirror_mode": {
    "name": "ipython",
    "version": 3
   },
   "file_extension": ".py",
   "mimetype": "text/x-python",
   "name": "python",
   "nbconvert_exporter": "python",
   "pygments_lexer": "ipython3",
   "version": "3.8.10"
  },
  "orig_nbformat": 4
 },
 "nbformat": 4,
 "nbformat_minor": 2
}
