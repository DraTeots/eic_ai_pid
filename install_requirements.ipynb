{
 "cells": [
  {
   "cell_type": "code",
   "execution_count": 1,
   "metadata": {},
   "outputs": [
    {
     "name": "stdout",
     "output_type": "stream",
     "text": [
      "Hello!\n"
     ]
    }
   ],
   "source": [
    "print(\"Hello!\")"
   ]
  },
  {
   "cell_type": "code",
   "execution_count": 2,
   "metadata": {},
   "outputs": [
    {
     "name": "stdout",
     "output_type": "stream",
     "text": [
      "Defaulting to user installation because normal site-packages is not writeable\n",
      "Requirement already satisfied: uproot4 in /usr/local/lib/python3.8/dist-packages (from -r requirements.txt (line 1)) (4.0.0)\n",
      "Requirement already satisfied: awkward1 in /home/romanov/.local/lib/python3.8/site-packages (from -r requirements.txt (line 2)) (1.0.0)\n",
      "Requirement already satisfied: particle in /home/romanov/.local/lib/python3.8/site-packages (from -r requirements.txt (line 3)) (0.16.1)\n",
      "Requirement already satisfied: boost-histogram in /home/romanov/.local/lib/python3.8/site-packages (from -r requirements.txt (line 4)) (1.2.1)\n",
      "Requirement already satisfied: matplotlib in /usr/local/lib/python3.8/dist-packages (from -r requirements.txt (line 5)) (3.4.3)\n",
      "Requirement already satisfied: mplhep in /usr/local/lib/python3.8/dist-packages (from -r requirements.txt (line 6)) (0.3.12)\n",
      "Collecting mplhep\n",
      "  Downloading mplhep-0.3.15-py3-none-any.whl (33 kB)\n",
      "Requirement already satisfied: pandas in /home/romanov/.local/lib/python3.8/site-packages (from -r requirements.txt (line 7)) (1.3.4)\n",
      "Requirement already satisfied: numexpr in /home/romanov/.local/lib/python3.8/site-packages (from -r requirements.txt (line 8)) (2.7.3)\n",
      "Requirement already satisfied: hist in /home/romanov/.local/lib/python3.8/site-packages (from -r requirements.txt (line 9)) (2.5.1)\n",
      "Requirement already satisfied: jupyter in /home/romanov/.local/lib/python3.8/site-packages (from -r requirements.txt (line 11)) (1.0.0)\n",
      "Requirement already satisfied: jupyterlab in /home/romanov/.local/lib/python3.8/site-packages (from -r requirements.txt (line 12)) (3.1.18)\n",
      "Collecting jupyterlab\n",
      "  Downloading jupyterlab-3.2.2-py3-none-any.whl (8.6 MB)\n",
      "\u001b[K     |████████████████████████████████| 8.6 MB 3.3 MB/s \n",
      "\u001b[?25hRequirement already satisfied: uproot>=4.0.0 in /usr/local/lib/python3.8/dist-packages (from uproot4->-r requirements.txt (line 1)) (4.1.2)\n",
      "Requirement already satisfied: awkward>=1.0.0 in /home/romanov/.local/lib/python3.8/site-packages (from awkward1->-r requirements.txt (line 2)) (1.5.1)\n",
      "Requirement already satisfied: importlib-resources>=2.0 in /home/romanov/.local/lib/python3.8/site-packages (from particle->-r requirements.txt (line 3)) (5.3.0)\n",
      "Requirement already satisfied: deprecated in /home/romanov/.local/lib/python3.8/site-packages (from particle->-r requirements.txt (line 3)) (1.2.13)\n",
      "Requirement already satisfied: hepunits>=2.0.0 in /home/romanov/.local/lib/python3.8/site-packages (from particle->-r requirements.txt (line 3)) (2.1.2)\n",
      "Requirement already satisfied: attrs>=19.2 in /home/romanov/.local/lib/python3.8/site-packages (from particle->-r requirements.txt (line 3)) (20.3.0)\n",
      "Requirement already satisfied: numpy>=1.13.3 in /home/romanov/.local/lib/python3.8/site-packages (from boost-histogram->-r requirements.txt (line 4)) (1.19.5)\n",
      "Requirement already satisfied: python-dateutil>=2.7 in /home/romanov/.local/lib/python3.8/site-packages (from matplotlib->-r requirements.txt (line 5)) (2.8.1)\n",
      "Requirement already satisfied: kiwisolver>=1.0.1 in /usr/local/lib/python3.8/dist-packages (from matplotlib->-r requirements.txt (line 5)) (1.3.2)\n",
      "Requirement already satisfied: pyparsing>=2.2.1 in /usr/lib/python3/dist-packages (from matplotlib->-r requirements.txt (line 5)) (2.4.6)\n",
      "Requirement already satisfied: pillow>=6.2.0 in /home/romanov/.local/lib/python3.8/site-packages (from matplotlib->-r requirements.txt (line 5)) (8.4.0)\n",
      "Requirement already satisfied: cycler>=0.10 in /usr/local/lib/python3.8/dist-packages (from matplotlib->-r requirements.txt (line 5)) (0.10.0)\n",
      "Requirement already satisfied: uhi>=0.2.0 in /usr/local/lib/python3.8/dist-packages (from mplhep->-r requirements.txt (line 6)) (0.3.0)\n",
      "Requirement already satisfied: packaging in /usr/lib/python3/dist-packages (from mplhep->-r requirements.txt (line 6)) (20.3)\n",
      "Requirement already satisfied: mplhep-data in /usr/local/lib/python3.8/dist-packages (from mplhep->-r requirements.txt (line 6)) (0.0.3)\n",
      "Requirement already satisfied: pytz>=2017.3 in /usr/lib/python3/dist-packages (from pandas->-r requirements.txt (line 7)) (2019.3)\n",
      "Requirement already satisfied: more-itertools in /usr/lib/python3/dist-packages (from hist->-r requirements.txt (line 9)) (4.2.0)\n",
      "Requirement already satisfied: histoprint>=2.2.0 in /usr/local/lib/python3.8/dist-packages (from hist->-r requirements.txt (line 9)) (2.2.0)\n",
      "Requirement already satisfied: scipy>=1.4 in /usr/local/lib/python3.8/dist-packages (from hist->-r requirements.txt (line 9)) (1.7.1)\n",
      "Requirement already satisfied: iminuit>=2 in /usr/local/lib/python3.8/dist-packages (from hist->-r requirements.txt (line 9)) (2.8.3)\n",
      "Requirement already satisfied: nbconvert in /home/romanov/.local/lib/python3.8/site-packages (from jupyter->-r requirements.txt (line 11)) (6.0.7)\n",
      "Requirement already satisfied: jupyter-console in /home/romanov/.local/lib/python3.8/site-packages (from jupyter->-r requirements.txt (line 11)) (6.2.0)\n",
      "Requirement already satisfied: qtconsole in /home/romanov/.local/lib/python3.8/site-packages (from jupyter->-r requirements.txt (line 11)) (5.0.1)\n",
      "Requirement already satisfied: ipykernel in /home/romanov/.local/lib/python3.8/site-packages (from jupyter->-r requirements.txt (line 11)) (6.4.2)\n",
      "Requirement already satisfied: ipywidgets in /home/romanov/.local/lib/python3.8/site-packages (from jupyter->-r requirements.txt (line 11)) (7.5.1)\n",
      "Requirement already satisfied: notebook in /home/romanov/.local/lib/python3.8/site-packages (from jupyter->-r requirements.txt (line 11)) (6.1.5)\n",
      "Requirement already satisfied: tornado>=6.1.0 in /home/romanov/.local/lib/python3.8/site-packages (from jupyterlab->-r requirements.txt (line 12)) (6.1)\n",
      "Requirement already satisfied: nbclassic~=0.2 in /home/romanov/.local/lib/python3.8/site-packages (from jupyterlab->-r requirements.txt (line 12)) (0.3.2)\n",
      "Requirement already satisfied: jinja2>=2.1 in /home/romanov/.local/lib/python3.8/site-packages (from jupyterlab->-r requirements.txt (line 12)) (2.11.2)\n",
      "Requirement already satisfied: ipython in /home/romanov/.local/lib/python3.8/site-packages (from jupyterlab->-r requirements.txt (line 12)) (7.28.0)\n",
      "Requirement already satisfied: jupyter-core in /home/romanov/.local/lib/python3.8/site-packages (from jupyterlab->-r requirements.txt (line 12)) (4.7.0)\n",
      "Requirement already satisfied: jupyter-server~=1.4 in /home/romanov/.local/lib/python3.8/site-packages (from jupyterlab->-r requirements.txt (line 12)) (1.11.1)\n",
      "Requirement already satisfied: jupyterlab-server~=2.3 in /home/romanov/.local/lib/python3.8/site-packages (from jupyterlab->-r requirements.txt (line 12)) (2.8.2)\n",
      "Requirement already satisfied: setuptools in /usr/lib/python3/dist-packages (from awkward>=1.0.0->awkward1->-r requirements.txt (line 2)) (45.2.0)\n",
      "Requirement already satisfied: six in /home/romanov/.local/lib/python3.8/site-packages (from cycler>=0.10->matplotlib->-r requirements.txt (line 5)) (1.15.0)\n",
      "Requirement already satisfied: click>=7.0.0 in /usr/lib/python3/dist-packages (from histoprint>=2.2.0->hist->-r requirements.txt (line 9)) (7.0)\n",
      "Requirement already satisfied: zipp>=3.1.0 in /home/romanov/.local/lib/python3.8/site-packages (from importlib-resources>=2.0->particle->-r requirements.txt (line 3)) (3.6.0)\n",
      "Requirement already satisfied: MarkupSafe>=0.23 in /usr/lib/python3/dist-packages (from jinja2>=2.1->jupyterlab->-r requirements.txt (line 12)) (1.1.0)\n",
      "Requirement already satisfied: pyzmq>=17 in /home/romanov/.local/lib/python3.8/site-packages (from jupyter-server~=1.4->jupyterlab->-r requirements.txt (line 12)) (20.0.0)\n",
      "Requirement already satisfied: prometheus-client in /home/romanov/.local/lib/python3.8/site-packages (from jupyter-server~=1.4->jupyterlab->-r requirements.txt (line 12)) (0.9.0)\n",
      "Requirement already satisfied: terminado>=0.8.3 in /home/romanov/.local/lib/python3.8/site-packages (from jupyter-server~=1.4->jupyterlab->-r requirements.txt (line 12)) (0.9.1)\n",
      "Requirement already satisfied: traitlets>=4.2.1 in /home/romanov/.local/lib/python3.8/site-packages (from jupyter-server~=1.4->jupyterlab->-r requirements.txt (line 12)) (5.0.5)\n",
      "Requirement already satisfied: argon2-cffi in /home/romanov/.local/lib/python3.8/site-packages (from jupyter-server~=1.4->jupyterlab->-r requirements.txt (line 12)) (20.1.0)\n",
      "Requirement already satisfied: anyio<4,>=3.1.0 in /home/romanov/.local/lib/python3.8/site-packages (from jupyter-server~=1.4->jupyterlab->-r requirements.txt (line 12)) (3.3.2)\n",
      "Requirement already satisfied: websocket-client in /usr/lib/python3/dist-packages (from jupyter-server~=1.4->jupyterlab->-r requirements.txt (line 12)) (0.53.0)\n",
      "Requirement already satisfied: requests-unixsocket in /usr/lib/python3/dist-packages (from jupyter-server~=1.4->jupyterlab->-r requirements.txt (line 12)) (0.2.0)\n",
      "Requirement already satisfied: Send2Trash in /home/romanov/.local/lib/python3.8/site-packages (from jupyter-server~=1.4->jupyterlab->-r requirements.txt (line 12)) (1.5.0)\n",
      "Requirement already satisfied: ipython-genutils in /home/romanov/.local/lib/python3.8/site-packages (from jupyter-server~=1.4->jupyterlab->-r requirements.txt (line 12)) (0.2.0)\n",
      "Requirement already satisfied: nbformat in /home/romanov/.local/lib/python3.8/site-packages (from jupyter-server~=1.4->jupyterlab->-r requirements.txt (line 12)) (5.0.8)\n",
      "Requirement already satisfied: jupyter-client>=6.1.1 in /home/romanov/.local/lib/python3.8/site-packages (from jupyter-server~=1.4->jupyterlab->-r requirements.txt (line 12)) (6.1.7)\n",
      "Requirement already satisfied: idna>=2.8 in /usr/lib/python3/dist-packages (from anyio<4,>=3.1.0->jupyter-server~=1.4->jupyterlab->-r requirements.txt (line 12)) (2.8)\n",
      "Requirement already satisfied: sniffio>=1.1 in /home/romanov/.local/lib/python3.8/site-packages (from anyio<4,>=3.1.0->jupyter-server~=1.4->jupyterlab->-r requirements.txt (line 12)) (1.2.0)\n",
      "Requirement already satisfied: entrypoints>=0.2.2 in /usr/lib/python3/dist-packages (from jupyterlab-server~=2.3->jupyterlab->-r requirements.txt (line 12)) (0.3)\n",
      "Requirement already satisfied: babel in /usr/local/lib/python3.8/dist-packages (from jupyterlab-server~=2.3->jupyterlab->-r requirements.txt (line 12)) (2.9.0)\n",
      "Requirement already satisfied: json5 in /home/romanov/.local/lib/python3.8/site-packages (from jupyterlab-server~=2.3->jupyterlab->-r requirements.txt (line 12)) (0.9.6)\n",
      "Requirement already satisfied: jsonschema>=3.0.1 in /home/romanov/.local/lib/python3.8/site-packages (from jupyterlab-server~=2.3->jupyterlab->-r requirements.txt (line 12)) (3.2.0)\n",
      "Requirement already satisfied: requests in /home/romanov/.local/lib/python3.8/site-packages (from jupyterlab-server~=2.3->jupyterlab->-r requirements.txt (line 12)) (2.25.1)\n",
      "Requirement already satisfied: pyrsistent>=0.14.0 in /home/romanov/.local/lib/python3.8/site-packages (from jsonschema>=3.0.1->jupyterlab-server~=2.3->jupyterlab->-r requirements.txt (line 12)) (0.17.3)\n",
      "Requirement already satisfied: ptyprocess in /home/romanov/.local/lib/python3.8/site-packages (from terminado>=0.8.3->jupyter-server~=1.4->jupyterlab->-r requirements.txt (line 12)) (0.6.0)\n",
      "Requirement already satisfied: cffi>=1.0.0 in /home/romanov/.local/lib/python3.8/site-packages (from argon2-cffi->jupyter-server~=1.4->jupyterlab->-r requirements.txt (line 12)) (1.14.4)\n",
      "Requirement already satisfied: pycparser in /home/romanov/.local/lib/python3.8/site-packages (from cffi>=1.0.0->argon2-cffi->jupyter-server~=1.4->jupyterlab->-r requirements.txt (line 12)) (2.20)\n",
      "Requirement already satisfied: wrapt<2,>=1.10 in /home/romanov/.local/lib/python3.8/site-packages (from deprecated->particle->-r requirements.txt (line 3)) (1.12.1)\n",
      "Requirement already satisfied: matplotlib-inline<0.2.0,>=0.1.0 in /home/romanov/.local/lib/python3.8/site-packages (from ipykernel->jupyter->-r requirements.txt (line 11)) (0.1.3)\n",
      "Requirement already satisfied: debugpy<2.0,>=1.0.0 in /home/romanov/.local/lib/python3.8/site-packages (from ipykernel->jupyter->-r requirements.txt (line 11)) (1.5.1)\n",
      "Requirement already satisfied: pickleshare in /home/romanov/.local/lib/python3.8/site-packages (from ipython->jupyterlab->-r requirements.txt (line 12)) (0.7.5)\n",
      "Requirement already satisfied: jedi>=0.16 in /home/romanov/.local/lib/python3.8/site-packages (from ipython->jupyterlab->-r requirements.txt (line 12)) (0.17.2)\n",
      "Requirement already satisfied: decorator in /home/romanov/.local/lib/python3.8/site-packages (from ipython->jupyterlab->-r requirements.txt (line 12)) (4.4.2)\n",
      "Requirement already satisfied: backcall in /home/romanov/.local/lib/python3.8/site-packages (from ipython->jupyterlab->-r requirements.txt (line 12)) (0.2.0)\n",
      "Requirement already satisfied: prompt-toolkit!=3.0.0,!=3.0.1,<3.1.0,>=2.0.0 in /home/romanov/.local/lib/python3.8/site-packages (from ipython->jupyterlab->-r requirements.txt (line 12)) (3.0.8)\n",
      "Requirement already satisfied: pexpect>4.3 in /usr/lib/python3/dist-packages (from ipython->jupyterlab->-r requirements.txt (line 12)) (4.6.0)\n",
      "Requirement already satisfied: pygments in /home/romanov/.local/lib/python3.8/site-packages (from ipython->jupyterlab->-r requirements.txt (line 12)) (2.7.3)\n",
      "Requirement already satisfied: parso<0.8.0,>=0.7.0 in /home/romanov/.local/lib/python3.8/site-packages (from jedi>=0.16->ipython->jupyterlab->-r requirements.txt (line 12)) (0.7.1)\n",
      "Requirement already satisfied: wcwidth in /home/romanov/.local/lib/python3.8/site-packages (from prompt-toolkit!=3.0.0,!=3.0.1,<3.1.0,>=2.0.0->ipython->jupyterlab->-r requirements.txt (line 12)) (0.2.5)\n",
      "Requirement already satisfied: widgetsnbextension~=3.5.0 in /home/romanov/.local/lib/python3.8/site-packages (from ipywidgets->jupyter->-r requirements.txt (line 11)) (3.5.1)\n",
      "Requirement already satisfied: pandocfilters>=1.4.1 in /home/romanov/.local/lib/python3.8/site-packages (from nbconvert->jupyter->-r requirements.txt (line 11)) (1.4.3)\n",
      "Requirement already satisfied: jupyterlab-pygments in /home/romanov/.local/lib/python3.8/site-packages (from nbconvert->jupyter->-r requirements.txt (line 11)) (0.1.2)\n",
      "Requirement already satisfied: defusedxml in /home/romanov/.local/lib/python3.8/site-packages (from nbconvert->jupyter->-r requirements.txt (line 11)) (0.6.0)\n",
      "Requirement already satisfied: bleach in /home/romanov/.local/lib/python3.8/site-packages (from nbconvert->jupyter->-r requirements.txt (line 11)) (3.2.1)\n",
      "Requirement already satisfied: testpath in /home/romanov/.local/lib/python3.8/site-packages (from nbconvert->jupyter->-r requirements.txt (line 11)) (0.4.4)\n",
      "Requirement already satisfied: mistune<2,>=0.8.1 in /home/romanov/.local/lib/python3.8/site-packages (from nbconvert->jupyter->-r requirements.txt (line 11)) (0.8.4)\n",
      "Requirement already satisfied: nbclient<0.6.0,>=0.5.0 in /home/romanov/.local/lib/python3.8/site-packages (from nbconvert->jupyter->-r requirements.txt (line 11)) (0.5.1)\n",
      "Requirement already satisfied: nest-asyncio in /home/romanov/.local/lib/python3.8/site-packages (from nbclient<0.6.0,>=0.5.0->nbconvert->jupyter->-r requirements.txt (line 11)) (1.4.3)\n",
      "Requirement already satisfied: async-generator in /home/romanov/.local/lib/python3.8/site-packages (from nbclient<0.6.0,>=0.5.0->nbconvert->jupyter->-r requirements.txt (line 11)) (1.10)\n",
      "Requirement already satisfied: webencodings in /usr/lib/python3/dist-packages (from bleach->nbconvert->jupyter->-r requirements.txt (line 11)) (0.5.1)\n",
      "Requirement already satisfied: qtpy in /home/romanov/.local/lib/python3.8/site-packages (from qtconsole->jupyter->-r requirements.txt (line 11)) (1.9.0)\n",
      "Requirement already satisfied: chardet<5,>=3.0.2 in /usr/lib/python3/dist-packages (from requests->jupyterlab-server~=2.3->jupyterlab->-r requirements.txt (line 12)) (3.0.4)\n",
      "Requirement already satisfied: certifi>=2017.4.17 in /usr/lib/python3/dist-packages (from requests->jupyterlab-server~=2.3->jupyterlab->-r requirements.txt (line 12)) (2019.11.28)\n",
      "Requirement already satisfied: urllib3<1.27,>=1.21.1 in /usr/lib/python3/dist-packages (from requests->jupyterlab-server~=2.3->jupyterlab->-r requirements.txt (line 12)) (1.25.8)\n",
      "Installing collected packages: mplhep, jupyterlab\n",
      "  Attempting uninstall: jupyterlab\n",
      "    Found existing installation: jupyterlab 3.1.18\n",
      "    Uninstalling jupyterlab-3.1.18:\n",
      "      Successfully uninstalled jupyterlab-3.1.18\n",
      "Successfully installed jupyterlab-3.2.2 mplhep-0.3.15\n",
      "\u001b[33mWARNING: You are using pip version 21.2.4; however, version 21.3.1 is available.\n",
      "You should consider upgrading via the '/usr/bin/python3 -m pip install --upgrade pip' command.\u001b[0m\n"
     ]
    }
   ],
   "source": [
    "!python3 -m pip install --upgrade -r requirements.txt\n"
   ]
  }
 ],
 "metadata": {
  "interpreter": {
   "hash": "31f2aee4e71d21fbe5cf8b01ff0e069b9275f58929596ceb00d14d90e3e16cd6"
  },
  "kernelspec": {
   "display_name": "Python 3.8.10 64-bit",
   "name": "python3"
  },
  "language_info": {
   "codemirror_mode": {
    "name": "ipython",
    "version": 3
   },
   "file_extension": ".py",
   "mimetype": "text/x-python",
   "name": "python",
   "nbconvert_exporter": "python",
   "pygments_lexer": "ipython3",
   "version": "3.8.10"
  },
  "orig_nbformat": 4
 },
 "nbformat": 4,
 "nbformat_minor": 2
}
