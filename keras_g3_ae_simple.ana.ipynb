{
 "cells": [
  {
   "cell_type": "code",
   "execution_count": 2,
   "metadata": {},
   "outputs": [],
   "source": [
    "import uproot4\n",
    "import matplotlib.pyplot as plt\n",
    "import matplotlib.patches as patches\n",
    "from matplotlib.collections import PatchCollection\n",
    "from matplotlib import cm\n",
    "from matplotlib.colors import LogNorm, Normalize\n",
    "import awkward1 as ak\n",
    "from lxml import etree as ET\n",
    "import os\n",
    "from pathlib import Path\n",
    "import pandas as pd\n",
    "import numpy as np\n",
    "\n",
    "from event_display import get_module_geometry, get_module_positions, plot_calorimeter_hits, build_calorimeter_section"
   ]
  },
  {
   "cell_type": "code",
   "execution_count": 3,
   "metadata": {},
   "outputs": [
    {
     "name": "stdout",
     "output_type": "stream",
     "text": [
      "Time open 9.577701091766357\n",
      "Time split 1.2636222839355469\n"
     ]
    }
   ],
   "source": [
    "from geant3_parser import build_train_set\n",
    "from geant3_parser import Geant3DataFile\n",
    "\n",
    "file_name = os.path.join('data', 'shower_geant3_new.dat')\n",
    "data_file = Geant3DataFile(file_name, skip_lines=3)\n",
    "input_data, true_e, sum_e = build_train_set(data_file, 10, add_real_xy=False, normalize=True)"
   ]
  },
  {
   "cell_type": "code",
   "execution_count": 4,
   "metadata": {},
   "outputs": [],
   "source": [
    "def display_event(event_data):\n",
    "    # constants\n",
    "    cal_size = 11\n",
    "    cell_size = 1    \n",
    "    size_x = cell_size\n",
    "    size_y = cell_size\n",
    "    dx = size_x / 2.0\n",
    "    dy = size_y / 2.0\n",
    "\n",
    "    # go through all cells and calculate their centers\n",
    "    centers = np.arange(-cal_size/2.0 + cell_size/2, cal_size/2 + cell_size/2, 1)\n",
    "    positions = []\n",
    "    for y_iter in range(cal_size):\n",
    "        for x_iter in range(cal_size):\n",
    "            positions.append((centers[x_iter], centers[y_iter]))\n",
    "\n",
    "    # plot calorimeter with empty cells\n",
    "    fig, ax = plt.subplots()\n",
    "    build_calorimeter_section(ax, positions, 1, 1)\n",
    "\n",
    "    # Create a heat map\n",
    "    norm = LogNorm()\n",
    "    norm.autoscale(event_data)\n",
    "    cmap = cm.get_cmap('inferno')\n",
    "\n",
    "    # Convert data to rectangular patches    \n",
    "    module_rects = []\n",
    "    for y_iter in range(cal_size):\n",
    "        for x_iter in range(cal_size):\n",
    "            data_iter = y_iter*cal_size + x_iter\n",
    "            x = centers[x_iter]\n",
    "            y = centers[y_iter]\n",
    "            weight = event_data[data_iter]\n",
    "            #print(x,y,weight)\n",
    "            patch = patches.Rectangle((x-dx, y-dy), size_x, size_y, edgecolor='black', facecolor=cmap(norm(weight)))\n",
    "            module_rects.append(patch)\n",
    "\n",
    "    # plot rectangles with data\n",
    "    col = PatchCollection(module_rects, match_original=True)\n",
    "    ax.add_collection(col)\n",
    "\n",
    "    # plot heatmap legend\n",
    "    sm = plt.cm.ScalarMappable(cmap=cmap, norm=norm)\n",
    "    sm.set_array(event_data)\n",
    "    fig.colorbar(sm)\n",
    "    \n",
    "    return fig, ax"
   ]
  },
  {
   "cell_type": "code",
   "execution_count": 5,
   "metadata": {},
   "outputs": [
    {
     "data": {
      "text/plain": [
       "(<Figure size 432x288 with 2 Axes>, <AxesSubplot:>)"
      ]
     },
     "execution_count": 5,
     "metadata": {},
     "output_type": "execute_result"
    },
    {
     "data": {
      "image/png": "[encoded data removed]",
      "text/plain": [
       "<Figure size 432x288 with 2 Axes>"
      ]
     },
     "metadata": {
      "needs_background": "light"
     },
     "output_type": "display_data"
    }
   ],
   "source": [
    "display_event(input_data[0][2:])\n"
   ]
  },
  {
   "cell_type": "code",
   "execution_count": 6,
   "metadata": {},
   "outputs": [
    {
     "data": {
      "text/plain": [
       "(<Figure size 432x288 with 2 Axes>, <AxesSubplot:>)"
      ]
     },
     "execution_count": 6,
     "metadata": {},
     "output_type": "execute_result"
    },
    {
     "data": {
      "image/png": "[encoded data removed]",
      "text/plain": [
       "<Figure size 432x288 with 2 Axes>"
      ]
     },
     "metadata": {
      "needs_background": "light"
     },
     "output_type": "display_data"
    }
   ],
   "source": [
    "display_event(input_data[1][2:])"
   ]
  },
  {
   "cell_type": "code",
   "execution_count": 7,
   "metadata": {},
   "outputs": [
    {
     "data": {
      "text/plain": [
       "(<Figure size 432x288 with 2 Axes>, <AxesSubplot:>)"
      ]
     },
     "execution_count": 7,
     "metadata": {},
     "output_type": "execute_result"
    },
    {
     "data": {
      "image/png": "[encoded data removed]",
      "text/plain": [
       "<Figure size 432x288 with 2 Axes>"
      ]
     },
     "metadata": {
      "needs_background": "light"
     },
     "output_type": "display_data"
    }
   ],
   "source": [
    "display_event(input_data[2][2:])"
   ]
  },
  {
   "cell_type": "code",
   "execution_count": 8,
   "metadata": {},
   "outputs": [
    {
     "data": {
      "text/plain": [
       "(<Figure size 432x288 with 2 Axes>, <AxesSubplot:>)"
      ]
     },
     "execution_count": 8,
     "metadata": {},
     "output_type": "execute_result"
    },
    {
     "data": {
      "image/png": "[encoded data removed]",
      "text/plain": [
       "<Figure size 432x288 with 2 Axes>"
      ]
     },
     "metadata": {
      "needs_background": "light"
     },
     "output_type": "display_data"
    }
   ],
   "source": [
    "display_event(input_data[3][2:])"
   ]
  },
  {
   "cell_type": "code",
   "execution_count": 9,
   "metadata": {},
   "outputs": [
    {
     "data": {
      "text/plain": [
       "(<Figure size 432x288 with 2 Axes>, <AxesSubplot:>)"
      ]
     },
     "execution_count": 9,
     "metadata": {},
     "output_type": "execute_result"
    },
    {
     "data": {
      "image/png": "[encoded data removed]",
      "text/plain": [
       "<Figure size 432x288 with 2 Axes>"
      ]
     },
     "metadata": {
      "needs_background": "light"
     },
     "output_type": "display_data"
    }
   ],
   "source": [
    "display_event(input_data[4][2:])"
   ]
  },
  {
   "cell_type": "code",
   "execution_count": 10,
   "metadata": {},
   "outputs": [
    {
     "name": "stderr",
     "output_type": "stream",
     "text": [
      "2022-06-21 17:52:50.503538: I tensorflow/stream_executor/platform/default/dso_loader.cc:53] Successfully opened dynamic library libcudart.so.11.0\n"
     ]
    }
   ],
   "source": [
    "import math\n",
    "from keras.models import load_model\n",
    "import numpy as np\n",
    "import matplotlib.pyplot as plt\n",
    "from geant3_parser import build_train_set\n",
    "from geant3_parser import Geant3DataFile\n",
    "import os"
   ]
  },
  {
   "cell_type": "code",
   "execution_count": 11,
   "metadata": {},
   "outputs": [
    {
     "name": "stderr",
     "output_type": "stream",
     "text": [
      "2022-06-21 17:53:02.597829: I tensorflow/stream_executor/platform/default/dso_loader.cc:53] Successfully opened dynamic library libcuda.so.1\n",
      "2022-06-21 17:53:02.768433: I tensorflow/stream_executor/cuda/cuda_gpu_executor.cc:923] could not open file to read NUMA node: /sys/bus/pci/devices/0000:01:00.0/numa_node\n",
      "Your kernel may have been built without NUMA support.\n",
      "2022-06-21 17:53:02.768810: I tensorflow/core/common_runtime/gpu/gpu_device.cc:1733] Found device 0 with properties: \n",
      "pciBusID: 0000:01:00.0 name: Quadro P1000 computeCapability: 6.1\n",
      "coreClock: 1.5185GHz coreCount: 4 deviceMemorySize: 4.00GiB deviceMemoryBandwidth: 89.53GiB/s\n",
      "2022-06-21 17:53:02.768997: I tensorflow/stream_executor/platform/default/dso_loader.cc:53] Successfully opened dynamic library libcudart.so.11.0\n",
      "2022-06-21 17:53:02.806321: I tensorflow/stream_executor/platform/default/dso_loader.cc:53] Successfully opened dynamic library libcublas.so.11\n",
      "2022-06-21 17:53:02.806467: I tensorflow/stream_executor/platform/default/dso_loader.cc:53] Successfully opened dynamic library libcublasLt.so.11\n",
      "2022-06-21 17:53:02.818948: I tensorflow/stream_executor/platform/default/dso_loader.cc:53] Successfully opened dynamic library libcufft.so.10\n",
      "2022-06-21 17:53:02.821556: I tensorflow/stream_executor/platform/default/dso_loader.cc:53] Successfully opened dynamic library libcurand.so.10\n",
      "2022-06-21 17:53:02.827899: I tensorflow/stream_executor/platform/default/dso_loader.cc:53] Successfully opened dynamic library libcusolver.so.11\n",
      "2022-06-21 17:53:02.833596: I tensorflow/stream_executor/platform/default/dso_loader.cc:53] Successfully opened dynamic library libcusparse.so.11\n",
      "2022-06-21 17:53:02.835281: I tensorflow/stream_executor/platform/default/dso_loader.cc:53] Successfully opened dynamic library libcudnn.so.8\n",
      "2022-06-21 17:53:02.836582: I tensorflow/stream_executor/cuda/cuda_gpu_executor.cc:923] could not open file to read NUMA node: /sys/bus/pci/devices/0000:01:00.0/numa_node\n",
      "Your kernel may have been built without NUMA support.\n",
      "2022-06-21 17:53:02.837821: I tensorflow/stream_executor/cuda/cuda_gpu_executor.cc:923] could not open file to read NUMA node: /sys/bus/pci/devices/0000:01:00.0/numa_node\n",
      "Your kernel may have been built without NUMA support.\n",
      "2022-06-21 17:53:02.838136: I tensorflow/core/common_runtime/gpu/gpu_device.cc:1871] Adding visible gpu devices: 0\n",
      "2022-06-21 17:53:02.840298: I tensorflow/core/platform/cpu_feature_guard.cc:142] This TensorFlow binary is optimized with oneAPI Deep Neural Network Library (oneDNN) to use the following CPU instructions in performance-critical operations:  AVX2 FMA\n",
      "To enable them in other operations, rebuild TensorFlow with the appropriate compiler flags.\n",
      "2022-06-21 17:53:02.844738: I tensorflow/stream_executor/cuda/cuda_gpu_executor.cc:923] could not open file to read NUMA node: /sys/bus/pci/devices/0000:01:00.0/numa_node\n",
      "Your kernel may have been built without NUMA support.\n",
      "2022-06-21 17:53:02.844789: I tensorflow/core/common_runtime/gpu/gpu_device.cc:1733] Found device 0 with properties: \n",
      "pciBusID: 0000:01:00.0 name: Quadro P1000 computeCapability: 6.1\n",
      "coreClock: 1.5185GHz coreCount: 4 deviceMemorySize: 4.00GiB deviceMemoryBandwidth: 89.53GiB/s\n",
      "2022-06-21 17:53:02.845573: I tensorflow/stream_executor/cuda/cuda_gpu_executor.cc:923] could not open file to read NUMA node: /sys/bus/pci/devices/0000:01:00.0/numa_node\n",
      "Your kernel may have been built without NUMA support.\n",
      "2022-06-21 17:53:02.846517: I tensorflow/stream_executor/cuda/cuda_gpu_executor.cc:923] could not open file to read NUMA node: /sys/bus/pci/devices/0000:01:00.0/numa_node\n",
      "Your kernel may have been built without NUMA support.\n",
      "2022-06-21 17:53:02.846550: I tensorflow/core/common_runtime/gpu/gpu_device.cc:1871] Adding visible gpu devices: 0\n",
      "2022-06-21 17:53:02.846805: I tensorflow/stream_executor/platform/default/dso_loader.cc:53] Successfully opened dynamic library libcudart.so.11.0\n",
      "2022-06-21 17:53:05.668583: I tensorflow/core/common_runtime/gpu/gpu_device.cc:1258] Device interconnect StreamExecutor with strength 1 edge matrix:\n",
      "2022-06-21 17:53:05.668654: I tensorflow/core/common_runtime/gpu/gpu_device.cc:1264]      0 \n",
      "2022-06-21 17:53:05.668673: I tensorflow/core/common_runtime/gpu/gpu_device.cc:1277] 0:   N \n",
      "2022-06-21 17:53:05.670156: I tensorflow/stream_executor/cuda/cuda_gpu_executor.cc:923] could not open file to read NUMA node: /sys/bus/pci/devices/0000:01:00.0/numa_node\n",
      "Your kernel may have been built without NUMA support.\n",
      "2022-06-21 17:53:05.671352: I tensorflow/stream_executor/cuda/cuda_gpu_executor.cc:923] could not open file to read NUMA node: /sys/bus/pci/devices/0000:01:00.0/numa_node\n",
      "Your kernel may have been built without NUMA support.\n",
      "2022-06-21 17:53:05.671394: I tensorflow/core/common_runtime/gpu/gpu_device.cc:1501] Could not identify NUMA node of platform GPU id 0, defaulting to 0.  Your kernel may not have been built with NUMA support.\n",
      "2022-06-21 17:53:05.672586: I tensorflow/stream_executor/cuda/cuda_gpu_executor.cc:923] could not open file to read NUMA node: /sys/bus/pci/devices/0000:01:00.0/numa_node\n",
      "Your kernel may have been built without NUMA support.\n",
      "2022-06-21 17:53:05.673287: I tensorflow/core/common_runtime/gpu/gpu_device.cc:1418] Created TensorFlow device (/job:localhost/replica:0/task:0/device:GPU:0 with 2763 MB memory) -> physical GPU (device: 0, name: Quadro P1000, pci bus id: 0000:01:00.0, compute capability: 6.1)\n",
      "2022-06-21 17:53:07.483603: I tensorflow/compiler/mlir/mlir_graph_optimization_pass.cc:176] None of the MLIR Optimization Passes are enabled (registered 2)\n",
      "2022-06-21 17:53:07.488303: I tensorflow/core/platform/profile_utils/cpu_utils.cc:114] CPU Frequency: 2904005000 Hz\n",
      "2022-06-21 17:53:13.362706: I tensorflow/stream_executor/platform/default/dso_loader.cc:53] Successfully opened dynamic library libcublas.so.11\n",
      "2022-06-21 17:53:15.760000: I tensorflow/stream_executor/platform/default/dso_loader.cc:53] Successfully opened dynamic library libcublasLt.so.11\n"
     ]
    }
   ],
   "source": [
    "model = load_model('g3_autoencoder_no_xy.hd5')\n",
    "\n",
    "# Run ML on data\n",
    "eval_e = model.predict(input_data)"
   ]
  },
  {
   "cell_type": "code",
   "execution_count": 12,
   "metadata": {},
   "outputs": [
    {
     "data": {
      "text/plain": [
       "array([-1.9960003e-03,  2.6597895e-03,  4.1544214e-03, -3.2817305e-03,\n",
       "        7.3247380e-04,  2.3067743e-04, -2.0754829e-03,  2.7470442e-03,\n",
       "        1.5396070e-03,  2.0557425e-03, -2.3193203e-03,  1.1675650e-03,\n",
       "       -2.4239277e-03,  4.5402604e-03, -1.9827457e-03, -1.0788837e-03,\n",
       "        1.2871429e-03,  2.2917986e-05, -1.4010788e-03, -4.7252793e-03,\n",
       "        4.5386696e-04, -2.1698698e-04,  1.2072616e-03, -1.8261184e-03,\n",
       "       -1.9758944e-03, -7.2754659e-03,  1.1764593e-02,  2.0981573e-02,\n",
       "        4.9877591e-02,  6.1963007e-02,  5.3096797e-02,  3.5997208e-02,\n",
       "        2.2213180e-02,  1.7208699e-03,  4.6374681e-03, -1.8038653e-03,\n",
       "       -3.1976146e-03,  3.4851503e-02,  8.4846817e-02,  1.3725215e-01,\n",
       "        1.7623037e-01,  1.4429806e-01,  6.8543829e-02,  2.8800506e-02,\n",
       "        3.7936382e-03, -1.4696686e-03, -3.8835846e-03, -2.5930270e-03,\n",
       "        4.4461567e-02,  1.4689879e-01,  2.9023719e-01,  3.8833317e-01,\n",
       "        2.9048166e-01,  1.3676400e-01,  4.9636669e-02,  1.0031830e-03,\n",
       "        2.0337189e-03,  2.2681910e-03, -6.5909221e-04,  5.1267333e-02,\n",
       "        1.7579821e-01,  3.9005244e-01,  6.4210796e-01,  3.9058736e-01,\n",
       "        1.7298226e-01,  5.5716567e-02, -9.7696949e-03,  3.2212711e-03,\n",
       "       -1.0269820e-03,  1.8292812e-03,  4.9127445e-02,  1.3815406e-01,\n",
       "        2.9516235e-01,  3.9425087e-01,  2.9004040e-01,  1.4216678e-01,\n",
       "        4.7003761e-02, -1.2794967e-03,  4.1337367e-03, -9.4607810e-04,\n",
       "        4.0529626e-03,  2.3787277e-02,  7.7811398e-02,  1.4016950e-01,\n",
       "        1.8337992e-01,  1.5163377e-01,  7.8128390e-02,  2.5108865e-02,\n",
       "        5.6425775e-03,  5.6143547e-03,  5.8889757e-03,  4.2230678e-03,\n",
       "        1.4749920e-02,  3.0738778e-02,  4.8337292e-02,  6.0079060e-02,\n",
       "        5.2195836e-02,  2.5198244e-02,  9.3148248e-03, -4.0520611e-03,\n",
       "        1.8473394e-03,  3.4697768e-03,  8.0570597e-03,  4.2285882e-03,\n",
       "       -7.0427905e-04, -1.9799815e-03,  2.8448619e-03,  3.7618782e-03,\n",
       "        1.4318236e-03, -1.3114266e-03, -1.7463416e-04, -4.9535111e-03,\n",
       "        2.0216212e-03, -1.1636273e-03,  3.5810098e-04, -5.3323666e-03,\n",
       "        3.3775717e-04, -1.4070066e-03,  1.2705541e-03, -3.1880010e-04,\n",
       "       -8.9268491e-04,  2.8703355e-03,  1.6753768e-03], dtype=float32)"
      ]
     },
     "execution_count": 12,
     "metadata": {},
     "output_type": "execute_result"
    }
   ],
   "source": [
    "eval_e[0]"
   ]
  },
  {
   "cell_type": "code",
   "execution_count": 29,
   "metadata": {},
   "outputs": [
    {
     "data": {
      "text/plain": [
       "array([0.0000000e+00, 2.6597895e-03, 4.1544214e-03, 0.0000000e+00,\n",
       "       7.3247380e-04, 2.3067743e-04, 0.0000000e+00, 2.7470442e-03,\n",
       "       1.5396070e-03, 2.0557425e-03, 0.0000000e+00, 1.1675650e-03,\n",
       "       0.0000000e+00, 4.5402604e-03, 0.0000000e+00, 0.0000000e+00,\n",
       "       1.2871429e-03, 2.2917986e-05, 0.0000000e+00, 0.0000000e+00,\n",
       "       4.5386696e-04, 0.0000000e+00, 1.2072616e-03, 0.0000000e+00,\n",
       "       0.0000000e+00, 0.0000000e+00, 1.1764593e-02, 2.0981573e-02,\n",
       "       4.9877591e-02, 6.1963007e-02, 5.3096797e-02, 3.5997208e-02,\n",
       "       2.2213180e-02, 1.7208699e-03, 4.6374681e-03, 0.0000000e+00,\n",
       "       0.0000000e+00, 3.4851503e-02, 8.4846817e-02, 1.3725215e-01,\n",
       "       1.7623037e-01, 1.4429806e-01, 6.8543829e-02, 2.8800506e-02,\n",
       "       3.7936382e-03, 0.0000000e+00, 0.0000000e+00, 0.0000000e+00,\n",
       "       4.4461567e-02, 1.4689879e-01, 2.9023719e-01, 3.8833317e-01,\n",
       "       2.9048166e-01, 1.3676400e-01, 4.9636669e-02, 1.0031830e-03,\n",
       "       2.0337189e-03, 2.2681910e-03, 0.0000000e+00, 5.1267333e-02,\n",
       "       1.7579821e-01, 3.9005244e-01, 6.4210796e-01, 3.9058736e-01,\n",
       "       1.7298226e-01, 5.5716567e-02, 0.0000000e+00, 3.2212711e-03,\n",
       "       0.0000000e+00, 1.8292812e-03, 4.9127445e-02, 1.3815406e-01,\n",
       "       2.9516235e-01, 3.9425087e-01, 2.9004040e-01, 1.4216678e-01,\n",
       "       4.7003761e-02, 0.0000000e+00, 4.1337367e-03, 0.0000000e+00,\n",
       "       4.0529626e-03, 2.3787277e-02, 7.7811398e-02, 1.4016950e-01,\n",
       "       1.8337992e-01, 1.5163377e-01, 7.8128390e-02, 2.5108865e-02,\n",
       "       5.6425775e-03, 5.6143547e-03, 5.8889757e-03, 4.2230678e-03,\n",
       "       1.4749920e-02, 3.0738778e-02, 4.8337292e-02, 6.0079060e-02,\n",
       "       5.2195836e-02, 2.5198244e-02, 9.3148248e-03, 0.0000000e+00,\n",
       "       1.8473394e-03, 3.4697768e-03, 8.0570597e-03, 4.2285882e-03,\n",
       "       0.0000000e+00, 0.0000000e+00, 2.8448619e-03, 3.7618782e-03,\n",
       "       1.4318236e-03, 0.0000000e+00, 0.0000000e+00, 0.0000000e+00,\n",
       "       2.0216212e-03, 0.0000000e+00, 3.5810098e-04, 0.0000000e+00,\n",
       "       3.3775717e-04, 0.0000000e+00, 1.2705541e-03, 0.0000000e+00,\n",
       "       0.0000000e+00, 2.8703355e-03, 1.6753768e-03], dtype=float32)"
      ]
     },
     "execution_count": 29,
     "metadata": {},
     "output_type": "execute_result"
    }
   ],
   "source": [
    "eval_e[eval_e<0]=0\n",
    "eval_e[0]"
   ]
  },
  {
   "cell_type": "code",
   "execution_count": 34,
   "metadata": {},
   "outputs": [
    {
     "data": {
      "text/plain": [
       "Text(0.5, 1.0, 'keras_g3_ae_simple_event 2')"
      ]
     },
     "execution_count": 34,
     "metadata": {},
     "output_type": "execute_result"
    },
    {
     "data": {
      "image/png": "[encoded data removed]",
      "text/plain": [
       "<Figure size 432x288 with 1 Axes>"
      ]
     },
     "metadata": {
      "needs_background": "light"
     },
     "output_type": "display_data"
    }
   ],
   "source": [
    "i=2\n",
    "plt.plot(input_data[i],label='true',color='red')\n",
    "plt.plot(eval_e[i],label='pred',color='blue')\n",
    "plt.legend()\n",
    "plt.title('keras_g3_ae_simple_event {}'.format(i))"
   ]
  },
  {
   "cell_type": "code",
   "execution_count": 21,
   "metadata": {},
   "outputs": [
    {
     "data": {
      "text/plain": [
       "(<Figure size 432x288 with 2 Axes>, <AxesSubplot:>)"
      ]
     },
     "execution_count": 21,
     "metadata": {},
     "output_type": "execute_result"
    },
    {
     "data": {
      "image/png": "[encoded data removed]",
      "text/plain": [
       "<Figure size 432x288 with 2 Axes>"
      ]
     },
     "metadata": {
      "needs_background": "light"
     },
     "output_type": "display_data"
    }
   ],
   "source": [
    "display_event(eval_e[0][2:])"
   ]
  },
  {
   "cell_type": "code",
   "execution_count": 22,
   "metadata": {},
   "outputs": [
    {
     "data": {
      "text/plain": [
       "(<Figure size 432x288 with 2 Axes>, <AxesSubplot:>)"
      ]
     },
     "execution_count": 22,
     "metadata": {},
     "output_type": "execute_result"
    },
    {
     "data": {
      "image/png": "[encoded data removed]",
      "text/plain": [
       "<Figure size 432x288 with 2 Axes>"
      ]
     },
     "metadata": {
      "needs_background": "light"
     },
     "output_type": "display_data"
    }
   ],
   "source": [
    "display_event(eval_e[1][2:])"
   ]
  },
  {
   "cell_type": "code",
   "execution_count": 32,
   "metadata": {},
   "outputs": [
    {
     "data": {
      "text/plain": [
       "(<Figure size 432x288 with 2 Axes>, <AxesSubplot:>)"
      ]
     },
     "execution_count": 32,
     "metadata": {},
     "output_type": "execute_result"
    },
    {
     "data": {
      "image/png": "[encoded data removed]",
      "text/plain": [
       "<Figure size 432x288 with 2 Axes>"
      ]
     },
     "metadata": {
      "needs_background": "light"
     },
     "output_type": "display_data"
    }
   ],
   "source": [
    "display_event(eval_e[2][2:])"
   ]
  },
  {
   "cell_type": "code",
   "execution_count": null,
   "metadata": {},
   "outputs": [],
   "source": []
  }
 ],
 "metadata": {
  "kernelspec": {
   "display_name": "Python 3.9.12 ('dl')",
   "language": "python",
   "name": "python3"
  },
  "language_info": {
   "codemirror_mode": {
    "name": "ipython",
    "version": 3
   },
   "file_extension": ".py",
   "mimetype": "text/x-python",
   "name": "python",
   "nbconvert_exporter": "python",
   "pygments_lexer": "ipython3",
   "version": "3.9.13"
  },
  "orig_nbformat": 4,
  "vscode": {
   "interpreter": {
    "hash": "e792f99ca924ac5da9af932bc557d69820b5853464ee68b1079b8b9e6589c389"
   }
  }
 },
 "nbformat": 4,
 "nbformat_minor": 2
}
