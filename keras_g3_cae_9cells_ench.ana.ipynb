{
 "cells": [
  {
   "cell_type": "code",
   "execution_count": 14,
   "metadata": {
    "pycharm": {
     "name": "#%%\n"
    }
   },
   "outputs": [],
   "source": [
    "import os\n",
    "import numpy as np\n",
    "\n",
    "from event_display import  table_display_compare\n",
    "from data_tools import reduce_9cells "
   ]
  },
  {
   "cell_type": "code",
   "execution_count": 15,
   "metadata": {
    "pycharm": {
     "name": "#%%\n"
    }
   },
   "outputs": [],
   "source": [
    "pics_prefix = os.path.join(\"plots\", \"v1_\")"
   ]
  },
  {
   "cell_type": "code",
   "execution_count": 16,
   "metadata": {
    "pycharm": {
     "name": "#%%\n"
    }
   },
   "outputs": [
    {
     "name": "stdout",
     "output_type": "stream",
     "text": [
      "Time open 0.27045631408691406\n",
      "Time split 0.25612950325012207\n",
      "Inputs shape new = (10000, 12, 12, 1)\n"
     ]
    }
   ],
   "source": [
    "from geant3_parser import build_true_answers_train_set\n",
    "from geant3_parser import Geant3DataFile\n",
    "\n",
    "def norm_func(e):\n",
    "    return np.float64(np.log(e) / 11)\n",
    "\n",
    "file_name = os.path.join('data', 'shower_geant3_new.dat')\n",
    "data_file = Geant3DataFile(file_name, skip_lines=3)\n",
    "\n",
    "events_to_read = 5000\n",
    "input_data, answers, values = build_true_answers_train_set(data_file, events_to_read*2, norm_func=norm_func, rnd_shift=((-2,2), (-2,2)))\n",
    "\n",
    "# Remove x,y\n",
    "\n",
    "# Reshape to events x 11 x 11 x 1 form\n",
    "input_data = np.reshape(input_data, (len(input_data), 11, 11, 1))  # -1 => autodetermine\n",
    "answers = np.reshape(answers, (len(answers), 11, 11, 1))  # -1 => autodetermine\n",
    "\n",
    "# Pad with 1 row and column of zeroes, so it divides by 2, events x 12 x 12 x 1 now\n",
    "input_data = np.pad(input_data, ((0,0), (0,1), (0,1), (0,0)), mode='constant', constant_values=0)\n",
    "answers = np.pad(answers, ((0,0), (0,1), (0,1), (0,0)), mode='constant', constant_values=0)\n",
    "\n",
    "# printout shape\n",
    "print(f\"Inputs shape new = {np.shape(input_data)}\")"
   ]
  },
  {
   "cell_type": "code",
   "execution_count": 17,
   "metadata": {
    "pycharm": {
     "name": "#%%\n"
    }
   },
   "outputs": [
    {
     "data": {
      "text/plain": "(<Figure size 864x648 with 3 Axes>, <AxesSubplot:>, <AxesSubplot:>)"
     },
     "execution_count": 17,
     "metadata": {},
     "output_type": "execute_result"
    },
    {
     "data": {
      "text/plain": "<Figure size 864x648 with 3 Axes>",
      "image/png": "[encoded data removed]"
     },
     "metadata": {
      "needs_background": "light"
     },
     "output_type": "display_data"
    }
   ],
   "source": [
    "event_number = 12\n",
    "left_event = np.exp(input_data[event_number]*11)\n",
    "right_event = np.exp(answers[event_number]*11)\n",
    "left_event[left_event<1.5] = 0\n",
    "right_event[right_event<2] = 0\n",
    "table_display_compare(left_event, right_event)\n"
   ]
  },
  {
   "cell_type": "code",
   "execution_count": 18,
   "metadata": {
    "pycharm": {
     "name": "#%%\n"
    }
   },
   "outputs": [],
   "source": [
    "ench_events = np.copy(input_data)\n",
    "for event in ench_events:\n",
    "    reduce_9cells(event)"
   ]
  },
  {
   "cell_type": "code",
   "execution_count": 19,
   "metadata": {
    "pycharm": {
     "name": "#%%\n"
    }
   },
   "outputs": [
    {
     "data": {
      "text/plain": "(<Figure size 864x648 with 3 Axes>, <AxesSubplot:>, <AxesSubplot:>)"
     },
     "execution_count": 19,
     "metadata": {},
     "output_type": "execute_result"
    },
    {
     "data": {
      "text/plain": "<Figure size 864x648 with 3 Axes>",
      "image/png": "[encoded data removed]"
     },
     "metadata": {
      "needs_background": "light"
     },
     "output_type": "display_data"
    }
   ],
   "source": [
    "event_number = 11\n",
    "left_event = np.exp(input_data[event_number]*11)\n",
    "right_event = np.exp(ench_events[event_number]*11)\n",
    "left_event[left_event<1.5] = 0\n",
    "right_event[right_event<2] = 0\n",
    "table_display_compare(left_event, right_event)"
   ]
  }
 ],
 "metadata": {
  "interpreter": {
   "hash": "a707b6ce8c685eb936424fcc3009d4b4b7a52543c4db09380a3fc49186ceb509"
  },
  "kernelspec": {
   "display_name": "Python 3.7.11 ('base')",
   "language": "python",
   "name": "python3"
  },
  "language_info": {
   "codemirror_mode": {
    "name": "ipython",
    "version": 3
   },
   "file_extension": ".py",
   "mimetype": "text/x-python",
   "name": "python",
   "nbconvert_exporter": "python",
   "pygments_lexer": "ipython3",
   "version": "3.9.12"
  },
  "orig_nbformat": 4
 },
 "nbformat": 4,
 "nbformat_minor": 2
}