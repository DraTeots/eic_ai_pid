{
 "cells": [
  {
   "cell_type": "code",
   "execution_count": 1,
   "metadata": {
    "pycharm": {
     "name": "#%%\n"
    }
   },
   "outputs": [],
   "source": [
    "import uproot4\n",
    "import matplotlib.pyplot as plt\n",
    "import matplotlib.patches as patches\n",
    "from matplotlib.collections import PatchCollection\n",
    "from matplotlib import cm\n",
    "from matplotlib.colors import LogNorm, Normalize\n",
    "import os\n",
    "import numpy as np\n",
    "import pandas as pd\n",
    "import itertools\n",
    "\n",
    "from event_display import  build_calorimeter_section"
   ]
  },
  {
   "cell_type": "code",
   "execution_count": 2,
   "metadata": {
    "pycharm": {
     "name": "#%%\n"
    }
   },
   "outputs": [],
   "source": [
    "pics_prefix = os.path.join(\"plots\", \"v1_\")"
   ]
  },
  {
   "cell_type": "code",
   "execution_count": 3,
   "metadata": {
    "pycharm": {
     "name": "#%%\n"
    }
   },
   "outputs": [
    {
     "name": "stdout",
     "output_type": "stream",
     "text": [
      "Time open 0.2693514823913574\n",
      "Time split 0.24146318435668945\n",
      "Inputs shape new = (10000, 12, 12, 1)\n"
     ]
    }
   ],
   "source": [
    "from geant3_parser import build_train_set\n",
    "from geant3_parser import Geant3DataFile\n",
    "\n",
    "file_name = os.path.join('data', 'shower_geant3_new.dat')\n",
    "data_file = Geant3DataFile(file_name, skip_lines=3)\n",
    "input_data, true_e, sum_e = build_train_set(data_file, 10000, add_real_xy=False, normalize=True)\n",
    "\n",
    "# Remove x,y\n",
    "input_data = input_data[:,2:]\n",
    "\n",
    "# Reshape to events x 11 x 11 x 1 form\n",
    "input_data = np.reshape(input_data, (len(input_data), 11, 11, 1))  # -1 => autodetermine\n",
    "\n",
    "# Pad with 1 row and column of zeroes, so it divides by 2, events x 12 x 12 x 1 now\n",
    "input_data = np.pad(input_data, ((0,0), (0,1), (0,1), (0,0)), mode='constant', constant_values=0)\n",
    "\n",
    "# printout shape\n",
    "print(f\"Inputs shape new = {np.shape(input_data)}\")"
   ]
  },
  {
   "cell_type": "code",
   "execution_count": 4,
   "metadata": {
    "pycharm": {
     "name": "#%%\n"
    }
   },
   "outputs": [
    {
     "data": {
      "text/plain": "'row, col, max = 0, 0, 0\\nfor i, c in enumerate(input_data[0]):\\n    for j, val in enumerate(c):\\n        if val > max:\\n            max = val\\n            row = j\\n            col = i\\n\\n# sets box to be around max val\\nr_ma = row + 1\\nr_mi = row - 1\\nc_ma = col + 1\\nc_mi = col - 1\\n\\n# gets outside box energy\\noutside_e = 0\\nfor i, c in enumerate(input_data[0]):\\n    for j, val in enumerate(c):\\n        if i < c_mi or i > c_ma or j < r_mi or j > r_ma:\\n            outside_e += val\\n            input_data[0][i][j] = 0\\n\\nadded_e = float(outside_e / 9) # outside energy / num cells left \\n# adds extra energy to all cells left\\nfor i, c in enumerate(input_data[0]):\\n    for j, val in enumerate(c):\\n        if i >= c_mi and i <= c_ma and j >= r_mi and j <= r_ma:\\n            input_data[0][i][j] += added_e'"
     },
     "execution_count": 4,
     "metadata": {},
     "output_type": "execute_result"
    }
   ],
   "source": [
    "# finds loc of max value\n",
    "'''row, col, max = 0, 0, 0\n",
    "for i, c in enumerate(input_data[0]):\n",
    "    for j, val in enumerate(c):\n",
    "        if val > max:\n",
    "            max = val\n",
    "            row = j\n",
    "            col = i\n",
    "\n",
    "# sets box to be around max val\n",
    "r_ma = row + 1\n",
    "r_mi = row - 1\n",
    "c_ma = col + 1\n",
    "c_mi = col - 1\n",
    "\n",
    "# gets outside box energy\n",
    "outside_e = 0\n",
    "for i, c in enumerate(input_data[0]):\n",
    "    for j, val in enumerate(c):\n",
    "        if i < c_mi or i > c_ma or j < r_mi or j > r_ma:\n",
    "            outside_e += val\n",
    "            input_data[0][i][j] = 0\n",
    "\n",
    "added_e = float(outside_e / 9) # outside energy / num cells left \n",
    "# adds extra energy to all cells left\n",
    "for i, c in enumerate(input_data[0]):\n",
    "    for j, val in enumerate(c):\n",
    "        if i >= c_mi and i <= c_ma and j >= r_mi and j <= r_ma:\n",
    "            input_data[0][i][j] += added_e'''"
   ]
  },
  {
   "cell_type": "code",
   "execution_count": 5,
   "metadata": {
    "pycharm": {
     "name": "#%%\n"
    }
   },
   "outputs": [],
   "source": [
    "def display_event(event_data, fig=None, ax=None, cal_size=12, cell_size=1):\n",
    "    # constants\n",
    "    size_x = cell_size\n",
    "    size_y = cell_size\n",
    "    dx = size_x / 2.0\n",
    "    dy = size_y / 2.0\n",
    "\n",
    "    # go through all cells and calculate their centers\n",
    "    centers = np.arange(-cal_size/2.0 + cell_size/2, cal_size/2 + cell_size/2, 1)\n",
    "    positions = []\n",
    "    for y_iter in range(cal_size):\n",
    "        for x_iter in range(cal_size):\n",
    "            positions.append((centers[x_iter], centers[y_iter]))\n",
    "\n",
    "    # plot calorimeter with empty cells\n",
    "    if not fig or not ax:\n",
    "        fig, ax = plt.subplots()\n",
    "    build_calorimeter_section(ax, positions, 1, 1)\n",
    "\n",
    "    # Create a heat map\n",
    "    norm = LogNorm()\n",
    "    norm.autoscale(event_data)\n",
    "    cmap = cm.get_cmap('inferno')\n",
    "\n",
    "    # Convert data to rectangular patches    \n",
    "    module_rects = []\n",
    "    for y_iter in range(cal_size):\n",
    "        for x_iter in range(cal_size):\n",
    "            x = centers[x_iter]\n",
    "            y = centers[y_iter]\n",
    "            weight = event_data[x_iter][y_iter][0]\n",
    "            #print(x,y,weight)\n",
    "            patch = patches.Rectangle((x-dx, y-dy), size_x, size_y, edgecolor='black', facecolor=cmap(norm(weight)))\n",
    "            module_rects.append(patch)\n",
    "\n",
    "    # plot rectangles with data\n",
    "    col = PatchCollection(module_rects, match_original=True)\n",
    "    ax.add_collection(col)\n",
    "\n",
    "    # plot heatmap legend\n",
    "    sm = plt.cm.ScalarMappable(cmap=cmap, norm=norm)\n",
    "    sm.set_array(event_data)\n",
    "    fig.colorbar(sm)\n",
    "    \n",
    "    return fig, ax\n",
    "\n",
    "\n",
    "def display_event_comparison(left_data, right_data, fig=None, cal_size=12, cell_size=1):\n",
    "    # constants\n",
    "    size_x = cell_size\n",
    "    size_y = cell_size\n",
    "    dx = size_x / 2.0\n",
    "    dy = size_y / 2.0\n",
    "\n",
    "    # go through all cells and calculate their centers\n",
    "    centers = np.arange(-cal_size/2.0 + cell_size/2, cal_size/2 + cell_size/2, 1)\n",
    "    positions = []\n",
    "    for y_iter in range(cal_size):\n",
    "        for x_iter in range(cal_size):\n",
    "            positions.append((centers[x_iter], centers[y_iter]))\n",
    "\n",
    "    # plot calorimeter with empty cells\n",
    "    if not fig:\n",
    "        fig = plt.figure(figsize=(12,9))\n",
    "\n",
    "    ax_left, ax_right = fig.subplots(1, 2)\n",
    "    build_calorimeter_section(ax_left, positions, 1, 1)\n",
    "    build_calorimeter_section(ax_right, positions, 1, 1)\n",
    "\n",
    "    # Create a heat map\n",
    "    norm = LogNorm()    \n",
    "    norm.autoscale(np.vstack((left_data,right_data)))\n",
    "    cmap = cm.get_cmap('inferno')\n",
    "\n",
    "    def display_event_values(data, ax):\n",
    "        # Convert data to rectangular patches    \n",
    "        module_rects = []\n",
    "        for y_iter in range(cal_size):\n",
    "            for x_iter in range(cal_size):\n",
    "                x = centers[x_iter]\n",
    "                y = centers[y_iter]\n",
    "                weight = data[x_iter][y_iter][0]\n",
    "                #print(x,y,weight)\n",
    "                patch = patches.Rectangle((x-dx, y-dy), size_x, size_y, edgecolor='black', facecolor=cmap(norm(weight)))\n",
    "                module_rects.append(patch)\n",
    "\n",
    "        # plot rectangles with data\n",
    "        col = PatchCollection(module_rects, match_original=True)\n",
    "        ax.add_collection(col)\n",
    "\n",
    "    display_event_values(left_data, ax_left)\n",
    "    display_event_values(right_data, ax_right)\n",
    "\n",
    "    # plot heatmap legend\n",
    "    sm = plt.cm.ScalarMappable(cmap=cmap, norm=norm)\n",
    "    sm.set_array(np.vstack((left_data,right_data)))\n",
    "    fig.colorbar(sm, orientation=\"horizontal\", ax=[ax_left,ax_right], extend=\"both\")\n",
    "\n",
    "    ax_left.set_aspect('equal', 'box')\n",
    "    ax_right.set_aspect('equal', 'box')\n",
    "    \n",
    "    return fig, ax_left, ax_right\n",
    "\n",
    "def get_bin_centers(bins):\n",
    "    \"\"\"Calculates bin centers out of bin boundaries\"\"\"\n",
    "    assert len(bins) >= 2\n",
    "    return bins[:-1] + (bins[1:] - bins[:-1]) / 2\n",
    "\n",
    "# Prints 11x11 cells event\n",
    "def print_event(table):\n",
    "    if not len(table):\n",
    "        print(\"EMPTY TABLE\")\n",
    "        return\n",
    "    \n",
    "    split_line = \"\"\n",
    "    for irow, row in enumerate(table):\n",
    "        if irow == 0:\n",
    "            # First row => making title\n",
    "            col_names = \"ROW   \" +  \" \".join([f\"{column_num:<5}\" for column_num in range(len(row))])\n",
    "            spaces = int((len(col_names) - len(\"COLUMNS\"))/2)\n",
    "            header = \"{0}COLUMNS{0}\".format(spaces*\" \")\n",
    "            split_line = \"-\"*len(col_names)\n",
    "            print()            \n",
    "            print(header)\n",
    "            print(col_names)\n",
    "            print(split_line)\n",
    "        cells = f\"{irow:<4}| \" + \" \".join([f\"{cell[0]*11:<5.2}\" for cell in row])\n",
    "        print(cells)\n",
    "\n",
    "    # Footer\n",
    "    print(split_line)"
   ]
  },
  {
   "cell_type": "code",
   "execution_count": 6,
   "metadata": {
    "pycharm": {
     "name": "#%%\n"
    }
   },
   "outputs": [
    {
     "name": "stderr",
     "output_type": "stream",
     "text": [
      "2022-05-18 17:03:56.998801: I tensorflow/stream_executor/platform/default/dso_loader.cc:49] Successfully opened dynamic library libcudart.so.10.1\n"
     ]
    },
    {
     "ename": "OSError",
     "evalue": "SavedModel file does not exist at: g3_autoencoder_conv_no_xy.hd5/{saved_model.pbtxt|saved_model.pb}",
     "output_type": "error",
     "traceback": [
      "\u001B[0;31m---------------------------------------------------------------------------\u001B[0m",
      "\u001B[0;31mOSError\u001B[0m                                   Traceback (most recent call last)",
      "Input \u001B[0;32mIn [6]\u001B[0m, in \u001B[0;36m<cell line: 3>\u001B[0;34m()\u001B[0m\n\u001B[1;32m      1\u001B[0m \u001B[38;5;66;03m# Load NN model\u001B[39;00m\n\u001B[1;32m      2\u001B[0m \u001B[38;5;28;01mfrom\u001B[39;00m \u001B[38;5;21;01mkeras\u001B[39;00m\u001B[38;5;21;01m.\u001B[39;00m\u001B[38;5;21;01mmodels\u001B[39;00m \u001B[38;5;28;01mimport\u001B[39;00m load_model\n\u001B[0;32m----> 3\u001B[0m model \u001B[38;5;241m=\u001B[39m \u001B[43mload_model\u001B[49m\u001B[43m(\u001B[49m\u001B[38;5;124;43m'\u001B[39;49m\u001B[38;5;124;43mg3_autoencoder_conv_no_xy.hd5\u001B[39;49m\u001B[38;5;124;43m'\u001B[39;49m\u001B[43m)\u001B[49m\n\u001B[1;32m      5\u001B[0m \u001B[38;5;66;03m# Run ML on data\u001B[39;00m\n\u001B[1;32m      6\u001B[0m ml_events \u001B[38;5;241m=\u001B[39m model\u001B[38;5;241m.\u001B[39mpredict(input_data)\n",
      "File \u001B[0;32m~/anaconda3/envs/ai/lib/python3.9/site-packages/tensorflow/python/keras/saving/save.py:211\u001B[0m, in \u001B[0;36mload_model\u001B[0;34m(filepath, custom_objects, compile, options)\u001B[0m\n\u001B[1;32m    209\u001B[0m     filepath \u001B[38;5;241m=\u001B[39m path_to_string(filepath)\n\u001B[1;32m    210\u001B[0m     \u001B[38;5;28;01mif\u001B[39;00m \u001B[38;5;28misinstance\u001B[39m(filepath, six\u001B[38;5;241m.\u001B[39mstring_types):\n\u001B[0;32m--> 211\u001B[0m       \u001B[43mloader_impl\u001B[49m\u001B[38;5;241;43m.\u001B[39;49m\u001B[43mparse_saved_model\u001B[49m\u001B[43m(\u001B[49m\u001B[43mfilepath\u001B[49m\u001B[43m)\u001B[49m\n\u001B[1;32m    212\u001B[0m       \u001B[38;5;28;01mreturn\u001B[39;00m saved_model_load\u001B[38;5;241m.\u001B[39mload(filepath, \u001B[38;5;28mcompile\u001B[39m, options)\n\u001B[1;32m    214\u001B[0m \u001B[38;5;28;01mraise\u001B[39;00m \u001B[38;5;167;01mIOError\u001B[39;00m(\n\u001B[1;32m    215\u001B[0m     \u001B[38;5;124m'\u001B[39m\u001B[38;5;124mUnable to load model. Filepath is not an hdf5 file (or h5py is not \u001B[39m\u001B[38;5;124m'\u001B[39m\n\u001B[1;32m    216\u001B[0m     \u001B[38;5;124m'\u001B[39m\u001B[38;5;124mavailable) or SavedModel.\u001B[39m\u001B[38;5;124m'\u001B[39m)\n",
      "File \u001B[0;32m~/anaconda3/envs/ai/lib/python3.9/site-packages/tensorflow/python/saved_model/loader_impl.py:111\u001B[0m, in \u001B[0;36mparse_saved_model\u001B[0;34m(export_dir)\u001B[0m\n\u001B[1;32m    109\u001B[0m     \u001B[38;5;28;01mraise\u001B[39;00m \u001B[38;5;167;01mIOError\u001B[39;00m(\u001B[38;5;124m\"\u001B[39m\u001B[38;5;124mCannot parse file \u001B[39m\u001B[38;5;132;01m%s\u001B[39;00m\u001B[38;5;124m: \u001B[39m\u001B[38;5;132;01m%s\u001B[39;00m\u001B[38;5;124m.\u001B[39m\u001B[38;5;124m\"\u001B[39m \u001B[38;5;241m%\u001B[39m (path_to_pbtxt, \u001B[38;5;28mstr\u001B[39m(e)))\n\u001B[1;32m    110\u001B[0m \u001B[38;5;28;01melse\u001B[39;00m:\n\u001B[0;32m--> 111\u001B[0m   \u001B[38;5;28;01mraise\u001B[39;00m \u001B[38;5;167;01mIOError\u001B[39;00m(\u001B[38;5;124m\"\u001B[39m\u001B[38;5;124mSavedModel file does not exist at: \u001B[39m\u001B[38;5;132;01m%s\u001B[39;00m\u001B[38;5;124m/\u001B[39m\u001B[38;5;124m{\u001B[39m\u001B[38;5;132;01m%s\u001B[39;00m\u001B[38;5;124m|\u001B[39m\u001B[38;5;132;01m%s\u001B[39;00m\u001B[38;5;124m}\u001B[39m\u001B[38;5;124m\"\u001B[39m \u001B[38;5;241m%\u001B[39m\n\u001B[1;32m    112\u001B[0m                 (export_dir,\n\u001B[1;32m    113\u001B[0m                  constants\u001B[38;5;241m.\u001B[39mSAVED_MODEL_FILENAME_PBTXT,\n\u001B[1;32m    114\u001B[0m                  constants\u001B[38;5;241m.\u001B[39mSAVED_MODEL_FILENAME_PB))\n",
      "\u001B[0;31mOSError\u001B[0m: SavedModel file does not exist at: g3_autoencoder_conv_no_xy.hd5/{saved_model.pbtxt|saved_model.pb}"
     ]
    }
   ],
   "source": [
    "# Load NN model\n",
    "from keras.models import load_model\n",
    "model = load_model('g3_autoencoder_conv_no_xy.hd5')\n",
    "\n",
    "# Run ML on data\n",
    "ml_events = model.predict(input_data)"
   ]
  },
  {
   "cell_type": "code",
   "execution_count": null,
   "metadata": {
    "pycharm": {
     "name": "#%%\n"
    }
   },
   "outputs": [],
   "source": [
    "true_event = np.exp(input_data[0]*11)\n",
    "ml_event = np.exp(ml_events[0]*11)\n",
    "ml_event[ml_event<2] = 0\n",
    "true_event[true_event<1.5] = 0\n",
    "display_event_comparison(true_event, ml_event)\n",
    "print(f\"max true {np.max(true_event)} max eval {np.max(ml_event)}\")\n",
    "print(f\"sum true {np.sum(true_event)} sum eval {np.sum(ml_event)}\")"
   ]
  },
  {
   "cell_type": "code",
   "execution_count": null,
   "metadata": {
    "pycharm": {
     "name": "#%%\n"
    }
   },
   "outputs": [],
   "source": [
    "def data_to_energies(data):\n",
    "    # We took log(hit) to make hits linear. /11 as a scale. Now reverting it    \n",
    "    denorm_data = np.exp(data*11)\n",
    "\n",
    "    # Get rid of array form of cells\n",
    "    # For ML you have arrays like \n",
    "    # [num_pictures][x_pixels][y_pixels][colors]  where colors=3 for RGB,  colors=1 for BW\n",
    "    # We use colors=1 (we just have an energy deposit in a cell) and we have num_pictures=num_events, [xy]_pixels=[xy]_cells\n",
    "    # No we want to remove this useless [1]\n",
    "    # (len(data), 12, 12, 1) => (len(data), 12, 12)\n",
    "    reshaped = np.reshape(denorm_data, (len(data), 12, 12))\n",
    "\n",
    "    # Sum along (x_pixels, y_pixels) axis => basicly summ everything in one event\n",
    "    sums = np.sum(reshaped, axis=(1,2))\n",
    "    return sums\n",
    "\n",
    "sr_e = data_to_energies(input_data)             # SR = simple reco = energy from original data, summed together\n",
    "ml_e = data_to_energies(ml_events)              # Energy from ML (sum everything)\n",
    "true_e = 1000*np.reshape(true_e, len(input_data))    # True energy, 1000 to convert from GeV to\n",
    "\n",
    "# create pandas table... for fun\n",
    "pd = pd.DataFrame({\"sr_e\": sr_e, \"ml_e\": ml_e, \"true_e\":true_e})"
   ]
  },
  {
   "cell_type": "code",
   "execution_count": null,
   "metadata": {
    "pycharm": {
     "name": "#%%\n"
    }
   },
   "outputs": [],
   "source": [
    "# using tuple unpacking for multiple Axes\n",
    "fig, (ax1, ax2, ax3) = plt.subplots(1, 3, figsize=(15,6))\n",
    "\n",
    "ax1.hist(sr_e, bins=10)\n",
    "ax2.hist(ml_e, bins=100)\n",
    "ax3.hist2d(sr_e, ml_e/sr_e, bins=(15, 100))\n",
    "plt.savefig(pics_prefix + \"e_2dhist.png\")\n",
    "plt.show()\n"
   ]
  },
  {
   "cell_type": "code",
   "execution_count": null,
   "metadata": {
    "pycharm": {
     "name": "#%%\n"
    }
   },
   "outputs": [],
   "source": [
    "# Build numpy 2d histogram\n",
    "err_bins = np.arange(0.94, 1.03, 0.005)\n",
    "e_bins = np.arange(0, 6000, 500)\n",
    "err_bin_centers = get_bin_centers(err_bins)\n",
    "e_bin_centers = get_bin_centers(e_bins)\n",
    "de = ml_e/sr_e\n",
    "dee_hist, de_bin_edges, e_bin_edges = np.histogram2d(sr_e, de, bins=[e_bins, err_bins])\n",
    "e_bins_num, dee_bins_num = dee_hist.shape\n",
    "e_bins_num, dee_bins_num, len(err_bin_centers)"
   ]
  },
  {
   "cell_type": "code",
   "execution_count": null,
   "metadata": {
    "pycharm": {
     "name": "#%%\n"
    }
   },
   "outputs": [],
   "source": [
    "plot_columns = 4\n",
    "plot_rows = int(e_bins_num / plot_columns) + 1\n",
    "(int(e_bins_num/plot_columns) + 1)*plot_columns\n",
    "print(f\"Total subplots: {e_bins_num} plot rows={plot_rows} columns={plot_columns}\")\n",
    "fig, axes = plt.subplots(plot_rows, plot_columns, figsize=(plot_columns*4, plot_rows*4), sharey=True)\n",
    "\n",
    "from statistics import NormalDist\n",
    "from __future__ import print_function\n",
    "import numpy as np\n",
    "import matplotlib.pyplot as plt\n",
    "from scipy.optimize import curve_fit\n",
    "\n",
    "# Fit fragment is taken from here\n",
    "# https://gist.github.com/cpascual/a03d0d49ddd2c87d7e84b9f4ad2df466\n",
    "def gauss(x, H, A, x0, sigma):\n",
    "    return H + A * np.exp(-(x - x0) ** 2 / (2 * sigma ** 2))\n",
    "\n",
    "def gauss_fit(x, y):\n",
    "    mean = sum(x * y) / sum(y)\n",
    "    sigma = np.sqrt(sum(y * (x - mean) ** 2) / sum(y))\n",
    "    popt, pcov = curve_fit(gauss, x, y, p0=[min(y), max(y), mean, sigma])\n",
    "    return popt\n",
    "\n",
    "# axes is a 2d array consisting of rows and colums [[...], [...], ...]\n",
    "# flatten it as we need to feel it one by one\n",
    "axes = list(itertools.chain.from_iterable(axes))\n",
    "sigmas = []\n",
    "dee_peaks = []\n",
    "for i in range(e_bins_num):\n",
    "    hist1d = dee_hist[i]\n",
    "    ax = axes[i]\n",
    "    # (!) using ax.step() for histograms\n",
    "    # But commented ax.plot() to check ax.step() centers correctness\n",
    "    # ax.plot(err_bin_centers, hist1d, \"-o\")    \n",
    "    ax.step(err_bins[1:], hist1d)\n",
    "\n",
    "    # Fit using Gaussian function\n",
    "    H, A, x0, sigma = gauss_fit(err_bin_centers, hist1d)\n",
    "    std = np.std(hist1d)    \n",
    "\n",
    "    # Plot gauss\n",
    "    smooth_gauss_x = np.arange(err_bins[0], err_bins[-1], (err_bins[-1]-err_bins[0])/1000)\n",
    "    smooth_gauss_y = gauss(smooth_gauss_x, H, A, x0, sigma)\n",
    "    ax.plot(smooth_gauss_x, smooth_gauss_y, '--r', label='fit')\n",
    "\n",
    "    # titles\n",
    "    ax.set_title(f\"Eml/E for E={e_bins[i]}-{e_bins[i+1]}\\n sgm={sigma:.3f} peak={x0:.4f}\", wrap=True)  \n",
    "\n",
    "    # Add our error\n",
    "    sigmas.append(sigma)\n",
    "    dee_peaks.append(x0)\n",
    "    \n",
    "\n",
    "plt.tight_layout()\n",
    "plt.savefig(pics_prefix + \"ml_div_true_fit\")\n",
    "plt.plot()"
   ]
  },
  {
   "cell_type": "code",
   "execution_count": null,
   "metadata": {
    "pycharm": {
     "name": "#%%\n"
    }
   },
   "outputs": [],
   "source": [
    "plt.plot(e_bin_centers, sigmas, \"--o\")\n",
    "plt.title(\"Sigma by energy\")\n",
    "plt.savefig(pics_prefix + \"errors\")"
   ]
  },
  {
   "cell_type": "code",
   "execution_count": null,
   "metadata": {
    "pycharm": {
     "name": "#%%\n"
    }
   },
   "outputs": [],
   "source": [
    "sigma_div_e = sigmas/e_bin_centers\n",
    "\n",
    "plt.plot(e_bin_centers, sigma_div_e, \"--o\")\n",
    "plt.xlabel(\"Energy, MeV\")\n",
    "plt.savefig(pics_prefix + \"errors_div_energy\")"
   ]
  },
  {
   "cell_type": "code",
   "execution_count": null,
   "metadata": {
    "pycharm": {
     "name": "#%%\n"
    }
   },
   "outputs": [],
   "source": [
    "def calo_error(x, a, b, c):\n",
    "    return a/np.sqrt(x) + b/x + c\n",
    "\n",
    "popt, pcov = curve_fit(calo_error, e_bin_centers, sigma_div_e, p0=[1, 1, 0])\n",
    "a, b, c = popt\n",
    "print(f\"a={a} b={b} c={c}\")\n",
    "\n",
    "# Plot gauss\n",
    "smooth_cal_x = np.arange(e_bin_centers[0], e_bin_centers[-1], (e_bin_centers[-1]-e_bin_centers[0])/1000)\n",
    "smooth_cal_y = calo_error(smooth_cal_x, a, b, c)\n",
    "\n",
    "fig, ax = plt.subplots()\n",
    "ax.plot(e_bin_centers, sigma_div_e, \"--o\")\n",
    "ax.plot(smooth_cal_x, smooth_cal_y, '--r', label='fit')\n"
   ]
  },
  {
   "cell_type": "code",
   "execution_count": null,
   "metadata": {
    "pycharm": {
     "name": "#%%\n"
    }
   },
   "outputs": [],
   "source": [
    "plt.plot(e_bin_centers, dee_peaks , \"--o\")\n",
    "plt.title(\"Mean MLE/E by energy\")\n",
    "plt.ylim(0.95,1.05)\n",
    "plt.savefig(pics_prefix + \"ml_div_true_peaks\")"
   ]
  },
  {
   "cell_type": "code",
   "execution_count": null,
   "metadata": {
    "pycharm": {
     "name": "#%%\n"
    }
   },
   "outputs": [],
   "source": []
  }
 ],
 "metadata": {
  "interpreter": {
   "hash": "a707b6ce8c685eb936424fcc3009d4b4b7a52543c4db09380a3fc49186ceb509"
  },
  "kernelspec": {
   "display_name": "Python 3.7.11 ('base')",
   "language": "python",
   "name": "python3"
  },
  "language_info": {
   "codemirror_mode": {
    "name": "ipython",
    "version": 3
   },
   "file_extension": ".py",
   "mimetype": "text/x-python",
   "name": "python",
   "nbconvert_exporter": "python",
   "pygments_lexer": "ipython3",
   "version": "3.8.10"
  },
  "orig_nbformat": 4
 },
 "nbformat": 4,
 "nbformat_minor": 2
}