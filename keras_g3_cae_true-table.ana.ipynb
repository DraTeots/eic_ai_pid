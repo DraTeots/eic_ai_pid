{
 "cells": [
  {
   "cell_type": "code",
   "execution_count": 26,
   "metadata": {
    "pycharm": {
     "name": "#%%\n"
    }
   },
   "outputs": [],
   "source": [
    "import uproot4\n",
    "import matplotlib.pyplot as plt\n",
    "import matplotlib.patches as patches\n",
    "from matplotlib.collections import PatchCollection\n",
    "from matplotlib import cm\n",
    "from matplotlib.colors import LogNorm, Normalize\n",
    "import os\n",
    "import numpy as np\n",
    "import pandas as pd\n",
    "import itertools\n",
    "\n",
    "from event_display import  table_display, table_display_compare, get_bin_centers\n"
   ]
  },
  {
   "cell_type": "code",
   "execution_count": 27,
   "metadata": {
    "pycharm": {
     "name": "#%%\n"
    }
   },
   "outputs": [],
   "source": [
    "pics_prefix = os.path.join(\"plots\", \"v1_\")"
   ]
  },
  {
   "cell_type": "code",
   "execution_count": 28,
   "metadata": {
    "pycharm": {
     "name": "#%%\n"
    }
   },
   "outputs": [
    {
     "name": "stdout",
     "output_type": "stream",
     "text": [
      "Time open 2.5428295135498047\n",
      "Time split 3.19761061668396\n",
      "Inputs shape new = (50000, 12, 12, 1)\n"
     ]
    }
   ],
   "source": [
    "from geant3_parser import build_true_answers_train_set\n",
    "from geant3_parser import Geant3DataFile\n",
    "\n",
    "def norm_func(e):\n",
    "    return np.float64(np.log(e) / 11)\n",
    "\n",
    "file_name = os.path.join('data', 'shower_geant3_new.dat')\n",
    "data_file = Geant3DataFile(file_name, skip_lines=3)\n",
    "input_data, answers, values = build_true_answers_train_set(data_file, 50000, norm_func=norm_func, rnd_shift=((-2,2), (-2,2)))\n",
    "\n",
    "# Remove x,y\n",
    "\n",
    "# Reshape to events x 11 x 11 x 1 form\n",
    "input_data = np.reshape(input_data, (len(input_data), 11, 11, 1))  # -1 => autodetermine\n",
    "answers = np.reshape(answers, (len(answers), 11, 11, 1))  # -1 => autodetermine\n",
    "\n",
    "# Pad with 1 row and column of zeroes, so it divides by 2, events x 12 x 12 x 1 now\n",
    "input_data = np.pad(input_data, ((0,0), (0,1), (0,1), (0,0)), mode='constant', constant_values=0)\n",
    "answers = np.pad(answers, ((0,0), (0,1), (0,1), (0,0)), mode='constant', constant_values=0)\n",
    "\n",
    "# printout shape\n",
    "print(f\"Inputs shape new = {np.shape(input_data)}\")"
   ]
  },
  {
   "cell_type": "code",
   "execution_count": 29,
   "metadata": {
    "pycharm": {
     "name": "#%%\n"
    }
   },
   "outputs": [],
   "source": [
    "# Load NN model\n",
    "from keras.models import load_model\n",
    "model = load_model(os.path.join('trained_models', 'g3_true.hd5'))\n",
    "# model = load_model(os.path.join('trained_models', 'g3_true_table_cae.hd5'))\n",
    "\n",
    "# Run ML on data\n",
    "ml_events = model.predict(input_data)"
   ]
  },
  {
   "cell_type": "code",
   "execution_count": 38,
   "metadata": {
    "pycharm": {
     "name": "#%%\n"
    }
   },
   "outputs": [
    {
     "name": "stdout",
     "output_type": "stream",
     "text": [
      "[[[1.0004983]\n",
      "  [1.       ]\n",
      "  [1.       ]\n",
      "  [1.       ]\n",
      "  [1.       ]\n",
      "  [1.       ]\n",
      "  [1.       ]\n",
      "  [1.       ]\n",
      "  [1.       ]\n",
      "  [1.       ]\n",
      "  [1.       ]\n",
      "  [1.0001383]]\n",
      "\n",
      " [[1.       ]\n",
      "  [1.       ]\n",
      "  [1.       ]\n",
      "  [1.       ]\n",
      "  [1.       ]\n",
      "  [1.       ]\n",
      "  [1.       ]\n",
      "  [1.       ]\n",
      "  [1.       ]\n",
      "  [1.       ]\n",
      "  [1.       ]\n",
      "  [1.0000004]]\n",
      "\n",
      " [[1.       ]\n",
      "  [1.       ]\n",
      "  [1.       ]\n",
      "  [1.       ]\n",
      "  [1.       ]\n",
      "  [1.       ]\n",
      "  [1.       ]\n",
      "  [1.       ]\n",
      "  [1.       ]\n",
      "  [1.       ]\n",
      "  [1.       ]\n",
      "  [1.       ]]\n",
      "\n",
      " [[1.       ]\n",
      "  [1.       ]\n",
      "  [1.       ]\n",
      "  [1.       ]\n",
      "  [1.       ]\n",
      "  [1.       ]\n",
      "  [1.       ]\n",
      "  [1.       ]\n",
      "  [1.       ]\n",
      "  [1.       ]\n",
      "  [1.       ]\n",
      "  [1.       ]]\n",
      "\n",
      " [[1.       ]\n",
      "  [1.       ]\n",
      "  [1.       ]\n",
      "  [1.       ]\n",
      "  [1.       ]\n",
      "  [1.       ]\n",
      "  [1.       ]\n",
      "  [1.       ]\n",
      "  [1.       ]\n",
      "  [1.       ]\n",
      "  [1.       ]\n",
      "  [1.       ]]\n",
      "\n",
      " [[1.       ]\n",
      "  [1.       ]\n",
      "  [1.       ]\n",
      "  [1.       ]\n",
      "  [1.       ]\n",
      "  [1.       ]\n",
      "  [1.       ]\n",
      "  [1.       ]\n",
      "  [1.       ]\n",
      "  [1.       ]\n",
      "  [1.       ]\n",
      "  [1.       ]]\n",
      "\n",
      " [[1.       ]\n",
      "  [1.       ]\n",
      "  [1.       ]\n",
      "  [1.       ]\n",
      "  [1.       ]\n",
      "  [1.       ]\n",
      "  [1.       ]\n",
      "  [1.       ]\n",
      "  [1.       ]\n",
      "  [1.       ]\n",
      "  [1.       ]\n",
      "  [1.       ]]\n",
      "\n",
      " [[1.       ]\n",
      "  [1.       ]\n",
      "  [1.       ]\n",
      "  [1.       ]\n",
      "  [1.       ]\n",
      "  [1.       ]\n",
      "  [1.       ]\n",
      "  [1.       ]\n",
      "  [1.       ]\n",
      "  [1.       ]\n",
      "  [1.       ]\n",
      "  [1.       ]]\n",
      "\n",
      " [[1.       ]\n",
      "  [1.       ]\n",
      "  [1.       ]\n",
      "  [1.       ]\n",
      "  [1.       ]\n",
      "  [1.       ]\n",
      "  [1.       ]\n",
      "  [1.       ]\n",
      "  [1.       ]\n",
      "  [1.       ]\n",
      "  [1.       ]\n",
      "  [1.       ]]\n",
      "\n",
      " [[1.       ]\n",
      "  [1.       ]\n",
      "  [1.       ]\n",
      "  [1.       ]\n",
      "  [1.       ]\n",
      "  [1.       ]\n",
      "  [1.       ]\n",
      "  [1.       ]\n",
      "  [1.       ]\n",
      "  [1.       ]\n",
      "  [1.       ]\n",
      "  [1.       ]]\n",
      "\n",
      " [[1.       ]\n",
      "  [1.       ]\n",
      "  [1.       ]\n",
      "  [1.       ]\n",
      "  [1.       ]\n",
      "  [1.       ]\n",
      "  [1.       ]\n",
      "  [1.       ]\n",
      "  [1.       ]\n",
      "  [1.       ]\n",
      "  [1.       ]\n",
      "  [1.0000015]]\n",
      "\n",
      " [[1.0005186]\n",
      "  [1.       ]\n",
      "  [1.       ]\n",
      "  [1.       ]\n",
      "  [1.       ]\n",
      "  [1.       ]\n",
      "  [1.       ]\n",
      "  [1.       ]\n",
      "  [1.       ]\n",
      "  [1.       ]\n",
      "  [1.       ]\n",
      "  [1.0010935]]]\n",
      "true event\n",
      "[[[  1.]\n",
      "  [  1.]\n",
      "  [  1.]\n",
      "  [  1.]\n",
      "  [  1.]\n",
      "  [  1.]\n",
      "  [  1.]\n",
      "  [  1.]\n",
      "  [  1.]\n",
      "  [  1.]\n",
      "  [  1.]\n",
      "  [  1.]]\n",
      "\n",
      " [[  1.]\n",
      "  [  1.]\n",
      "  [  1.]\n",
      "  [  1.]\n",
      "  [  1.]\n",
      "  [  1.]\n",
      "  [  1.]\n",
      "  [  1.]\n",
      "  [  1.]\n",
      "  [  1.]\n",
      "  [  1.]\n",
      "  [  1.]]\n",
      "\n",
      " [[  1.]\n",
      "  [  1.]\n",
      "  [  1.]\n",
      "  [  1.]\n",
      "  [  1.]\n",
      "  [  1.]\n",
      "  [  1.]\n",
      "  [  1.]\n",
      "  [  1.]\n",
      "  [  1.]\n",
      "  [  1.]\n",
      "  [  1.]]\n",
      "\n",
      " [[  1.]\n",
      "  [  1.]\n",
      "  [  1.]\n",
      "  [  1.]\n",
      "  [  1.]\n",
      "  [  1.]\n",
      "  [  1.]\n",
      "  [  1.]\n",
      "  [  1.]\n",
      "  [  1.]\n",
      "  [  1.]\n",
      "  [  1.]]\n",
      "\n",
      " [[  1.]\n",
      "  [  1.]\n",
      "  [  1.]\n",
      "  [  1.]\n",
      "  [  1.]\n",
      "  [  1.]\n",
      "  [410.]\n",
      "  [  1.]\n",
      "  [  1.]\n",
      "  [  1.]\n",
      "  [  1.]\n",
      "  [  1.]]\n",
      "\n",
      " [[  1.]\n",
      "  [  1.]\n",
      "  [  1.]\n",
      "  [  1.]\n",
      "  [  1.]\n",
      "  [  1.]\n",
      "  [  1.]\n",
      "  [  1.]\n",
      "  [  1.]\n",
      "  [  1.]\n",
      "  [  1.]\n",
      "  [  1.]]\n",
      "\n",
      " [[  1.]\n",
      "  [  1.]\n",
      "  [  1.]\n",
      "  [  1.]\n",
      "  [  1.]\n",
      "  [  1.]\n",
      "  [  1.]\n",
      "  [  1.]\n",
      "  [  1.]\n",
      "  [  1.]\n",
      "  [  1.]\n",
      "  [  1.]]\n",
      "\n",
      " [[  1.]\n",
      "  [  1.]\n",
      "  [  1.]\n",
      "  [  1.]\n",
      "  [  1.]\n",
      "  [  1.]\n",
      "  [  1.]\n",
      "  [  1.]\n",
      "  [  1.]\n",
      "  [  1.]\n",
      "  [  1.]\n",
      "  [  1.]]\n",
      "\n",
      " [[  1.]\n",
      "  [  1.]\n",
      "  [  1.]\n",
      "  [  1.]\n",
      "  [  1.]\n",
      "  [  1.]\n",
      "  [  1.]\n",
      "  [  1.]\n",
      "  [  1.]\n",
      "  [  1.]\n",
      "  [  1.]\n",
      "  [  1.]]\n",
      "\n",
      " [[  1.]\n",
      "  [  1.]\n",
      "  [  1.]\n",
      "  [  1.]\n",
      "  [  1.]\n",
      "  [  1.]\n",
      "  [  1.]\n",
      "  [  1.]\n",
      "  [  1.]\n",
      "  [  1.]\n",
      "  [  1.]\n",
      "  [  1.]]\n",
      "\n",
      " [[  1.]\n",
      "  [  1.]\n",
      "  [  1.]\n",
      "  [  1.]\n",
      "  [  1.]\n",
      "  [  1.]\n",
      "  [  1.]\n",
      "  [  1.]\n",
      "  [  1.]\n",
      "  [  1.]\n",
      "  [  1.]\n",
      "  [  1.]]\n",
      "\n",
      " [[  1.]\n",
      "  [  1.]\n",
      "  [  1.]\n",
      "  [  1.]\n",
      "  [  1.]\n",
      "  [  1.]\n",
      "  [  1.]\n",
      "  [  1.]\n",
      "  [  1.]\n",
      "  [  1.]\n",
      "  [  1.]\n",
      "  [  1.]]]\n",
      "max true 410.00000000000017 max eval 0.0\n",
      "sum true 410.00000000000017 sum eval 0.0\n"
     ]
    },
    {
     "data": {
      "image/png": "[encoded data removed]",
      "text/plain": [
       "<Figure size 864x648 with 3 Axes>"
      ]
     },
     "metadata": {
      "needs_background": "light"
     },
     "output_type": "display_data"
    }
   ],
   "source": [
    "true_event = np.exp(answers[5]*11)\n",
    "ml_event = np.exp(ml_events[5]*11)\n",
    "print(ml_event)\n",
    "print(\"true event\")\n",
    "print(true_event)\n",
    "\n",
    "ml_event[ml_event<2] = 0\n",
    "true_event[true_event<1.5] = 0\n",
    "\n",
    "table_display_compare(true_event, ml_event, cal_size=11)\n",
    "print(f\"max true {np.max(true_event)} max eval {np.max(ml_event)}\")\n",
    "print(f\"sum true {np.sum(true_event)} sum eval {np.sum(ml_event)}\")"
   ]
  },
  {
   "cell_type": "code",
   "execution_count": 31,
   "metadata": {
    "pycharm": {
     "name": "#%%\n"
    }
   },
   "outputs": [],
   "source": [
    "def data_to_energies(data):\n",
    "    # We took log(hit) to make hits linear. /11 as a scale. Now reverting it    \n",
    "    denorm_data = np.exp(data*11)\n",
    "\n",
    "    # Get rid of array form of cells\n",
    "    # For ML you have arrays like \n",
    "    # [num_pictures][x_pixels][y_pixels][colors]  where colors=3 for RGB,  colors=1 for BW\n",
    "    # We use colors=1 (we just have an energy deposit in a cell) and we have num_pictures=num_events, [xy]_pixels=[xy]_cells\n",
    "    # No we want to remove this useless [1]\n",
    "    # (len(data), 12, 12, 1) => (len(data), 12, 12)\n",
    "    reshaped = np.reshape(denorm_data, (len(data), 12, 12))\n",
    "\n",
    "    # Sum along (x_pixels, y_pixels) axis => basicly summ everything in one event\n",
    "    sums = np.sum(reshaped, axis=(1,2))\n",
    "    return sums\n",
    "\n",
    "sr_e = data_to_energies(input_data)             # SR = simple reco = energy from original data, summed together\n",
    "ml_e = data_to_energies(ml_events)              # Energy from ML (sum everything)\n",
    "true_e = 1000*np.reshape(values[:,0], len(input_data))    # True energy, 1000 to convert from GeV to\n",
    "\n",
    "# create pandas table... for fun\n",
    "pd = pd.DataFrame({\"sr_e\": sr_e, \"ml_e\": ml_e, \"true_e\":true_e})"
   ]
  },
  {
   "cell_type": "code",
   "execution_count": 32,
   "metadata": {
    "pycharm": {
     "name": "#%%\n"
    }
   },
   "outputs": [
    {
     "data": {
      "image/png": "[encoded data removed]",
      "text/plain": [
       "<Figure size 1080x432 with 3 Axes>"
      ]
     },
     "metadata": {
      "needs_background": "light"
     },
     "output_type": "display_data"
    }
   ],
   "source": [
    "# using tuple unpacking for multiple Axes\n",
    "fig, (ax1, ax2, ax3) = plt.subplots(1, 3, figsize=(15,6))\n",
    "\n",
    "ax1.hist(sr_e, bins=10)\n",
    "ax2.hist(ml_e, bins=100)\n",
    "ax3.hist2d(sr_e, ml_e/sr_e, bins=(15, 100))\n",
    "plt.savefig(pics_prefix + \"e_2dhist.png\")\n",
    "plt.show()\n"
   ]
  },
  {
   "cell_type": "code",
   "execution_count": 33,
   "metadata": {
    "pycharm": {
     "name": "#%%\n"
    }
   },
   "outputs": [
    {
     "data": {
      "text/plain": [
       "(11, 19, 19)"
      ]
     },
     "execution_count": 33,
     "metadata": {},
     "output_type": "execute_result"
    }
   ],
   "source": [
    "# Build numpy 2d histogram\n",
    "err_bins = np.arange(0.4, 1.4, 0.05)\n",
    "e_bins = np.arange(0, 6000, 500)\n",
    "err_bin_centers = get_bin_centers(err_bins)\n",
    "e_bin_centers = get_bin_centers(e_bins)\n",
    "de = ml_e/sr_e\n",
    "dee_hist, de_bin_edges, e_bin_edges = np.histogram2d(sr_e, de, bins=[e_bins, err_bins])\n",
    "e_bins_num, dee_bins_num = dee_hist.shape\n",
    "e_bins_num, dee_bins_num, len(err_bin_centers)"
   ]
  },
  {
   "cell_type": "code",
   "execution_count": 34,
   "metadata": {
    "pycharm": {
     "name": "#%%\n"
    }
   },
   "outputs": [
    {
     "name": "stdout",
     "output_type": "stream",
     "text": [
      "Total subplots: 11 plot rows=3 columns=4\n"
     ]
    },
    {
     "name": "stderr",
     "output_type": "stream",
     "text": [
      "<ipython-input-34-a694d72342d5>:16: RuntimeWarning: divide by zero encountered in true_divide\n",
      "  return H + A * np.exp(-(x - x0) ** 2 / (2 * sigma ** 2))\n",
      "<ipython-input-34-a694d72342d5>:16: RuntimeWarning: invalid value encountered in true_divide\n",
      "  return H + A * np.exp(-(x - x0) ** 2 / (2 * sigma ** 2))\n",
      "/home/name/.local/lib/python3.8/site-packages/scipy/optimize/minpack.py:807: OptimizeWarning: Covariance of the parameters could not be estimated\n",
      "  warnings.warn('Covariance of the parameters could not be estimated',\n",
      "<ipython-input-34-a694d72342d5>:19: RuntimeWarning: invalid value encountered in double_scalars\n",
      "  mean = sum(x * y) / sum(y)\n",
      "/home/name/.local/lib/python3.8/site-packages/scipy/optimize/minpack.py:807: OptimizeWarning: Covariance of the parameters could not be estimated\n",
      "  warnings.warn('Covariance of the parameters could not be estimated',\n",
      "<ipython-input-34-a694d72342d5>:19: RuntimeWarning: invalid value encountered in double_scalars\n",
      "  mean = sum(x * y) / sum(y)\n",
      "/home/name/.local/lib/python3.8/site-packages/scipy/optimize/minpack.py:807: OptimizeWarning: Covariance of the parameters could not be estimated\n",
      "  warnings.warn('Covariance of the parameters could not be estimated',\n",
      "<ipython-input-34-a694d72342d5>:19: RuntimeWarning: invalid value encountered in double_scalars\n",
      "  mean = sum(x * y) / sum(y)\n",
      "/home/name/.local/lib/python3.8/site-packages/scipy/optimize/minpack.py:807: OptimizeWarning: Covariance of the parameters could not be estimated\n",
      "  warnings.warn('Covariance of the parameters could not be estimated',\n",
      "<ipython-input-34-a694d72342d5>:19: RuntimeWarning: invalid value encountered in double_scalars\n",
      "  mean = sum(x * y) / sum(y)\n",
      "/home/name/.local/lib/python3.8/site-packages/scipy/optimize/minpack.py:807: OptimizeWarning: Covariance of the parameters could not be estimated\n",
      "  warnings.warn('Covariance of the parameters could not be estimated',\n",
      "<ipython-input-34-a694d72342d5>:19: RuntimeWarning: invalid value encountered in double_scalars\n",
      "  mean = sum(x * y) / sum(y)\n",
      "/home/name/.local/lib/python3.8/site-packages/scipy/optimize/minpack.py:807: OptimizeWarning: Covariance of the parameters could not be estimated\n",
      "  warnings.warn('Covariance of the parameters could not be estimated',\n",
      "<ipython-input-34-a694d72342d5>:19: RuntimeWarning: invalid value encountered in double_scalars\n",
      "  mean = sum(x * y) / sum(y)\n",
      "/home/name/.local/lib/python3.8/site-packages/scipy/optimize/minpack.py:807: OptimizeWarning: Covariance of the parameters could not be estimated\n",
      "  warnings.warn('Covariance of the parameters could not be estimated',\n",
      "<ipython-input-34-a694d72342d5>:19: RuntimeWarning: invalid value encountered in double_scalars\n",
      "  mean = sum(x * y) / sum(y)\n",
      "/home/name/.local/lib/python3.8/site-packages/scipy/optimize/minpack.py:807: OptimizeWarning: Covariance of the parameters could not be estimated\n",
      "  warnings.warn('Covariance of the parameters could not be estimated',\n",
      "<ipython-input-34-a694d72342d5>:19: RuntimeWarning: invalid value encountered in double_scalars\n",
      "  mean = sum(x * y) / sum(y)\n",
      "/home/name/.local/lib/python3.8/site-packages/scipy/optimize/minpack.py:807: OptimizeWarning: Covariance of the parameters could not be estimated\n",
      "  warnings.warn('Covariance of the parameters could not be estimated',\n",
      "<ipython-input-34-a694d72342d5>:19: RuntimeWarning: invalid value encountered in double_scalars\n",
      "  mean = sum(x * y) / sum(y)\n",
      "/home/name/.local/lib/python3.8/site-packages/scipy/optimize/minpack.py:807: OptimizeWarning: Covariance of the parameters could not be estimated\n",
      "  warnings.warn('Covariance of the parameters could not be estimated',\n",
      "<ipython-input-34-a694d72342d5>:19: RuntimeWarning: invalid value encountered in double_scalars\n",
      "  mean = sum(x * y) / sum(y)\n",
      "/home/name/.local/lib/python3.8/site-packages/scipy/optimize/minpack.py:807: OptimizeWarning: Covariance of the parameters could not be estimated\n",
      "  warnings.warn('Covariance of the parameters could not be estimated',\n"
     ]
    },
    {
     "data": {
      "text/plain": [
       "[]"
      ]
     },
     "execution_count": 34,
     "metadata": {},
     "output_type": "execute_result"
    },
    {
     "data": {
      "image/png": "[encoded data removed]",
      "text/plain": [
       "<Figure size 1152x864 with 12 Axes>"
      ]
     },
     "metadata": {
      "needs_background": "light"
     },
     "output_type": "display_data"
    }
   ],
   "source": [
    "plot_columns = 4\n",
    "plot_rows = int(e_bins_num / plot_columns) + 1\n",
    "(int(e_bins_num/plot_columns) + 1)*plot_columns\n",
    "print(f\"Total subplots: {e_bins_num} plot rows={plot_rows} columns={plot_columns}\")\n",
    "fig, axes = plt.subplots(plot_rows, plot_columns, figsize=(plot_columns*4, plot_rows*4), sharey=True)\n",
    "\n",
    "from statistics import NormalDist\n",
    "from __future__ import print_function\n",
    "import numpy as np\n",
    "import matplotlib.pyplot as plt\n",
    "from scipy.optimize import curve_fit\n",
    "\n",
    "# Fit fragment is taken from here\n",
    "# https://gist.github.com/cpascual/a03d0d49ddd2c87d7e84b9f4ad2df466\n",
    "def gauss(x, H, A, x0, sigma):\n",
    "    return H + A * np.exp(-(x - x0) ** 2 / (2 * sigma ** 2))\n",
    "\n",
    "def gauss_fit(x, y):\n",
    "    mean = sum(x * y) / sum(y)\n",
    "    sigma = np.sqrt(sum(y * (x - mean) ** 2) / sum(y))\n",
    "    popt, pcov = curve_fit(gauss, x, y, p0=[min(y), max(y), mean, sigma])\n",
    "    return popt\n",
    "\n",
    "# axes is a 2d array consisting of rows and colums [[...], [...], ...]\n",
    "# flatten it as we need to feel it one by one\n",
    "axes = list(itertools.chain.from_iterable(axes))\n",
    "sigmas = []\n",
    "dee_peaks = []\n",
    "for i in range(e_bins_num):\n",
    "    hist1d = dee_hist[i]\n",
    "    ax = axes[i]\n",
    "    # (!) using ax.step() for histograms\n",
    "    # But commented ax.plot() to check ax.step() centers correctness\n",
    "    # ax.plot(err_bin_centers, hist1d, \"-o\")    \n",
    "    ax.step(err_bins[1:], hist1d)\n",
    "\n",
    "    # Fit using Gaussian function\n",
    "    H, A, x0, sigma = gauss_fit(err_bin_centers, hist1d)\n",
    "    std = np.std(hist1d)    \n",
    "\n",
    "    # Plot gauss\n",
    "    smooth_gauss_x = np.arange(err_bins[0], err_bins[-1], (err_bins[-1]-err_bins[0])/1000)\n",
    "    smooth_gauss_y = gauss(smooth_gauss_x, H, A, x0, sigma)\n",
    "    ax.plot(smooth_gauss_x, smooth_gauss_y, '--r', label='fit')\n",
    "\n",
    "    # titles\n",
    "    ax.set_title(f\"Eml/E for E={e_bins[i]}-{e_bins[i+1]}\\n sgm={sigma:.3f} peak={x0:.4f}\", wrap=True)  \n",
    "\n",
    "    # Add our error\n",
    "    sigmas.append(sigma)\n",
    "    dee_peaks.append(x0)\n",
    "    \n",
    "\n",
    "plt.tight_layout()\n",
    "plt.savefig(pics_prefix + \"ml_div_true_fit\")\n",
    "plt.plot()"
   ]
  },
  {
   "cell_type": "code",
   "execution_count": 35,
   "metadata": {
    "pycharm": {
     "name": "#%%\n"
    }
   },
   "outputs": [
    {
     "data": {
      "image/png": "[encoded data removed]",
      "text/plain": [
       "<Figure size 432x288 with 1 Axes>"
      ]
     },
     "metadata": {
      "needs_background": "light"
     },
     "output_type": "display_data"
    }
   ],
   "source": [
    "plt.plot(e_bin_centers, sigmas, \"--o\")\n",
    "plt.title(\"Sigma by energy\")\n",
    "plt.savefig(pics_prefix + \"errors\")"
   ]
  },
  {
   "cell_type": "code",
   "execution_count": 36,
   "metadata": {
    "pycharm": {
     "name": "#%%\n"
    }
   },
   "outputs": [
    {
     "data": {
      "image/png": "[encoded data removed]",
      "text/plain": [
       "<Figure size 432x288 with 1 Axes>"
      ]
     },
     "metadata": {
      "needs_background": "light"
     },
     "output_type": "display_data"
    }
   ],
   "source": [
    "sigma_div_e = sigmas/e_bin_centers\n",
    "\n",
    "plt.plot(e_bin_centers, sigma_div_e, \"--o\")\n",
    "plt.xlabel(\"Energy, MeV\")\n",
    "plt.savefig(pics_prefix + \"errors_div_energy\")"
   ]
  },
  {
   "cell_type": "code",
   "execution_count": 37,
   "metadata": {
    "pycharm": {
     "name": "#%%\n"
    }
   },
   "outputs": [
    {
     "ename": "ValueError",
     "evalue": "array must not contain infs or NaNs",
     "output_type": "error",
     "traceback": [
      "\u001b[0;31m---------------------------------------------------------------------------\u001b[0m",
      "\u001b[0;31mValueError\u001b[0m                                Traceback (most recent call last)",
      "\u001b[0;32m<ipython-input-37-077e30400007>\u001b[0m in \u001b[0;36m<module>\u001b[0;34m\u001b[0m\n\u001b[1;32m      2\u001b[0m     \u001b[0;32mreturn\u001b[0m \u001b[0ma\u001b[0m\u001b[0;34m/\u001b[0m\u001b[0mnp\u001b[0m\u001b[0;34m.\u001b[0m\u001b[0msqrt\u001b[0m\u001b[0;34m(\u001b[0m\u001b[0mx\u001b[0m\u001b[0;34m)\u001b[0m \u001b[0;34m+\u001b[0m \u001b[0mb\u001b[0m\u001b[0;34m/\u001b[0m\u001b[0mx\u001b[0m \u001b[0;34m+\u001b[0m \u001b[0mc\u001b[0m\u001b[0;34m\u001b[0m\u001b[0;34m\u001b[0m\u001b[0m\n\u001b[1;32m      3\u001b[0m \u001b[0;34m\u001b[0m\u001b[0m\n\u001b[0;32m----> 4\u001b[0;31m \u001b[0mpopt\u001b[0m\u001b[0;34m,\u001b[0m \u001b[0mpcov\u001b[0m \u001b[0;34m=\u001b[0m \u001b[0mcurve_fit\u001b[0m\u001b[0;34m(\u001b[0m\u001b[0mcalo_error\u001b[0m\u001b[0;34m,\u001b[0m \u001b[0me_bin_centers\u001b[0m\u001b[0;34m,\u001b[0m \u001b[0msigma_div_e\u001b[0m\u001b[0;34m,\u001b[0m \u001b[0mp0\u001b[0m\u001b[0;34m=\u001b[0m\u001b[0;34m[\u001b[0m\u001b[0;36m1\u001b[0m\u001b[0;34m,\u001b[0m \u001b[0;36m1\u001b[0m\u001b[0;34m,\u001b[0m \u001b[0;36m0\u001b[0m\u001b[0;34m]\u001b[0m\u001b[0;34m)\u001b[0m\u001b[0;34m\u001b[0m\u001b[0;34m\u001b[0m\u001b[0m\n\u001b[0m\u001b[1;32m      5\u001b[0m \u001b[0ma\u001b[0m\u001b[0;34m,\u001b[0m \u001b[0mb\u001b[0m\u001b[0;34m,\u001b[0m \u001b[0mc\u001b[0m \u001b[0;34m=\u001b[0m \u001b[0mpopt\u001b[0m\u001b[0;34m\u001b[0m\u001b[0;34m\u001b[0m\u001b[0m\n\u001b[1;32m      6\u001b[0m \u001b[0mprint\u001b[0m\u001b[0;34m(\u001b[0m\u001b[0;34mf\"a={a} b={b} c={c}\"\u001b[0m\u001b[0;34m)\u001b[0m\u001b[0;34m\u001b[0m\u001b[0;34m\u001b[0m\u001b[0m\n",
      "\u001b[0;32m~/.local/lib/python3.8/site-packages/scipy/optimize/minpack.py\u001b[0m in \u001b[0;36mcurve_fit\u001b[0;34m(f, xdata, ydata, p0, sigma, absolute_sigma, check_finite, bounds, method, jac, **kwargs)\u001b[0m\n\u001b[1;32m    711\u001b[0m     \u001b[0;31m# NaNs can not be handled\u001b[0m\u001b[0;34m\u001b[0m\u001b[0;34m\u001b[0m\u001b[0;34m\u001b[0m\u001b[0m\n\u001b[1;32m    712\u001b[0m     \u001b[0;32mif\u001b[0m \u001b[0mcheck_finite\u001b[0m\u001b[0;34m:\u001b[0m\u001b[0;34m\u001b[0m\u001b[0;34m\u001b[0m\u001b[0m\n\u001b[0;32m--> 713\u001b[0;31m         \u001b[0mydata\u001b[0m \u001b[0;34m=\u001b[0m \u001b[0mnp\u001b[0m\u001b[0;34m.\u001b[0m\u001b[0masarray_chkfinite\u001b[0m\u001b[0;34m(\u001b[0m\u001b[0mydata\u001b[0m\u001b[0;34m,\u001b[0m \u001b[0mfloat\u001b[0m\u001b[0;34m)\u001b[0m\u001b[0;34m\u001b[0m\u001b[0;34m\u001b[0m\u001b[0m\n\u001b[0m\u001b[1;32m    714\u001b[0m     \u001b[0;32melse\u001b[0m\u001b[0;34m:\u001b[0m\u001b[0;34m\u001b[0m\u001b[0;34m\u001b[0m\u001b[0m\n\u001b[1;32m    715\u001b[0m         \u001b[0mydata\u001b[0m \u001b[0;34m=\u001b[0m \u001b[0mnp\u001b[0m\u001b[0;34m.\u001b[0m\u001b[0masarray\u001b[0m\u001b[0;34m(\u001b[0m\u001b[0mydata\u001b[0m\u001b[0;34m,\u001b[0m \u001b[0mfloat\u001b[0m\u001b[0;34m)\u001b[0m\u001b[0;34m\u001b[0m\u001b[0;34m\u001b[0m\u001b[0m\n",
      "\u001b[0;32m~/.local/lib/python3.8/site-packages/numpy/lib/function_base.py\u001b[0m in \u001b[0;36masarray_chkfinite\u001b[0;34m(a, dtype, order)\u001b[0m\n\u001b[1;32m    483\u001b[0m     \u001b[0ma\u001b[0m \u001b[0;34m=\u001b[0m \u001b[0masarray\u001b[0m\u001b[0;34m(\u001b[0m\u001b[0ma\u001b[0m\u001b[0;34m,\u001b[0m \u001b[0mdtype\u001b[0m\u001b[0;34m=\u001b[0m\u001b[0mdtype\u001b[0m\u001b[0;34m,\u001b[0m \u001b[0morder\u001b[0m\u001b[0;34m=\u001b[0m\u001b[0morder\u001b[0m\u001b[0;34m)\u001b[0m\u001b[0;34m\u001b[0m\u001b[0;34m\u001b[0m\u001b[0m\n\u001b[1;32m    484\u001b[0m     \u001b[0;32mif\u001b[0m \u001b[0ma\u001b[0m\u001b[0;34m.\u001b[0m\u001b[0mdtype\u001b[0m\u001b[0;34m.\u001b[0m\u001b[0mchar\u001b[0m \u001b[0;32min\u001b[0m \u001b[0mtypecodes\u001b[0m\u001b[0;34m[\u001b[0m\u001b[0;34m'AllFloat'\u001b[0m\u001b[0;34m]\u001b[0m \u001b[0;32mand\u001b[0m \u001b[0;32mnot\u001b[0m \u001b[0mnp\u001b[0m\u001b[0;34m.\u001b[0m\u001b[0misfinite\u001b[0m\u001b[0;34m(\u001b[0m\u001b[0ma\u001b[0m\u001b[0;34m)\u001b[0m\u001b[0;34m.\u001b[0m\u001b[0mall\u001b[0m\u001b[0;34m(\u001b[0m\u001b[0;34m)\u001b[0m\u001b[0;34m:\u001b[0m\u001b[0;34m\u001b[0m\u001b[0;34m\u001b[0m\u001b[0m\n\u001b[0;32m--> 485\u001b[0;31m         raise ValueError(\n\u001b[0m\u001b[1;32m    486\u001b[0m             \"array must not contain infs or NaNs\")\n\u001b[1;32m    487\u001b[0m     \u001b[0;32mreturn\u001b[0m \u001b[0ma\u001b[0m\u001b[0;34m\u001b[0m\u001b[0;34m\u001b[0m\u001b[0m\n",
      "\u001b[0;31mValueError\u001b[0m: array must not contain infs or NaNs"
     ]
    }
   ],
   "source": [
    "def calo_error(x, a, b, c):\n",
    "    return a/np.sqrt(x) + b/x + c\n",
    "\n",
    "popt, pcov = curve_fit(calo_error, e_bin_centers, sigma_div_e, p0=[1, 1, 0])\n",
    "a, b, c = popt\n",
    "print(f\"a={a} b={b} c={c}\")\n",
    "\n",
    "# Plot gauss\n",
    "smooth_cal_x = np.arange(e_bin_centers[0], e_bin_centers[-1], (e_bin_centers[-1]-e_bin_centers[0])/1000)\n",
    "smooth_cal_y = calo_error(smooth_cal_x, a, b, c)\n",
    "\n",
    "fig, ax = plt.subplots()\n",
    "ax.plot(e_bin_centers, sigma_div_e, \"o\")\n",
    "ax.plot(smooth_cal_x, smooth_cal_y, '--r', label='fit')\n"
   ]
  },
  {
   "cell_type": "code",
   "execution_count": null,
   "metadata": {
    "pycharm": {
     "name": "#%%\n"
    }
   },
   "outputs": [
    {
     "data": {
      "image/png": "[encoded data removed]",
      "text/plain": [
       "<Figure size 432x288 with 1 Axes>"
      ]
     },
     "metadata": {
      "needs_background": "light"
     },
     "output_type": "display_data"
    }
   ],
   "source": [
    "plt.plot(e_bin_centers, dee_peaks , \"--o\")\n",
    "plt.title(\"Mean MLE/E by energy\")\n",
    "plt.ylim(0.4,1.4)\n",
    "plt.savefig(pics_prefix + \"ml_div_true_peaks\")"
   ]
  },
  {
   "cell_type": "code",
   "execution_count": null,
   "metadata": {
    "pycharm": {
     "name": "#%%\n"
    }
   },
   "outputs": [],
   "source": []
  }
 ],
 "metadata": {
  "interpreter": {
   "hash": "31f2aee4e71d21fbe5cf8b01ff0e069b9275f58929596ceb00d14d90e3e16cd6"
  },
  "kernelspec": {
   "display_name": "Python 3.8.10 64-bit",
   "language": "python",
   "name": "python3"
  },
  "language_info": {
   "codemirror_mode": {
    "name": "ipython",
    "version": 3
   },
   "file_extension": ".py",
   "mimetype": "text/x-python",
   "name": "python",
   "nbconvert_exporter": "python",
   "pygments_lexer": "ipython3",
   "version": "3.8.10"
  },
  "orig_nbformat": 4
 },
 "nbformat": 4,
 "nbformat_minor": 2
}
