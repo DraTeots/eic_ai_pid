{
 "cells": [
  {
   "cell_type": "code",
   "execution_count": 1,
   "metadata": {
    "pycharm": {
     "name": "#%%\n"
    }
   },
   "outputs": [],
   "source": [
    "import uproot4\n",
    "import matplotlib.pyplot as plt\n",
    "import matplotlib.patches as patches\n",
    "from matplotlib.collections import PatchCollection\n",
    "from matplotlib import cm\n",
    "from matplotlib.colors import LogNorm, Normalize\n",
    "import os\n",
    "import numpy as np\n",
    "import pandas as pd\n",
    "import itertools\n",
    "\n",
    "from event_display import  build_calorimeter_section"
   ]
  },
  {
   "cell_type": "code",
   "execution_count": 2,
   "metadata": {
    "pycharm": {
     "name": "#%%\n"
    }
   },
   "outputs": [],
   "source": [
    "pics_prefix = os.path.join(\"plots\", \"v1_\")"
   ]
  },
  {
   "cell_type": "code",
   "execution_count": 3,
   "metadata": {
    "pycharm": {
     "name": "#%%\n"
    }
   },
   "outputs": [
    {
     "name": "stdout",
     "output_type": "stream",
     "text": [
      "Time open 0.3551018238067627\n",
      "Time split 0.2823452949523926\n",
      "Inputs shape original = (10000, 11, 11)\n",
      "max hit value = 0.7586345789791428\n",
      "Merging clusters...\n"
     ]
    }
   ],
   "source": [
    "from data_tools import merge_clusters\n",
    "from geant3_parser import build_true_answers_train_set\n",
    "from geant3_parser import Geant3DataFile\n",
    "\n",
    "def norm_func(e):\n",
    "    return np.float64(np.log(e) / 11)\n",
    "\n",
    "file_name = os.path.join('data', 'shower_geant3_new.dat')\n",
    "data_file = Geant3DataFile(file_name, skip_lines=3)\n",
    "\n",
    "events_to_read = 5000\n",
    "inputs, answers, values = build_true_answers_train_set(data_file, events_to_read*2, norm_func=norm_func, rnd_shift=((-2,2), (-2,2)))\n",
    "\n",
    "print(f\"Inputs shape original = {np.shape(inputs)}\")\n",
    "print(f\"max hit value = {np.max(inputs)}\")\n",
    "\n",
    "inputs = np.reshape(inputs, (len(inputs), 11, 11, 1))  # -1 => autodetermine\n",
    "answers = np.reshape(answers, (len(answers), 11, 11, 1))  # -1 => autodetermine\n",
    "# # Pad with 1 row and column of zeroes, so it divides by 2\n",
    "inputs = np.pad(inputs, ((0,0), (0,1), (0,1), (0,0)), mode='constant', constant_values=0)\n",
    "answers = np.pad(answers, ((0,0), (0,1), (0,1), (0,0)), mode='constant', constant_values=0)\n",
    "\n",
    "# Merge clusters\n",
    "print(\"Merging clusters...\")\n",
    "inputs, answers = merge_clusters(inputs, answers)\n"
   ]
  },
  {
   "cell_type": "code",
   "execution_count": 4,
   "metadata": {
    "pycharm": {
     "name": "#%%\n"
    }
   },
   "outputs": [],
   "source": [
    "def display_event(event_data, fig=None, ax=None, cal_size=12, cell_size=1):\n",
    "    # constants\n",
    "    size_x = cell_size\n",
    "    size_y = cell_size\n",
    "    dx = size_x / 2.0\n",
    "    dy = size_y / 2.0\n",
    "\n",
    "    # go through all cells and calculate their centers\n",
    "    centers = np.arange(-cal_size/2.0 + cell_size/2, cal_size/2 + cell_size/2, 1)\n",
    "    positions = []\n",
    "    for y_iter in range(cal_size):\n",
    "        for x_iter in range(cal_size):\n",
    "            positions.append((centers[x_iter], centers[y_iter]))\n",
    "\n",
    "    # plot calorimeter with empty cells\n",
    "    if not fig or not ax:\n",
    "        fig, ax = plt.subplots()\n",
    "    build_calorimeter_section(ax, positions, 1, 1)\n",
    "\n",
    "    # Create a heat map\n",
    "    norm = LogNorm()\n",
    "    norm.autoscale(event_data)\n",
    "    cmap = cm.get_cmap('inferno')\n",
    "\n",
    "    # Convert data to rectangular patches    \n",
    "    module_rects = []\n",
    "    for y_iter in range(cal_size):\n",
    "        for x_iter in range(cal_size):\n",
    "            x = centers[x_iter]\n",
    "            y = centers[y_iter]\n",
    "            weight = event_data[x_iter][y_iter][0]\n",
    "            #print(x,y,weight)\n",
    "            patch = patches.Rectangle((x-dx, y-dy), size_x, size_y, edgecolor='black', facecolor=cmap(norm(weight)))\n",
    "            module_rects.append(patch)\n",
    "\n",
    "    # plot rectangles with data\n",
    "    col = PatchCollection(module_rects, match_original=True)\n",
    "    ax.add_collection(col)\n",
    "\n",
    "    # plot heatmap legend\n",
    "    sm = plt.cm.ScalarMappable(cmap=cmap, norm=norm)\n",
    "    sm.set_array(event_data)\n",
    "    fig.colorbar(sm)\n",
    "    \n",
    "    return fig, ax\n",
    "\n",
    "\n",
    "def display_event_comparison(left_data, right_data, fig=None, cal_size=12, cell_size=1):\n",
    "    # constants\n",
    "    size_x = cell_size\n",
    "    size_y = cell_size\n",
    "    dx = size_x / 2.0\n",
    "    dy = size_y / 2.0\n",
    "\n",
    "    # go through all cells and calculate their centers\n",
    "    centers = np.arange(-cal_size/2.0 + cell_size/2, cal_size/2 + cell_size/2, 1)\n",
    "    positions = []\n",
    "    for y_iter in range(cal_size):\n",
    "        for x_iter in range(cal_size):\n",
    "            positions.append((centers[x_iter], centers[y_iter]))\n",
    "\n",
    "    # plot calorimeter with empty cells\n",
    "    if not fig:\n",
    "        fig = plt.figure(figsize=(12,9))\n",
    "\n",
    "    ax_left, ax_right = fig.subplots(1, 2)\n",
    "    build_calorimeter_section(ax_left, positions, 1, 1)\n",
    "    build_calorimeter_section(ax_right, positions, 1, 1)\n",
    "\n",
    "    # Create a heat map\n",
    "    norm = LogNorm()    \n",
    "    norm.autoscale(np.vstack((left_data,right_data)))\n",
    "    cmap = cm.get_cmap('inferno')\n",
    "\n",
    "    def display_event_values(data, ax):\n",
    "        # Convert data to rectangular patches    \n",
    "        module_rects = []\n",
    "        for y_iter in range(cal_size):\n",
    "            for x_iter in range(cal_size):\n",
    "                x = centers[x_iter]\n",
    "                y = centers[y_iter]\n",
    "                weight = data[x_iter][y_iter][0]\n",
    "                #print(x,y,weight)\n",
    "                patch = patches.Rectangle((x-dx, y-dy), size_x, size_y, edgecolor='black', facecolor=cmap(norm(weight)))\n",
    "                module_rects.append(patch)\n",
    "\n",
    "        # plot rectangles with data\n",
    "        col = PatchCollection(module_rects, match_original=True)\n",
    "        ax.add_collection(col)\n",
    "\n",
    "    display_event_values(left_data, ax_left)\n",
    "    display_event_values(right_data, ax_right)\n",
    "\n",
    "    # plot heatmap legend\n",
    "    sm = plt.cm.ScalarMappable(cmap=cmap, norm=norm)\n",
    "    sm.set_array(np.vstack((left_data,right_data)))\n",
    "    fig.colorbar(sm, orientation=\"horizontal\", ax=[ax_left,ax_right], extend=\"both\")\n",
    "\n",
    "    ax_left.set_aspect('equal', 'box')\n",
    "    ax_right.set_aspect('equal', 'box')\n",
    "    \n",
    "    return fig, ax_left, ax_right\n",
    "\n",
    "def get_bin_centers(bins):\n",
    "    \"\"\"Calculates bin centers out of bin boundaries\"\"\"\n",
    "    assert len(bins) >= 2\n",
    "    return bins[:-1] + (bins[1:] - bins[:-1]) / 2\n",
    "\n",
    "# Prints 11x11 cells event\n",
    "def print_event(table):\n",
    "    if not len(table):\n",
    "        print(\"EMPTY TABLE\")\n",
    "        return\n",
    "    \n",
    "    split_line = \"\"\n",
    "    for irow, row in enumerate(table):\n",
    "        if irow == 0:\n",
    "            # First row => making title\n",
    "            col_names = \"ROW   \" +  \" \".join([f\"{column_num:<5}\" for column_num in range(len(row))])\n",
    "            spaces = int((len(col_names) - len(\"COLUMNS\"))/2)\n",
    "            header = \"{0}COLUMNS{0}\".format(spaces*\" \")\n",
    "            split_line = \"-\"*len(col_names)\n",
    "            print()            \n",
    "            print(header)\n",
    "            print(col_names)\n",
    "            print(split_line)\n",
    "        cells = f\"{irow:<4}| \" + \" \".join([f\"{cell[0]*11:<5.2}\" for cell in row])\n",
    "        print(cells)\n",
    "\n",
    "    # Footer\n",
    "    print(split_line)"
   ]
  },
  {
   "cell_type": "code",
   "execution_count": 5,
   "outputs": [
    {
     "name": "stderr",
     "output_type": "stream",
     "text": [
      "2022-05-18 17:47:32.575498: I tensorflow/stream_executor/platform/default/dso_loader.cc:49] Successfully opened dynamic library libcudart.so.10.1\n",
      "2022-05-18 17:47:33.752473: I tensorflow/compiler/jit/xla_cpu_device.cc:41] Not creating XLA devices, tf_xla_enable_xla_devices not set\n",
      "2022-05-18 17:47:33.753066: I tensorflow/stream_executor/platform/default/dso_loader.cc:49] Successfully opened dynamic library libcuda.so.1\n",
      "2022-05-18 17:47:33.809919: I tensorflow/core/common_runtime/gpu/gpu_device.cc:1720] Found device 0 with properties: \n",
      "pciBusID: 0000:0a:00.0 name: NVIDIA GeForce GTX 1080 Ti computeCapability: 6.1\n",
      "coreClock: 1.683GHz coreCount: 28 deviceMemorySize: 10.91GiB deviceMemoryBandwidth: 451.17GiB/s\n",
      "2022-05-18 17:47:33.809957: I tensorflow/stream_executor/platform/default/dso_loader.cc:49] Successfully opened dynamic library libcudart.so.10.1\n",
      "2022-05-18 17:47:33.811661: I tensorflow/stream_executor/platform/default/dso_loader.cc:49] Successfully opened dynamic library libcublas.so.10\n",
      "2022-05-18 17:47:33.811711: I tensorflow/stream_executor/platform/default/dso_loader.cc:49] Successfully opened dynamic library libcublasLt.so.10\n",
      "2022-05-18 17:47:33.813384: I tensorflow/stream_executor/platform/default/dso_loader.cc:49] Successfully opened dynamic library libcufft.so.10\n",
      "2022-05-18 17:47:33.813653: I tensorflow/stream_executor/platform/default/dso_loader.cc:49] Successfully opened dynamic library libcurand.so.10\n",
      "2022-05-18 17:47:33.815418: I tensorflow/stream_executor/platform/default/dso_loader.cc:49] Successfully opened dynamic library libcusolver.so.10\n",
      "2022-05-18 17:47:33.816486: I tensorflow/stream_executor/platform/default/dso_loader.cc:49] Successfully opened dynamic library libcusparse.so.10\n",
      "2022-05-18 17:47:33.820085: I tensorflow/stream_executor/platform/default/dso_loader.cc:49] Successfully opened dynamic library libcudnn.so.7\n",
      "2022-05-18 17:47:33.820566: I tensorflow/core/common_runtime/gpu/gpu_device.cc:1862] Adding visible gpu devices: 0\n",
      "2022-05-18 17:47:33.820959: I tensorflow/core/platform/cpu_feature_guard.cc:142] This TensorFlow binary is optimized with oneAPI Deep Neural Network Library (oneDNN) to use the following CPU instructions in performance-critical operations:  SSE4.1 SSE4.2 AVX AVX2 FMA\n",
      "To enable them in other operations, rebuild TensorFlow with the appropriate compiler flags.\n",
      "2022-05-18 17:47:33.822661: I tensorflow/core/common_runtime/gpu/gpu_device.cc:1720] Found device 0 with properties: \n",
      "pciBusID: 0000:0a:00.0 name: NVIDIA GeForce GTX 1080 Ti computeCapability: 6.1\n",
      "coreClock: 1.683GHz coreCount: 28 deviceMemorySize: 10.91GiB deviceMemoryBandwidth: 451.17GiB/s\n",
      "2022-05-18 17:47:33.822700: I tensorflow/stream_executor/platform/default/dso_loader.cc:49] Successfully opened dynamic library libcudart.so.10.1\n",
      "2022-05-18 17:47:33.822720: I tensorflow/stream_executor/platform/default/dso_loader.cc:49] Successfully opened dynamic library libcublas.so.10\n",
      "2022-05-18 17:47:33.822733: I tensorflow/stream_executor/platform/default/dso_loader.cc:49] Successfully opened dynamic library libcublasLt.so.10\n",
      "2022-05-18 17:47:33.822746: I tensorflow/stream_executor/platform/default/dso_loader.cc:49] Successfully opened dynamic library libcufft.so.10\n",
      "2022-05-18 17:47:33.822758: I tensorflow/stream_executor/platform/default/dso_loader.cc:49] Successfully opened dynamic library libcurand.so.10\n",
      "2022-05-18 17:47:33.822770: I tensorflow/stream_executor/platform/default/dso_loader.cc:49] Successfully opened dynamic library libcusolver.so.10\n",
      "2022-05-18 17:47:33.822783: I tensorflow/stream_executor/platform/default/dso_loader.cc:49] Successfully opened dynamic library libcusparse.so.10\n",
      "2022-05-18 17:47:33.822795: I tensorflow/stream_executor/platform/default/dso_loader.cc:49] Successfully opened dynamic library libcudnn.so.7\n",
      "2022-05-18 17:47:33.823126: I tensorflow/core/common_runtime/gpu/gpu_device.cc:1862] Adding visible gpu devices: 0\n",
      "2022-05-18 17:47:33.823161: I tensorflow/stream_executor/platform/default/dso_loader.cc:49] Successfully opened dynamic library libcudart.so.10.1\n",
      "2022-05-18 17:47:34.159296: I tensorflow/core/common_runtime/gpu/gpu_device.cc:1261] Device interconnect StreamExecutor with strength 1 edge matrix:\n",
      "2022-05-18 17:47:34.159326: I tensorflow/core/common_runtime/gpu/gpu_device.cc:1267]      0 \n",
      "2022-05-18 17:47:34.159331: I tensorflow/core/common_runtime/gpu/gpu_device.cc:1280] 0:   N \n",
      "2022-05-18 17:47:34.159898: I tensorflow/core/common_runtime/gpu/gpu_device.cc:1406] Created TensorFlow device (/job:localhost/replica:0/task:0/device:GPU:0 with 9447 MB memory) -> physical GPU (device: 0, name: NVIDIA GeForce GTX 1080 Ti, pci bus id: 0000:0a:00.0, compute capability: 6.1)\n",
      "2022-05-18 17:47:34.160114: I tensorflow/compiler/jit/xla_gpu_device.cc:99] Not creating XLA devices, tf_xla_enable_xla_devices not set\n",
      "2022-05-18 17:47:34.633904: I tensorflow/compiler/mlir/mlir_graph_optimization_pass.cc:116] None of the MLIR optimization passes are enabled (registered 2)\n",
      "2022-05-18 17:47:34.653475: I tensorflow/core/platform/profile_utils/cpu_utils.cc:112] CPU Frequency: 3493250000 Hz\n",
      "2022-05-18 17:47:34.748387: I tensorflow/stream_executor/platform/default/dso_loader.cc:49] Successfully opened dynamic library libcudnn.so.7\n",
      "2022-05-18 17:47:35.165164: W tensorflow/stream_executor/gpu/asm_compiler.cc:63] Running ptxas --version returned 256\n",
      "2022-05-18 17:47:35.204303: W tensorflow/stream_executor/gpu/redzone_allocator.cc:314] Internal: ptxas exited with non-zero error code 256, output: \n",
      "Relying on driver to perform ptx compilation. \n",
      "Modify $PATH to customize ptxas location.\n",
      "This message will be only logged once.\n",
      "2022-05-18 17:47:35.592071: I tensorflow/stream_executor/platform/default/dso_loader.cc:49] Successfully opened dynamic library libcublas.so.10\n"
     ]
    }
   ],
   "source": [
    "# Load NN model\n",
    "from keras.models import load_model\n",
    "model_file_name = os.path.join(\"trained_models\", \"keras_g3_cae_true-table_merged-cl.hd5\")\n",
    "model = load_model(model_file_name)\n",
    "\n",
    "# Run ML on data\n",
    "ml_events = model.predict(inputs)"
   ],
   "metadata": {
    "collapsed": false,
    "pycharm": {
     "name": "#%%\n"
    }
   }
  },
  {
   "cell_type": "code",
   "execution_count": 14,
   "outputs": [
    {
     "name": "stdout",
     "output_type": "stream",
     "text": [
      "max true 3029.0 max eval 4514.76171875\n",
      "sum true 6087.0 sum eval 5558.7861328125\n"
     ]
    },
    {
     "data": {
      "text/plain": "<Figure size 864x648 with 3 Axes>",
      "image/png": "[encoded data removed]"
     },
     "metadata": {
      "needs_background": "light"
     },
     "output_type": "display_data"
    }
   ],
   "source": [
    "event_number = 7\n",
    "true_event = np.exp(inputs[event_number]*11)\n",
    "ml_event = np.exp(ml_events[event_number]*11)\n",
    "ml_event[ml_event<2] = 0\n",
    "true_event[true_event<5] = 0\n",
    "display_event_comparison(true_event, ml_event)\n",
    "print(f\"max true {np.max(true_event)} max eval {np.max(ml_event)}\")\n",
    "print(f\"sum true {np.sum(true_event)} sum eval {np.sum(ml_event)}\")"
   ],
   "metadata": {
    "collapsed": false,
    "pycharm": {
     "name": "#%%\n"
    }
   }
  },
  {
   "cell_type": "code",
   "execution_count": 6,
   "outputs": [],
   "source": [],
   "metadata": {
    "collapsed": false,
    "pycharm": {
     "name": "#%%\n"
    }
   }
  }
 ],
 "metadata": {
  "interpreter": {
   "hash": "a707b6ce8c685eb936424fcc3009d4b4b7a52543c4db09380a3fc49186ceb509"
  },
  "kernelspec": {
   "display_name": "Python 3.7.11 ('base')",
   "language": "python",
   "name": "python3"
  },
  "language_info": {
   "codemirror_mode": {
    "name": "ipython",
    "version": 3
   },
   "file_extension": ".py",
   "mimetype": "text/x-python",
   "name": "python",
   "nbconvert_exporter": "python",
   "pygments_lexer": "ipython3",
   "version": "3.9.12"
  },
  "orig_nbformat": 4
 },
 "nbformat": 4,
 "nbformat_minor": 2
}