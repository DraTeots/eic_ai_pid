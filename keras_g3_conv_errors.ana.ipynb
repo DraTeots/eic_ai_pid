{
 "cells": [
  {
   "cell_type": "code",
   "execution_count": 46,
   "metadata": {
    "pycharm": {
     "name": "#%%\n"
    }
   },
   "outputs": [],
   "source": [
    "import uproot4\n",
    "import matplotlib.pyplot as plt\n",
    "import matplotlib.patches as patches\n",
    "from matplotlib.collections import PatchCollection\n",
    "from matplotlib import cm\n",
    "from matplotlib.colors import LogNorm, Normalize\n",
    "import os\n",
    "import numpy as np\n",
    "import pandas as pd\n",
    "import itertools\n",
    "\n",
    "from event_display import  table_display, table_display_compare, get_bin_centers"
   ]
  },
  {
   "cell_type": "code",
   "execution_count": 47,
   "metadata": {
    "pycharm": {
     "name": "#%%\n"
    }
   },
   "outputs": [],
   "source": [
    "pics_prefix = os.path.join(\"plots\", \"v1_\")"
   ]
  },
  {
   "cell_type": "code",
   "execution_count": 48,
   "metadata": {
    "pycharm": {
     "name": "#%%\n"
    }
   },
   "outputs": [
    {
     "name": "stdout",
     "output_type": "stream",
     "text": [
      "Time open 0.38165950775146484\n",
      "Time split 0.43625712394714355\n",
      "(50000, 11, 11)\n",
      "(50000, 11, 11)\n",
      "(50000, 11, 11, 1)\n",
      "(50000, 11, 11, 1)\n",
      "Inputs shape new = (50000, 11, 11, 1)\n"
     ]
    }
   ],
   "source": [
    "from geant3_parser import build_true_answers_train_set\n",
    "from geant3_parser import Geant3DataFile\n",
    "\n",
    "def norm_func(e):\n",
    "    return np.float64(np.log(e) / 11)\n",
    "\n",
    "file_name = os.path.join('data', 'shower_geant3_new.dat')\n",
    "data_file = Geant3DataFile(file_name, skip_lines=3)\n",
    "input_data, answers, values = build_true_answers_train_set(data_file, 50000, norm_func=norm_func, rnd_shift=((-2,2), (-2,2)))\n",
    "print(np.shape(answers))\n",
    "print(np.shape(input_data))\n",
    "\n",
    "# Remove x,y\n",
    "\n",
    "# Reshape to events x 11 x 11 x 1 form\n",
    "input_data = np.reshape(input_data, (len(input_data), 11, 11, 1))  # -1 => autodetermine\n",
    "answers = np.reshape(answers, (len(answers), 11, 11, 1))  # -1 => autodetermine\n",
    "print(np.shape(answers))\n",
    "print(np.shape(input_data))\n",
    "\n",
    "\n",
    "# Pad with 1 row and column of zeroes, so it divides by 2, events x 12 x 12 x 1 now\n",
    "#input_data = np.pad(input_data, ((0,0), (0,1), (0,1), (0,0)), mode='constant', constant_values=0)\n",
    "#answers = np.pad(answers, ((0,0), (0,1), (0,1), (0,0)), mode='constant', constant_values=0)\n",
    "\n",
    "# printout shape\n",
    "print(f\"Inputs shape new = {np.shape(input_data)}\")"
   ]
  },
  {
   "cell_type": "code",
   "execution_count": 49,
   "metadata": {
    "pycharm": {
     "name": "#%%\n"
    }
   },
   "outputs": [
    {
     "name": "stdout",
     "output_type": "stream",
     "text": [
      "1563/1563 [==============================] - 4s 3ms/step\n",
      "[      0.       0.       0.       0.       0.       0.       0.       0.\n",
      "       0.       0.       0.       0.       0.       0.       0.       0.\n",
      "       0.       0.       0.       0.       0.       0.       0.       0.\n",
      "       0.       0.       0.       0.       0.       0.       0.       0.\n",
      "       0.       0.       0.       0.       0.       0.       0.       0.\n",
      "       0.       0.       0.       0.       0.       0.       0.       0.\n",
      "       0.       0.       0.       0.       0.       0.       0.       0.\n",
      "       0.       0.       0.       0.       0.       0.       0.       0.\n",
      "       0.       0.       0.       0.       0.       0.       0.       0.\n",
      "       0.       0.       0.       0.       0.       0.       0.       0.\n",
      "       0.       0.       0.       0.       0.       0.       0.       0.\n",
      "       0.       0.       0.       0.       0.       0.       0.       0.\n",
      "       0.       0.       0.       0.       0.       0.       0.       0.\n",
      "       0.       0.       0.       0.       0.       0.       0.       0.\n",
      "       0.       0.       0.       0.       0.       0.       0.       0.\n",
      "       0. 6242019.]\n"
     ]
    }
   ],
   "source": [
    "# Load NN model\n",
    "from keras.models import load_model\n",
    "model = load_model(os.path.join('trained_models', 'g3_conv_errors.hd5'))\n",
    "\n",
    "# Run ML on data\n",
    "ml_events = model.predict(input_data)\n",
    "# reshape events\n",
    "print(ml_events[6])\n",
    "#ml_events = np.reshape(ml_events, (len(ml_events), 11, 11, 1))\n"
   ]
  },
  {
   "cell_type": "code",
   "execution_count": 50,
   "metadata": {
    "pycharm": {
     "name": "#%%\n"
    }
   },
   "outputs": [
    {
     "data": {
      "text/plain": [
       "(array([7.192e+03, 1.419e+03, 1.132e+03, 1.054e+03, 9.420e+02, 8.720e+02,\n",
       "        8.000e+02, 7.530e+02, 7.270e+02, 6.920e+02, 7.050e+02, 6.600e+02,\n",
       "        6.560e+02, 6.300e+02, 6.430e+02, 5.890e+02, 5.610e+02, 5.800e+02,\n",
       "        6.100e+02, 5.670e+02, 5.950e+02, 5.510e+02, 5.700e+02, 5.670e+02,\n",
       "        5.140e+02, 5.170e+02, 4.880e+02, 5.240e+02, 5.310e+02, 5.150e+02,\n",
       "        5.110e+02, 5.120e+02, 5.290e+02, 5.500e+02, 5.630e+02, 5.060e+02,\n",
       "        5.140e+02, 5.440e+02, 5.390e+02, 5.620e+02, 5.950e+02, 5.300e+02,\n",
       "        5.280e+02, 5.390e+02, 5.820e+02, 5.880e+02, 5.360e+02, 5.880e+02,\n",
       "        6.020e+02, 5.720e+02, 5.820e+02, 5.670e+02, 5.780e+02, 5.120e+02,\n",
       "        5.660e+02, 5.160e+02, 5.230e+02, 5.520e+02, 5.470e+02, 5.350e+02,\n",
       "        5.380e+02, 5.240e+02, 4.690e+02, 4.820e+02, 5.100e+02, 4.150e+02,\n",
       "        3.750e+02, 4.150e+02, 3.740e+02, 3.150e+02, 2.530e+02, 2.620e+02,\n",
       "        2.380e+02, 1.850e+02, 1.660e+02, 1.470e+02, 1.270e+02, 1.160e+02,\n",
       "        9.300e+01, 7.800e+01, 5.400e+01, 4.600e+01, 3.900e+01, 2.900e+01,\n",
       "        2.900e+01, 1.800e+01, 1.400e+01, 1.600e+01, 9.000e+00, 1.100e+01,\n",
       "        6.000e+00, 6.000e+00, 3.000e+00, 3.000e+00, 5.000e+00, 3.000e+00,\n",
       "        0.000e+00, 2.000e+00, 0.000e+00, 1.000e+00]),\n",
       " array([   29896.326,   171165.27 ,   312434.22 ,   453703.16 ,\n",
       "          594972.1  ,   736241.06 ,   877510.   ,  1018778.94 ,\n",
       "         1160047.9  ,  1301316.9  ,  1442585.8  ,  1583854.8  ,\n",
       "         1725123.6  ,  1866392.6  ,  2007661.6  ,  2148930.5  ,\n",
       "         2290199.5  ,  2431468.5  ,  2572737.2  ,  2714006.2  ,\n",
       "         2855275.2  ,  2996544.2  ,  3137813.2  ,  3279082.   ,\n",
       "         3420351.   ,  3561620.   ,  3702889.   ,  3844158.   ,\n",
       "         3985426.8  ,  4126695.8  ,  4267964.5  ,  4409233.5  ,\n",
       "         4550502.5  ,  4691771.5  ,  4833040.5  ,  4974309.5  ,\n",
       "         5115578.5  ,  5256847.5  ,  5398116.5  ,  5539385.   ,\n",
       "         5680654.   ,  5821923.   ,  5963192.   ,  6104461.   ,\n",
       "         6245730.   ,  6386999.   ,  6528268.   ,  6669537.   ,\n",
       "         6810806.   ,  6952074.5  ,  7093343.5  ,  7234612.5  ,\n",
       "         7375881.5  ,  7517150.5  ,  7658419.5  ,  7799688.5  ,\n",
       "         7940957.5  ,  8082226.5  ,  8223495.   ,  8364764.   ,\n",
       "         8506033.   ,  8647302.   ,  8788571.   ,  8929840.   ,\n",
       "         9071109.   ,  9212378.   ,  9353647.   ,  9494916.   ,\n",
       "         9636185.   ,  9777454.   ,  9918723.   , 10059992.   ,\n",
       "        10201260.   , 10342529.   , 10483798.   , 10625067.   ,\n",
       "        10766336.   , 10907605.   , 11048874.   , 11190143.   ,\n",
       "        11331412.   , 11472681.   , 11613950.   , 11755219.   ,\n",
       "        11896488.   , 12037757.   , 12179026.   , 12320295.   ,\n",
       "        12461564.   , 12602833.   , 12744102.   , 12885370.   ,\n",
       "        13026639.   , 13167908.   , 13309177.   , 13450446.   ,\n",
       "        13591715.   , 13732984.   , 13874253.   , 14015522.   ,\n",
       "        14156791.   ], dtype=float32),\n",
       " <BarContainer object of 100 artists>)"
      ]
     },
     "execution_count": 50,
     "metadata": {},
     "output_type": "execute_result"
    },
    {
     "data": {
      "image/png": "[encoded data removed]",
      "text/plain": [
       "<Figure size 432x288 with 1 Axes>"
      ]
     },
     "metadata": {
      "needs_background": "light"
     },
     "output_type": "display_data"
    }
   ],
   "source": [
    "vals = []\n",
    "for event, value in enumerate(ml_events):\n",
    "    vals.append(ml_events[event][len(ml_events[event])-1])\n",
    "plt.hist(vals,bins=100)"
   ]
  },
  {
   "cell_type": "code",
   "execution_count": 67,
   "metadata": {
    "pycharm": {
     "name": "#%%\n"
    }
   },
   "outputs": [
    {
     "name": "stdout",
     "output_type": "stream",
     "text": [
      "[0.0, 0.0, 0.0, 0.0, 0.0, 0.0, 0.0, 0.0, 0.0, 0.0, 0.0, 0.0, 0.0, 0.0, 0.0, 0.0, 0.0, 0.0, 0.0, 0.0, 0.0, 0.0, 0.0, 0.0, 0.0, 0.0, 0.0, 0.0, 0.0, 0.0, 0.0, 0.0, 0.0, 0.0, 0.0, 0.0, 0.0, 0.0, 0.0, 0.0, 0.0, 0.0, 0.0, 0.0, 0.0, 0.0, 0.0, 0.0, 0.0, 0.0, 0.0, 0.0, 0.0, 0.0, 0.0, 0.0, 0.0, 0.0, 0.0, 0.0, 0.0, 0.0, 0.0, 0.0, 0.0, 0.0, 0.0, 0.0, 0.0, 0.0, 0.0, 0.0, 0.0, 0.0, 0.0, 0.0, 0.0, 0.0, 0.0, 0.0, 0.0, 0.0, 0.0, 0.0, 0.0, 0.0, 0.0, 0.0, 0.0, 0.0, 0.0, 0.0, 0.0, 0.0, 0.0, 0.0, 0.0, 0.0, 0.0, 0.0, 0.0, 0.0, 0.0, 0.0, 0.0, 0.0, 0.0, 0.0, 0.0, 0.0, 0.0, 0.0, 0.0, 0.0, 0.0, 0.0, 0.0, 0.0, 0.0, 0.0, 0.0]\n"
     ]
    }
   ],
   "source": [
    "ml_events1 = []\n",
    "value = []\n",
    "for i in range(50000):\n",
    "    for j in range(len(ml_events[i])-1):\n",
    "        value.append(ml_events[i][j])\n",
    "    ml_events1.append(value)\n",
    "    value = []\n",
    "print(ml_events1[20])\n",
    "ml_events1 = np.reshape(ml_events1, (len(ml_events), 11, 11, 1))\n"
   ]
  },
  {
   "cell_type": "code",
   "execution_count": 62,
   "metadata": {
    "pycharm": {
     "name": "#%%\n"
    }
   },
   "outputs": [
    {
     "name": "stdout",
     "output_type": "stream",
     "text": [
      "max true 7613.295605203398 max eval 0.0\n",
      "sum true 7613.295605203398 sum eval 0.0\n"
     ]
    },
    {
     "data": {
      "image/png": "[encoded data removed]",
      "text/plain": [
       "<Figure size 864x648 with 3 Axes>"
      ]
     },
     "metadata": {
      "needs_background": "light"
     },
     "output_type": "display_data"
    }
   ],
   "source": [
    "# exponentiate data\n",
    "event_num = 6\n",
    "true_event = np.exp(answers[event_num]*11)\n",
    "ml_event = np.exp(ml_events1[event_num]*11)\n",
    "\n",
    "#print(ml_event)\n",
    "#print(\"true event\")\n",
    "#print(true_event)\n",
    "\n",
    "# clear low data for display\n",
    "ml_event[ml_event<2] = 0\n",
    "true_event[true_event<1.5] = 0\n",
    "\n",
    "table_display_compare(true_event, ml_event, cal_size=11)\n",
    "print(f\"max true {np.max(true_event)} max eval {np.max(ml_event)}\")\n",
    "print(f\"sum true {np.sum(true_event)} sum eval {np.sum(ml_event)}\")"
   ]
  },
  {
   "cell_type": "code",
   "execution_count": 65,
   "metadata": {
    "pycharm": {
     "name": "#%%\n"
    }
   },
   "outputs": [],
   "source": [
    "def data_to_energies(data):\n",
    "    # We took log(hit) to make hits linear. /11 as a scale. Now reverting it    \n",
    "    denorm_data = np.exp(data*11)\n",
    "\n",
    "    # Get rid of array form of cells\n",
    "    # For ML you have arrays like \n",
    "    # [num_pictures][x_pixels][y_pixels][colors]  where colors=3 for RGB,  colors=1 for BW\n",
    "    # We use colors=1 (we just have an energy deposit in a cell) and we have num_pictures=num_events, [xy]_pixels=[xy]_cells\n",
    "    # No we want to remove this useless [1]\n",
    "    # (len(data), 12, 12, 1) => (len(data), 12, 12)\n",
    "    reshaped = np.reshape(denorm_data, (len(data), 11, 11))\n",
    "\n",
    "    # Sum along (x_pixels, y_pixels) axis => basicly summ everything in one event\n",
    "    sums = np.sum(reshaped, axis=(1,2))\n",
    "    return sums\n",
    "\n",
    "sr_e = data_to_energies(input_data)             # SR = simple reco = energy from original data, summed together\n",
    "ml_e = data_to_energies(ml_events1)              # Energy from ML (sum everything)\n",
    "true_e = 1000*np.reshape(values[:,0], len(input_data))    # True energy, 1000 to convert from GeV to\n",
    "\n",
    "# create pandas table... for fun\n",
    "#pd = pd.DataFrame({\"sr_e\": sr_e, \"ml_e\": ml_e, \"true_e\":true_e})"
   ]
  },
  {
   "cell_type": "code",
   "execution_count": 66,
   "metadata": {
    "pycharm": {
     "name": "#%%\n"
    }
   },
   "outputs": [
    {
     "data": {
      "image/png": "[encoded data removed]",
      "text/plain": [
       "<Figure size 1080x432 with 3 Axes>"
      ]
     },
     "metadata": {
      "needs_background": "light"
     },
     "output_type": "display_data"
    }
   ],
   "source": [
    "# using tuple unpacking for multiple Axes\n",
    "fig, (ax1, ax2, ax3) = plt.subplots(1, 3, figsize=(15,6))\n",
    "\n",
    "ax1.hist(sr_e, bins=10)\n",
    "ax2.hist(ml_e, bins=100)\n",
    "ax3.hist2d(sr_e, ml_e/sr_e, bins=(15, 100))\n",
    "plt.savefig(pics_prefix + \"e_2dhist.png\")\n",
    "plt.show()"
   ]
  },
  {
   "cell_type": "code",
   "execution_count": 55,
   "metadata": {
    "collapsed": false,
    "pycharm": {
     "name": "#%%\n"
    }
   },
   "outputs": [],
   "source": [
    "sqerr = (true_e-ml_e)**2\n",
    "#np.save(\"g3_conv_errors.npy\", sqerr)"
   ]
  },
  {
   "cell_type": "code",
   "execution_count": 56,
   "metadata": {
    "collapsed": false,
    "pycharm": {
     "name": "#%%\n"
    }
   },
   "outputs": [
    {
     "data": {
      "text/plain": [
       "(array([3677., 1992., 1590., 1300., 1235., 1094., 1018.,  960.,  867.,\n",
       "         845.,  819.,  747.,  760.,  700.,  707.,  654.,  661.,  586.,\n",
       "         585.,  568.,  573.,  539.,  540.,  506.,  489.,  501.,  528.,\n",
       "         474.,  459.,  461.,  477.,  453.,  476.,  479.,  432.,  433.,\n",
       "         477.,  379.,  426.,  412.,  428.,  384.,  390.,  429.,  421.,\n",
       "         376.,  372.,  378.,  423.,  356.,  351.,  355.,  354.,  357.,\n",
       "         358.,  344.,  342.,  342.,  376.,  329.,  363.,  324.,  293.,\n",
       "         321.,  295.,  356.,  340.,  304.,  317.,  329.,  291.,  311.,\n",
       "         307.,  313.,  297.,  294.,  276.,  310.,  306.,  286.,  300.,\n",
       "         305.,  238.,  294.,  289.,  268.,  280.,  284.,  274.,  265.,\n",
       "         266.,  247.,  256.,  283.,  267.,  252.,  272.,  232.,  264.,\n",
       "         287.]),\n",
       " array([   32041.,   321057.,   610073.,   899089.,  1188105.,  1477121.,\n",
       "         1766137.,  2055153.,  2344169.,  2633185.,  2922201.,  3211217.,\n",
       "         3500233.,  3789249.,  4078265.,  4367281.,  4656297.,  4945313.,\n",
       "         5234329.,  5523345.,  5812361.,  6101377.,  6390393.,  6679409.,\n",
       "         6968425.,  7257441.,  7546457.,  7835473.,  8124489.,  8413505.,\n",
       "         8702521.,  8991537.,  9280553.,  9569569.,  9858585., 10147601.,\n",
       "        10436617., 10725633., 11014649., 11303665., 11592681., 11881697.,\n",
       "        12170713., 12459729., 12748745., 13037761., 13326777., 13615793.,\n",
       "        13904809., 14193825., 14482841., 14771857., 15060873., 15349889.,\n",
       "        15638905., 15927921., 16216937., 16505953., 16794969., 17083985.,\n",
       "        17373001., 17662017., 17951033., 18240049., 18529065., 18818081.,\n",
       "        19107097., 19396113., 19685129., 19974145., 20263161., 20552177.,\n",
       "        20841193., 21130209., 21419225., 21708241., 21997257., 22286273.,\n",
       "        22575289., 22864305., 23153321., 23442337., 23731353., 24020369.,\n",
       "        24309385., 24598401., 24887417., 25176433., 25465449., 25754465.,\n",
       "        26043481., 26332497., 26621513., 26910529., 27199545., 27488561.,\n",
       "        27777577., 28066593., 28355609., 28644625., 28933641.]),\n",
       " <BarContainer object of 100 artists>)"
      ]
     },
     "execution_count": 56,
     "metadata": {},
     "output_type": "execute_result"
    },
    {
     "data": {
      "image/png": "[encoded data removed]",
      "text/plain": [
       "<Figure size 1080x432 with 3 Axes>"
      ]
     },
     "metadata": {
      "needs_background": "light"
     },
     "output_type": "display_data"
    }
   ],
   "source": [
    "fig, (ax1, ax2, ax3) = plt.subplots(1, 3, figsize=(15,6))\n",
    "ax1.hist(sqerr, bins=100)\n"
   ]
  },
  {
   "cell_type": "code",
   "execution_count": 57,
   "metadata": {
    "pycharm": {
     "name": "#%%\n"
    }
   },
   "outputs": [
    {
     "data": {
      "text/plain": [
       "(11, 19, 19)"
      ]
     },
     "execution_count": 57,
     "metadata": {},
     "output_type": "execute_result"
    }
   ],
   "source": [
    "# Build numpy 2d histogram\n",
    "err_bins = np.arange(0.4, 1.4, 0.05)\n",
    "e_bins = np.arange(0, 6000, 500)\n",
    "err_bin_centers = get_bin_centers(err_bins)\n",
    "e_bin_centers = get_bin_centers(e_bins)\n",
    "de = ml_e/sr_e\n",
    "dee_hist, de_bin_edges, e_bin_edges = np.histogram2d(sr_e, de, bins=[e_bins, err_bins])\n",
    "e_bins_num, dee_bins_num = dee_hist.shape\n",
    "e_bins_num, dee_bins_num, len(err_bin_centers)"
   ]
  },
  {
   "cell_type": "code",
   "execution_count": 58,
   "metadata": {
    "pycharm": {
     "name": "#%%\n"
    }
   },
   "outputs": [
    {
     "name": "stdout",
     "output_type": "stream",
     "text": [
      "Total subplots: 11 plot rows=3 columns=4\n"
     ]
    },
    {
     "name": "stderr",
     "output_type": "stream",
     "text": [
      "<ipython-input-58-a694d72342d5>:16: RuntimeWarning: divide by zero encountered in true_divide\n",
      "  return H + A * np.exp(-(x - x0) ** 2 / (2 * sigma ** 2))\n",
      "<ipython-input-58-a694d72342d5>:16: RuntimeWarning: invalid value encountered in true_divide\n",
      "  return H + A * np.exp(-(x - x0) ** 2 / (2 * sigma ** 2))\n",
      "/home/name/.local/lib/python3.8/site-packages/scipy/optimize/minpack.py:807: OptimizeWarning: Covariance of the parameters could not be estimated\n",
      "  warnings.warn('Covariance of the parameters could not be estimated',\n",
      "<ipython-input-58-a694d72342d5>:19: RuntimeWarning: invalid value encountered in double_scalars\n",
      "  mean = sum(x * y) / sum(y)\n",
      "/home/name/.local/lib/python3.8/site-packages/scipy/optimize/minpack.py:807: OptimizeWarning: Covariance of the parameters could not be estimated\n",
      "  warnings.warn('Covariance of the parameters could not be estimated',\n",
      "<ipython-input-58-a694d72342d5>:19: RuntimeWarning: invalid value encountered in double_scalars\n",
      "  mean = sum(x * y) / sum(y)\n",
      "/home/name/.local/lib/python3.8/site-packages/scipy/optimize/minpack.py:807: OptimizeWarning: Covariance of the parameters could not be estimated\n",
      "  warnings.warn('Covariance of the parameters could not be estimated',\n",
      "<ipython-input-58-a694d72342d5>:19: RuntimeWarning: invalid value encountered in double_scalars\n",
      "  mean = sum(x * y) / sum(y)\n",
      "/home/name/.local/lib/python3.8/site-packages/scipy/optimize/minpack.py:807: OptimizeWarning: Covariance of the parameters could not be estimated\n",
      "  warnings.warn('Covariance of the parameters could not be estimated',\n",
      "<ipython-input-58-a694d72342d5>:19: RuntimeWarning: invalid value encountered in double_scalars\n",
      "  mean = sum(x * y) / sum(y)\n",
      "/home/name/.local/lib/python3.8/site-packages/scipy/optimize/minpack.py:807: OptimizeWarning: Covariance of the parameters could not be estimated\n",
      "  warnings.warn('Covariance of the parameters could not be estimated',\n",
      "<ipython-input-58-a694d72342d5>:19: RuntimeWarning: invalid value encountered in double_scalars\n",
      "  mean = sum(x * y) / sum(y)\n",
      "/home/name/.local/lib/python3.8/site-packages/scipy/optimize/minpack.py:807: OptimizeWarning: Covariance of the parameters could not be estimated\n",
      "  warnings.warn('Covariance of the parameters could not be estimated',\n",
      "<ipython-input-58-a694d72342d5>:19: RuntimeWarning: invalid value encountered in double_scalars\n",
      "  mean = sum(x * y) / sum(y)\n",
      "/home/name/.local/lib/python3.8/site-packages/scipy/optimize/minpack.py:807: OptimizeWarning: Covariance of the parameters could not be estimated\n",
      "  warnings.warn('Covariance of the parameters could not be estimated',\n",
      "<ipython-input-58-a694d72342d5>:19: RuntimeWarning: invalid value encountered in double_scalars\n",
      "  mean = sum(x * y) / sum(y)\n",
      "/home/name/.local/lib/python3.8/site-packages/scipy/optimize/minpack.py:807: OptimizeWarning: Covariance of the parameters could not be estimated\n",
      "  warnings.warn('Covariance of the parameters could not be estimated',\n",
      "<ipython-input-58-a694d72342d5>:19: RuntimeWarning: invalid value encountered in double_scalars\n",
      "  mean = sum(x * y) / sum(y)\n",
      "/home/name/.local/lib/python3.8/site-packages/scipy/optimize/minpack.py:807: OptimizeWarning: Covariance of the parameters could not be estimated\n",
      "  warnings.warn('Covariance of the parameters could not be estimated',\n",
      "<ipython-input-58-a694d72342d5>:19: RuntimeWarning: invalid value encountered in double_scalars\n",
      "  mean = sum(x * y) / sum(y)\n",
      "/home/name/.local/lib/python3.8/site-packages/scipy/optimize/minpack.py:807: OptimizeWarning: Covariance of the parameters could not be estimated\n",
      "  warnings.warn('Covariance of the parameters could not be estimated',\n",
      "<ipython-input-58-a694d72342d5>:19: RuntimeWarning: invalid value encountered in double_scalars\n",
      "  mean = sum(x * y) / sum(y)\n",
      "/home/name/.local/lib/python3.8/site-packages/scipy/optimize/minpack.py:807: OptimizeWarning: Covariance of the parameters could not be estimated\n",
      "  warnings.warn('Covariance of the parameters could not be estimated',\n"
     ]
    },
    {
     "data": {
      "text/plain": [
       "[]"
      ]
     },
     "execution_count": 58,
     "metadata": {},
     "output_type": "execute_result"
    },
    {
     "data": {
      "image/png": "[encoded data removed]",
      "text/plain": [
       "<Figure size 1152x864 with 12 Axes>"
      ]
     },
     "metadata": {
      "needs_background": "light"
     },
     "output_type": "display_data"
    }
   ],
   "source": [
    "plot_columns = 4\n",
    "plot_rows = int(e_bins_num / plot_columns) + 1\n",
    "(int(e_bins_num/plot_columns) + 1)*plot_columns\n",
    "print(f\"Total subplots: {e_bins_num} plot rows={plot_rows} columns={plot_columns}\")\n",
    "fig, axes = plt.subplots(plot_rows, plot_columns, figsize=(plot_columns*4, plot_rows*4), sharey=True)\n",
    "\n",
    "from statistics import NormalDist\n",
    "from __future__ import print_function\n",
    "import numpy as np\n",
    "import matplotlib.pyplot as plt\n",
    "from scipy.optimize import curve_fit\n",
    "\n",
    "# Fit fragment is taken from here\n",
    "# https://gist.github.com/cpascual/a03d0d49ddd2c87d7e84b9f4ad2df466\n",
    "def gauss(x, H, A, x0, sigma):\n",
    "    return H + A * np.exp(-(x - x0) ** 2 / (2 * sigma ** 2))\n",
    "\n",
    "def gauss_fit(x, y):\n",
    "    mean = sum(x * y) / sum(y)\n",
    "    sigma = np.sqrt(sum(y * (x - mean) ** 2) / sum(y))\n",
    "    popt, pcov = curve_fit(gauss, x, y, p0=[min(y), max(y), mean, sigma])\n",
    "    return popt\n",
    "\n",
    "# axes is a 2d array consisting of rows and colums [[...], [...], ...]\n",
    "# flatten it as we need to feel it one by one\n",
    "axes = list(itertools.chain.from_iterable(axes))\n",
    "sigmas = []\n",
    "dee_peaks = []\n",
    "for i in range(e_bins_num):\n",
    "    hist1d = dee_hist[i]\n",
    "    ax = axes[i]\n",
    "    # (!) using ax.step() for histograms\n",
    "    # But commented ax.plot() to check ax.step() centers correctness\n",
    "    # ax.plot(err_bin_centers, hist1d, \"-o\")    \n",
    "    ax.step(err_bins[1:], hist1d)\n",
    "\n",
    "    # Fit using Gaussian function\n",
    "    H, A, x0, sigma = gauss_fit(err_bin_centers, hist1d)\n",
    "    std = np.std(hist1d)    \n",
    "\n",
    "    # Plot gauss\n",
    "    smooth_gauss_x = np.arange(err_bins[0], err_bins[-1], (err_bins[-1]-err_bins[0])/1000)\n",
    "    smooth_gauss_y = gauss(smooth_gauss_x, H, A, x0, sigma)\n",
    "    ax.plot(smooth_gauss_x, smooth_gauss_y, '--r', label='fit')\n",
    "\n",
    "    # titles\n",
    "    ax.set_title(f\"Eml/E for E={e_bins[i]}-{e_bins[i+1]}\\n sgm={sigma:.3f} peak={x0:.4f}\", wrap=True)  \n",
    "\n",
    "    # Add our error\n",
    "    sigmas.append(sigma)\n",
    "    dee_peaks.append(x0)\n",
    "    \n",
    "\n",
    "plt.tight_layout()\n",
    "plt.savefig(pics_prefix + \"ml_div_true_fit\")\n",
    "plt.plot()"
   ]
  },
  {
   "cell_type": "code",
   "execution_count": 59,
   "metadata": {
    "pycharm": {
     "name": "#%%\n"
    }
   },
   "outputs": [
    {
     "data": {
      "image/png": "[encoded data removed]",
      "text/plain": [
       "<Figure size 432x288 with 1 Axes>"
      ]
     },
     "metadata": {
      "needs_background": "light"
     },
     "output_type": "display_data"
    }
   ],
   "source": [
    "plt.plot(e_bin_centers, sigmas, \"--o\")\n",
    "plt.title(\"Sigma by energy\")\n",
    "plt.savefig(pics_prefix + \"errors\")"
   ]
  },
  {
   "cell_type": "code",
   "execution_count": 60,
   "metadata": {
    "pycharm": {
     "name": "#%%\n"
    }
   },
   "outputs": [
    {
     "data": {
      "image/png": "[encoded data removed]",
      "text/plain": [
       "<Figure size 432x288 with 1 Axes>"
      ]
     },
     "metadata": {
      "needs_background": "light"
     },
     "output_type": "display_data"
    }
   ],
   "source": [
    "sigma_div_e = sigmas/e_bin_centers\n",
    "\n",
    "plt.plot(e_bin_centers, sigma_div_e, \"--o\")\n",
    "plt.xlabel(\"Energy, MeV\")\n",
    "plt.savefig(pics_prefix + \"errors_div_energy\")"
   ]
  },
  {
   "cell_type": "code",
   "execution_count": 61,
   "metadata": {
    "pycharm": {
     "name": "#%%\n"
    }
   },
   "outputs": [
    {
     "ename": "ValueError",
     "evalue": "array must not contain infs or NaNs",
     "output_type": "error",
     "traceback": [
      "\u001B[0;31m---------------------------------------------------------------------------\u001B[0m",
      "\u001B[0;31mValueError\u001B[0m                                Traceback (most recent call last)",
      "\u001B[0;32m<ipython-input-61-077e30400007>\u001B[0m in \u001B[0;36m<module>\u001B[0;34m\u001B[0m\n\u001B[1;32m      2\u001B[0m     \u001B[0;32mreturn\u001B[0m \u001B[0ma\u001B[0m\u001B[0;34m/\u001B[0m\u001B[0mnp\u001B[0m\u001B[0;34m.\u001B[0m\u001B[0msqrt\u001B[0m\u001B[0;34m(\u001B[0m\u001B[0mx\u001B[0m\u001B[0;34m)\u001B[0m \u001B[0;34m+\u001B[0m \u001B[0mb\u001B[0m\u001B[0;34m/\u001B[0m\u001B[0mx\u001B[0m \u001B[0;34m+\u001B[0m \u001B[0mc\u001B[0m\u001B[0;34m\u001B[0m\u001B[0;34m\u001B[0m\u001B[0m\n\u001B[1;32m      3\u001B[0m \u001B[0;34m\u001B[0m\u001B[0m\n\u001B[0;32m----> 4\u001B[0;31m \u001B[0mpopt\u001B[0m\u001B[0;34m,\u001B[0m \u001B[0mpcov\u001B[0m \u001B[0;34m=\u001B[0m \u001B[0mcurve_fit\u001B[0m\u001B[0;34m(\u001B[0m\u001B[0mcalo_error\u001B[0m\u001B[0;34m,\u001B[0m \u001B[0me_bin_centers\u001B[0m\u001B[0;34m,\u001B[0m \u001B[0msigma_div_e\u001B[0m\u001B[0;34m,\u001B[0m \u001B[0mp0\u001B[0m\u001B[0;34m=\u001B[0m\u001B[0;34m[\u001B[0m\u001B[0;36m1\u001B[0m\u001B[0;34m,\u001B[0m \u001B[0;36m1\u001B[0m\u001B[0;34m,\u001B[0m \u001B[0;36m0\u001B[0m\u001B[0;34m]\u001B[0m\u001B[0;34m)\u001B[0m\u001B[0;34m\u001B[0m\u001B[0;34m\u001B[0m\u001B[0m\n\u001B[0m\u001B[1;32m      5\u001B[0m \u001B[0ma\u001B[0m\u001B[0;34m,\u001B[0m \u001B[0mb\u001B[0m\u001B[0;34m,\u001B[0m \u001B[0mc\u001B[0m \u001B[0;34m=\u001B[0m \u001B[0mpopt\u001B[0m\u001B[0;34m\u001B[0m\u001B[0;34m\u001B[0m\u001B[0m\n\u001B[1;32m      6\u001B[0m \u001B[0mprint\u001B[0m\u001B[0;34m(\u001B[0m\u001B[0;34mf\"a={a} b={b} c={c}\"\u001B[0m\u001B[0;34m)\u001B[0m\u001B[0;34m\u001B[0m\u001B[0;34m\u001B[0m\u001B[0m\n",
      "\u001B[0;32m~/.local/lib/python3.8/site-packages/scipy/optimize/minpack.py\u001B[0m in \u001B[0;36mcurve_fit\u001B[0;34m(f, xdata, ydata, p0, sigma, absolute_sigma, check_finite, bounds, method, jac, **kwargs)\u001B[0m\n\u001B[1;32m    711\u001B[0m     \u001B[0;31m# NaNs can not be handled\u001B[0m\u001B[0;34m\u001B[0m\u001B[0;34m\u001B[0m\u001B[0;34m\u001B[0m\u001B[0m\n\u001B[1;32m    712\u001B[0m     \u001B[0;32mif\u001B[0m \u001B[0mcheck_finite\u001B[0m\u001B[0;34m:\u001B[0m\u001B[0;34m\u001B[0m\u001B[0;34m\u001B[0m\u001B[0m\n\u001B[0;32m--> 713\u001B[0;31m         \u001B[0mydata\u001B[0m \u001B[0;34m=\u001B[0m \u001B[0mnp\u001B[0m\u001B[0;34m.\u001B[0m\u001B[0masarray_chkfinite\u001B[0m\u001B[0;34m(\u001B[0m\u001B[0mydata\u001B[0m\u001B[0;34m,\u001B[0m \u001B[0mfloat\u001B[0m\u001B[0;34m)\u001B[0m\u001B[0;34m\u001B[0m\u001B[0;34m\u001B[0m\u001B[0m\n\u001B[0m\u001B[1;32m    714\u001B[0m     \u001B[0;32melse\u001B[0m\u001B[0;34m:\u001B[0m\u001B[0;34m\u001B[0m\u001B[0;34m\u001B[0m\u001B[0m\n\u001B[1;32m    715\u001B[0m         \u001B[0mydata\u001B[0m \u001B[0;34m=\u001B[0m \u001B[0mnp\u001B[0m\u001B[0;34m.\u001B[0m\u001B[0masarray\u001B[0m\u001B[0;34m(\u001B[0m\u001B[0mydata\u001B[0m\u001B[0;34m,\u001B[0m \u001B[0mfloat\u001B[0m\u001B[0;34m)\u001B[0m\u001B[0;34m\u001B[0m\u001B[0;34m\u001B[0m\u001B[0m\n",
      "\u001B[0;32m~/.local/lib/python3.8/site-packages/numpy/lib/function_base.py\u001B[0m in \u001B[0;36masarray_chkfinite\u001B[0;34m(a, dtype, order)\u001B[0m\n\u001B[1;32m    601\u001B[0m     \u001B[0ma\u001B[0m \u001B[0;34m=\u001B[0m \u001B[0masarray\u001B[0m\u001B[0;34m(\u001B[0m\u001B[0ma\u001B[0m\u001B[0;34m,\u001B[0m \u001B[0mdtype\u001B[0m\u001B[0;34m=\u001B[0m\u001B[0mdtype\u001B[0m\u001B[0;34m,\u001B[0m \u001B[0morder\u001B[0m\u001B[0;34m=\u001B[0m\u001B[0morder\u001B[0m\u001B[0;34m)\u001B[0m\u001B[0;34m\u001B[0m\u001B[0;34m\u001B[0m\u001B[0m\n\u001B[1;32m    602\u001B[0m     \u001B[0;32mif\u001B[0m \u001B[0ma\u001B[0m\u001B[0;34m.\u001B[0m\u001B[0mdtype\u001B[0m\u001B[0;34m.\u001B[0m\u001B[0mchar\u001B[0m \u001B[0;32min\u001B[0m \u001B[0mtypecodes\u001B[0m\u001B[0;34m[\u001B[0m\u001B[0;34m'AllFloat'\u001B[0m\u001B[0;34m]\u001B[0m \u001B[0;32mand\u001B[0m \u001B[0;32mnot\u001B[0m \u001B[0mnp\u001B[0m\u001B[0;34m.\u001B[0m\u001B[0misfinite\u001B[0m\u001B[0;34m(\u001B[0m\u001B[0ma\u001B[0m\u001B[0;34m)\u001B[0m\u001B[0;34m.\u001B[0m\u001B[0mall\u001B[0m\u001B[0;34m(\u001B[0m\u001B[0;34m)\u001B[0m\u001B[0;34m:\u001B[0m\u001B[0;34m\u001B[0m\u001B[0;34m\u001B[0m\u001B[0m\n\u001B[0;32m--> 603\u001B[0;31m         raise ValueError(\n\u001B[0m\u001B[1;32m    604\u001B[0m             \"array must not contain infs or NaNs\")\n\u001B[1;32m    605\u001B[0m     \u001B[0;32mreturn\u001B[0m \u001B[0ma\u001B[0m\u001B[0;34m\u001B[0m\u001B[0;34m\u001B[0m\u001B[0m\n",
      "\u001B[0;31mValueError\u001B[0m: array must not contain infs or NaNs"
     ]
    }
   ],
   "source": [
    "def calo_error(x, a, b, c):\n",
    "    return a/np.sqrt(x) + b/x + c\n",
    "\n",
    "popt, pcov = curve_fit(calo_error, e_bin_centers, sigma_div_e, p0=[1, 1, 0])\n",
    "a, b, c = popt\n",
    "print(f\"a={a} b={b} c={c}\")\n",
    "\n",
    "# Plot gauss\n",
    "smooth_cal_x = np.arange(e_bin_centers[0], e_bin_centers[-1], (e_bin_centers[-1]-e_bin_centers[0])/1000)\n",
    "smooth_cal_y = calo_error(smooth_cal_x, a, b, c)\n",
    "\n",
    "fig, ax = plt.subplots()\n",
    "ax.plot(e_bin_centers, sigma_div_e, \"o\")\n",
    "ax.plot(smooth_cal_x, smooth_cal_y, '--r', label='fit')\n"
   ]
  },
  {
   "cell_type": "code",
   "execution_count": null,
   "metadata": {
    "pycharm": {
     "name": "#%%\n"
    }
   },
   "outputs": [
    {
     "data": {
      "image/png": "[encoded data removed]",
      "text/plain": [
       "<Figure size 432x288 with 1 Axes>"
      ]
     },
     "metadata": {
      "needs_background": "light"
     },
     "output_type": "display_data"
    }
   ],
   "source": [
    "plt.plot(e_bin_centers, dee_peaks , \"--o\")\n",
    "plt.title(\"Mean MLE/E by energy\")\n",
    "plt.ylim(0.4,1.4)\n",
    "plt.savefig(pics_prefix + \"ml_div_true_peaks\")"
   ]
  },
  {
   "cell_type": "code",
   "execution_count": null,
   "metadata": {
    "pycharm": {
     "name": "#%%\n"
    }
   },
   "outputs": [],
   "source": []
  }
 ],
 "metadata": {
  "interpreter": {
   "hash": "31f2aee4e71d21fbe5cf8b01ff0e069b9275f58929596ceb00d14d90e3e16cd6"
  },
  "kernelspec": {
   "display_name": "Python 3.8.10 64-bit",
   "language": "python",
   "name": "python3"
  },
  "language_info": {
   "codemirror_mode": {
    "name": "ipython",
    "version": 3
   },
   "file_extension": ".py",
   "mimetype": "text/x-python",
   "name": "python",
   "nbconvert_exporter": "python",
   "pygments_lexer": "ipython3",
   "version": "3.8.10"
  },
  "orig_nbformat": 4
 },
 "nbformat": 4,
 "nbformat_minor": 2
}