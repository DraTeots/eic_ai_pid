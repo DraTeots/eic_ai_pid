{
 "cells": [
  {
   "cell_type": "code",
   "execution_count": 1,
   "metadata": {
    "collapsed": true,
    "pycharm": {
     "name": "#%%\n"
    }
   },
   "outputs": [
    {
     "name": "stderr",
     "output_type": "stream",
     "text": [
      "2022-07-23 18:35:16.796535: I tensorflow/stream_executor/platform/default/dso_loader.cc:49] Successfully opened dynamic library libcudart.so.10.1\n"
     ]
    }
   ],
   "source": [
    "import tensorflow as tf\n",
    "import datetime, os"
   ]
  },
  {
   "cell_type": "code",
   "execution_count": 2,
   "outputs": [],
   "source": [
    "fashion_mnist = tf.keras.datasets.fashion_mnist\n",
    "\n",
    "(x_train, y_train),(x_test, y_test) = fashion_mnist.load_data()\n",
    "x_train, x_test = x_train / 255.0, x_test / 255.0"
   ],
   "metadata": {
    "collapsed": false,
    "pycharm": {
     "name": "#%%\n"
    }
   }
  },
  {
   "cell_type": "code",
   "execution_count": 3,
   "outputs": [],
   "source": [
    "def create_model():\n",
    "  return tf.keras.models.Sequential([\n",
    "    tf.keras.layers.Flatten(input_shape=(28, 28)),\n",
    "    tf.keras.layers.Dense(512, activation='relu'),\n",
    "    tf.keras.layers.Dropout(0.2),\n",
    "    tf.keras.layers.Dense(10, activation='softmax')\n",
    "  ])"
   ],
   "metadata": {
    "collapsed": false,
    "pycharm": {
     "name": "#%%\n"
    }
   }
  },
  {
   "cell_type": "code",
   "execution_count": 4,
   "outputs": [
    {
     "name": "stderr",
     "output_type": "stream",
     "text": [
      "2022-07-23 18:35:18.418692: I tensorflow/compiler/jit/xla_cpu_device.cc:41] Not creating XLA devices, tf_xla_enable_xla_devices not set\n",
      "2022-07-23 18:35:18.419932: I tensorflow/stream_executor/platform/default/dso_loader.cc:49] Successfully opened dynamic library libcuda.so.1\n",
      "2022-07-23 18:35:18.474844: I tensorflow/core/common_runtime/gpu/gpu_device.cc:1720] Found device 0 with properties: \n",
      "pciBusID: 0000:0a:00.0 name: NVIDIA GeForce GTX 1080 Ti computeCapability: 6.1\n",
      "coreClock: 1.683GHz coreCount: 28 deviceMemorySize: 10.91GiB deviceMemoryBandwidth: 451.17GiB/s\n",
      "2022-07-23 18:35:18.474892: I tensorflow/stream_executor/platform/default/dso_loader.cc:49] Successfully opened dynamic library libcudart.so.10.1\n",
      "2022-07-23 18:35:18.477036: I tensorflow/stream_executor/platform/default/dso_loader.cc:49] Successfully opened dynamic library libcublas.so.10\n",
      "2022-07-23 18:35:18.477096: I tensorflow/stream_executor/platform/default/dso_loader.cc:49] Successfully opened dynamic library libcublasLt.so.10\n",
      "2022-07-23 18:35:18.479234: I tensorflow/stream_executor/platform/default/dso_loader.cc:49] Successfully opened dynamic library libcufft.so.10\n",
      "2022-07-23 18:35:18.479549: I tensorflow/stream_executor/platform/default/dso_loader.cc:49] Successfully opened dynamic library libcurand.so.10\n",
      "2022-07-23 18:35:18.481604: I tensorflow/stream_executor/platform/default/dso_loader.cc:49] Successfully opened dynamic library libcusolver.so.10\n",
      "2022-07-23 18:35:18.482722: I tensorflow/stream_executor/platform/default/dso_loader.cc:49] Successfully opened dynamic library libcusparse.so.10\n",
      "2022-07-23 18:35:18.486456: I tensorflow/stream_executor/platform/default/dso_loader.cc:49] Successfully opened dynamic library libcudnn.so.7\n",
      "2022-07-23 18:35:18.487044: I tensorflow/core/common_runtime/gpu/gpu_device.cc:1862] Adding visible gpu devices: 0\n",
      "2022-07-23 18:35:18.489682: I tensorflow/core/platform/cpu_feature_guard.cc:142] This TensorFlow binary is optimized with oneAPI Deep Neural Network Library (oneDNN) to use the following CPU instructions in performance-critical operations:  SSE4.1 SSE4.2 AVX AVX2 FMA\n",
      "To enable them in other operations, rebuild TensorFlow with the appropriate compiler flags.\n",
      "2022-07-23 18:35:18.492012: I tensorflow/core/common_runtime/gpu/gpu_device.cc:1720] Found device 0 with properties: \n",
      "pciBusID: 0000:0a:00.0 name: NVIDIA GeForce GTX 1080 Ti computeCapability: 6.1\n",
      "coreClock: 1.683GHz coreCount: 28 deviceMemorySize: 10.91GiB deviceMemoryBandwidth: 451.17GiB/s\n",
      "2022-07-23 18:35:18.492049: I tensorflow/stream_executor/platform/default/dso_loader.cc:49] Successfully opened dynamic library libcudart.so.10.1\n",
      "2022-07-23 18:35:18.492082: I tensorflow/stream_executor/platform/default/dso_loader.cc:49] Successfully opened dynamic library libcublas.so.10\n",
      "2022-07-23 18:35:18.492091: I tensorflow/stream_executor/platform/default/dso_loader.cc:49] Successfully opened dynamic library libcublasLt.so.10\n",
      "2022-07-23 18:35:18.492099: I tensorflow/stream_executor/platform/default/dso_loader.cc:49] Successfully opened dynamic library libcufft.so.10\n",
      "2022-07-23 18:35:18.492108: I tensorflow/stream_executor/platform/default/dso_loader.cc:49] Successfully opened dynamic library libcurand.so.10\n",
      "2022-07-23 18:35:18.492116: I tensorflow/stream_executor/platform/default/dso_loader.cc:49] Successfully opened dynamic library libcusolver.so.10\n",
      "2022-07-23 18:35:18.492124: I tensorflow/stream_executor/platform/default/dso_loader.cc:49] Successfully opened dynamic library libcusparse.so.10\n",
      "2022-07-23 18:35:18.492132: I tensorflow/stream_executor/platform/default/dso_loader.cc:49] Successfully opened dynamic library libcudnn.so.7\n",
      "2022-07-23 18:35:18.492378: I tensorflow/core/common_runtime/gpu/gpu_device.cc:1862] Adding visible gpu devices: 0\n",
      "2022-07-23 18:35:18.492409: I tensorflow/stream_executor/platform/default/dso_loader.cc:49] Successfully opened dynamic library libcudart.so.10.1\n",
      "2022-07-23 18:35:18.936689: I tensorflow/core/common_runtime/gpu/gpu_device.cc:1261] Device interconnect StreamExecutor with strength 1 edge matrix:\n",
      "2022-07-23 18:35:18.936742: I tensorflow/core/common_runtime/gpu/gpu_device.cc:1267]      0 \n",
      "2022-07-23 18:35:18.936748: I tensorflow/core/common_runtime/gpu/gpu_device.cc:1280] 0:   N \n",
      "2022-07-23 18:35:18.937664: I tensorflow/core/common_runtime/gpu/gpu_device.cc:1406] Created TensorFlow device (/job:localhost/replica:0/task:0/device:GPU:0 with 8362 MB memory) -> physical GPU (device: 0, name: NVIDIA GeForce GTX 1080 Ti, pci bus id: 0000:0a:00.0, compute capability: 6.1)\n",
      "2022-07-23 18:35:18.937957: I tensorflow/compiler/jit/xla_gpu_device.cc:99] Not creating XLA devices, tf_xla_enable_xla_devices not set\n",
      "2022-07-23 18:35:19.065091: I tensorflow/core/profiler/lib/profiler_session.cc:136] Profiler session initializing.\n",
      "2022-07-23 18:35:19.065138: I tensorflow/core/profiler/lib/profiler_session.cc:155] Profiler session started.\n",
      "2022-07-23 18:35:19.065173: I tensorflow/core/profiler/internal/gpu/cupti_tracer.cc:1365] Profiler found 1 GPUs\n",
      "2022-07-23 18:35:19.065970: I tensorflow/stream_executor/platform/default/dso_loader.cc:49] Successfully opened dynamic library libcupti.so.10.1\n",
      "2022-07-23 18:35:19.166527: E tensorflow/core/profiler/internal/gpu/cupti_tracer.cc:1415] function cupti_interface_->Subscribe( &subscriber_, (CUpti_CallbackFunc)ApiCallback, this)failed with error CUPTI_ERROR_INSUFFICIENT_PRIVILEGES\n",
      "2022-07-23 18:35:19.167169: I tensorflow/core/profiler/lib/profiler_session.cc:172] Profiler session tear down.\n",
      "2022-07-23 18:35:19.631222: W tensorflow/core/framework/cpu_allocator_impl.cc:80] Allocation of 188160000 exceeds 10% of free system memory.\n",
      "2022-07-23 18:35:19.721171: I tensorflow/compiler/mlir/mlir_graph_optimization_pass.cc:116] None of the MLIR optimization passes are enabled (registered 2)\n",
      "2022-07-23 18:35:19.738208: I tensorflow/core/platform/profile_utils/cpu_utils.cc:112] CPU Frequency: 3493245000 Hz\n"
     ]
    },
    {
     "name": "stdout",
     "output_type": "stream",
     "text": [
      "Epoch 1/5\n",
      "  22/1875 [..............................] - ETA: 4s - loss: 1.7595 - accuracy: 0.3886   "
     ]
    },
    {
     "name": "stderr",
     "output_type": "stream",
     "text": [
      "2022-07-23 18:35:20.051416: I tensorflow/stream_executor/platform/default/dso_loader.cc:49] Successfully opened dynamic library libcublas.so.10\n",
      "2022-07-23 18:35:20.171202: I tensorflow/core/profiler/lib/profiler_session.cc:136] Profiler session initializing.\n",
      "2022-07-23 18:35:20.171230: I tensorflow/core/profiler/lib/profiler_session.cc:155] Profiler session started.\n",
      "2022-07-23 18:35:20.171703: E tensorflow/core/profiler/internal/gpu/cupti_tracer.cc:1415] function cupti_interface_->Subscribe( &subscriber_, (CUpti_CallbackFunc)ApiCallback, this)failed with error CUPTI_ERROR_INSUFFICIENT_PRIVILEGES\n",
      "2022-07-23 18:35:20.174374: I tensorflow/core/profiler/lib/profiler_session.cc:71] Profiler session collecting data.\n",
      "2022-07-23 18:35:20.174924: I tensorflow/core/profiler/internal/gpu/cupti_collector.cc:228]  GpuTracer has collected 0 callback api events and 0 activity events. \n",
      "2022-07-23 18:35:20.175264: I tensorflow/core/profiler/lib/profiler_session.cc:172] Profiler session tear down.\n",
      "2022-07-23 18:35:20.176198: I tensorflow/core/profiler/rpc/client/save_profile.cc:137] Creating directory: logs/20220723-183519/train/plugins/profile/2022_07_23_18_35_20\n",
      "2022-07-23 18:35:20.176496: I tensorflow/core/profiler/rpc/client/save_profile.cc:143] Dumped gzipped tool data for trace.json.gz to logs/20220723-183519/train/plugins/profile/2022_07_23_18_35_20/romanov-bbox.trace.json.gz\n",
      "2022-07-23 18:35:20.178929: I tensorflow/core/profiler/rpc/client/save_profile.cc:137] Creating directory: logs/20220723-183519/train/plugins/profile/2022_07_23_18_35_20\n",
      "2022-07-23 18:35:20.179316: I tensorflow/core/profiler/rpc/client/save_profile.cc:143] Dumped gzipped tool data for memory_profile.json.gz to logs/20220723-183519/train/plugins/profile/2022_07_23_18_35_20/romanov-bbox.memory_profile.json.gz\n",
      "2022-07-23 18:35:20.179437: I tensorflow/core/profiler/rpc/client/capture_profile.cc:251] Creating directory: logs/20220723-183519/train/plugins/profile/2022_07_23_18_35_20Dumped tool data for xplane.pb to logs/20220723-183519/train/plugins/profile/2022_07_23_18_35_20/romanov-bbox.xplane.pb\n",
      "Dumped tool data for overview_page.pb to logs/20220723-183519/train/plugins/profile/2022_07_23_18_35_20/romanov-bbox.overview_page.pb\n",
      "Dumped tool data for input_pipeline.pb to logs/20220723-183519/train/plugins/profile/2022_07_23_18_35_20/romanov-bbox.input_pipeline.pb\n",
      "Dumped tool data for tensorflow_stats.pb to logs/20220723-183519/train/plugins/profile/2022_07_23_18_35_20/romanov-bbox.tensorflow_stats.pb\n",
      "Dumped tool data for kernel_stats.pb to logs/20220723-183519/train/plugins/profile/2022_07_23_18_35_20/romanov-bbox.kernel_stats.pb\n",
      "\n"
     ]
    },
    {
     "name": "stdout",
     "output_type": "stream",
     "text": [
      "1875/1875 [==============================] - 4s 2ms/step - loss: 0.6076 - accuracy: 0.7823 - val_loss: 0.4481 - val_accuracy: 0.8357\n",
      "Epoch 2/5\n",
      "1875/1875 [==============================] - 3s 2ms/step - loss: 0.3927 - accuracy: 0.8554 - val_loss: 0.3836 - val_accuracy: 0.8607\n",
      "Epoch 3/5\n",
      "1875/1875 [==============================] - 3s 1ms/step - loss: 0.3506 - accuracy: 0.8724 - val_loss: 0.3633 - val_accuracy: 0.8673\n",
      "Epoch 4/5\n",
      "1875/1875 [==============================] - 3s 1ms/step - loss: 0.3228 - accuracy: 0.8799 - val_loss: 0.3594 - val_accuracy: 0.8725\n",
      "Epoch 5/5\n",
      "1875/1875 [==============================] - 3s 2ms/step - loss: 0.3099 - accuracy: 0.8861 - val_loss: 0.3441 - val_accuracy: 0.8749\n"
     ]
    }
   ],
   "source": [
    "def train_model():\n",
    "\n",
    "  model = create_model()\n",
    "  model.compile(optimizer='adam',\n",
    "                loss='sparse_categorical_crossentropy',\n",
    "                metrics=['accuracy'])\n",
    "\n",
    "  logdir = os.path.join(\"logs\", datetime.datetime.now().strftime(\"%Y%m%d-%H%M%S\"))\n",
    "  tensorboard_callback = tf.keras.callbacks.TensorBoard(logdir, histogram_freq=1)\n",
    "\n",
    "  model.fit(x=x_train,\n",
    "            y=y_train,\n",
    "            epochs=5,\n",
    "            validation_data=(x_test, y_test),\n",
    "            callbacks=[tensorboard_callback])\n",
    "\n",
    "train_model()"
   ],
   "metadata": {
    "collapsed": false,
    "pycharm": {
     "name": "#%%\n"
    }
   }
  },
  {
   "cell_type": "code",
   "execution_count": 7,
   "outputs": [],
   "source": [
    "%load_ext tensorboard"
   ],
   "metadata": {
    "collapsed": false,
    "pycharm": {
     "name": "#%%\n"
    }
   }
  },
  {
   "cell_type": "code",
   "execution_count": 9,
   "outputs": [
    {
     "data": {
      "text/plain": "Launching TensorBoard..."
     },
     "metadata": {},
     "output_type": "display_data"
    },
    {
     "data": {
      "text/plain": "<IPython.core.display.HTML object>",
      "text/html": "\n      <iframe id=\"tensorboard-frame-4dfe09a562c587d2\" width=\"100%\" height=\"800\" frameborder=\"0\">\n      </iframe>\n      <script>\n        (function() {\n          const frame = document.getElementById(\"tensorboard-frame-4dfe09a562c587d2\");\n          const url = new URL(\"/\", window.location);\n          const port = 6006;\n          if (port) {\n            url.port = port;\n          }\n          frame.src = url;\n        })();\n      </script>\n    "
     },
     "metadata": {},
     "output_type": "display_data"
    }
   ],
   "source": [
    "%tensorboard --logdir logs"
   ],
   "metadata": {
    "collapsed": false,
    "pycharm": {
     "name": "#%%\n"
    }
   }
  },
  {
   "cell_type": "markdown",
   "source": [],
   "metadata": {
    "collapsed": false,
    "pycharm": {
     "name": "#%% md\n"
    }
   }
  },
  {
   "cell_type": "code",
   "execution_count": 10,
   "outputs": [
    {
     "name": "stderr",
     "output_type": "stream",
     "text": [
      "2022-07-23 18:43:46.358608: I tensorflow/core/profiler/lib/profiler_session.cc:136] Profiler session initializing.\n",
      "2022-07-23 18:43:46.358641: I tensorflow/core/profiler/lib/profiler_session.cc:155] Profiler session started.\n",
      "2022-07-23 18:43:46.358719: E tensorflow/core/profiler/internal/gpu/cupti_tracer.cc:1415] function cupti_interface_->Subscribe( &subscriber_, (CUpti_CallbackFunc)ApiCallback, this)failed with error CUPTI_ERROR_NOT_INITIALIZED\n",
      "2022-07-23 18:43:46.358736: I tensorflow/core/profiler/lib/profiler_session.cc:172] Profiler session tear down.\n",
      "2022-07-23 18:43:46.716390: W tensorflow/core/framework/cpu_allocator_impl.cc:80] Allocation of 188160000 exceeds 10% of free system memory.\n"
     ]
    },
    {
     "name": "stdout",
     "output_type": "stream",
     "text": [
      "Epoch 1/5\n",
      "  71/1875 [>.............................] - ETA: 4s - loss: 1.2597 - accuracy: 0.5485"
     ]
    },
    {
     "name": "stderr",
     "output_type": "stream",
     "text": [
      "2022-07-23 18:43:47.302144: I tensorflow/core/profiler/lib/profiler_session.cc:136] Profiler session initializing.\n",
      "2022-07-23 18:43:47.302185: I tensorflow/core/profiler/lib/profiler_session.cc:155] Profiler session started.\n",
      "2022-07-23 18:43:47.302267: E tensorflow/core/profiler/internal/gpu/cupti_tracer.cc:1415] function cupti_interface_->Subscribe( &subscriber_, (CUpti_CallbackFunc)ApiCallback, this)failed with error CUPTI_ERROR_NOT_INITIALIZED\n",
      "2022-07-23 18:43:47.320568: I tensorflow/core/profiler/lib/profiler_session.cc:71] Profiler session collecting data.\n",
      "2022-07-23 18:43:47.321161: I tensorflow/core/profiler/internal/gpu/cupti_collector.cc:228]  GpuTracer has collected 0 callback api events and 0 activity events. \n",
      "2022-07-23 18:43:47.321599: I tensorflow/core/profiler/lib/profiler_session.cc:172] Profiler session tear down.\n",
      "2022-07-23 18:43:47.322268: I tensorflow/core/profiler/rpc/client/save_profile.cc:137] Creating directory: logs/20220723-184346/train/plugins/profile/2022_07_23_18_43_47\n",
      "2022-07-23 18:43:47.322600: I tensorflow/core/profiler/rpc/client/save_profile.cc:143] Dumped gzipped tool data for trace.json.gz to logs/20220723-184346/train/plugins/profile/2022_07_23_18_43_47/romanov-bbox.trace.json.gz\n",
      "2022-07-23 18:43:47.324649: I tensorflow/core/profiler/rpc/client/save_profile.cc:137] Creating directory: logs/20220723-184346/train/plugins/profile/2022_07_23_18_43_47\n",
      "2022-07-23 18:43:47.325067: I tensorflow/core/profiler/rpc/client/save_profile.cc:143] Dumped gzipped tool data for memory_profile.json.gz to logs/20220723-184346/train/plugins/profile/2022_07_23_18_43_47/romanov-bbox.memory_profile.json.gz\n",
      "2022-07-23 18:43:47.325207: I tensorflow/core/profiler/rpc/client/capture_profile.cc:251] Creating directory: logs/20220723-184346/train/plugins/profile/2022_07_23_18_43_47Dumped tool data for xplane.pb to logs/20220723-184346/train/plugins/profile/2022_07_23_18_43_47/romanov-bbox.xplane.pb\n",
      "Dumped tool data for overview_page.pb to logs/20220723-184346/train/plugins/profile/2022_07_23_18_43_47/romanov-bbox.overview_page.pb\n",
      "Dumped tool data for input_pipeline.pb to logs/20220723-184346/train/plugins/profile/2022_07_23_18_43_47/romanov-bbox.input_pipeline.pb\n",
      "Dumped tool data for tensorflow_stats.pb to logs/20220723-184346/train/plugins/profile/2022_07_23_18_43_47/romanov-bbox.tensorflow_stats.pb\n",
      "Dumped tool data for kernel_stats.pb to logs/20220723-184346/train/plugins/profile/2022_07_23_18_43_47/romanov-bbox.kernel_stats.pb\n",
      "\n"
     ]
    },
    {
     "name": "stdout",
     "output_type": "stream",
     "text": [
      "1875/1875 [==============================] - 4s 2ms/step - loss: 0.6054 - accuracy: 0.7842 - val_loss: 0.4519 - val_accuracy: 0.8338\n",
      "Epoch 2/5\n",
      "1875/1875 [==============================] - 3s 2ms/step - loss: 0.3929 - accuracy: 0.8565 - val_loss: 0.4156 - val_accuracy: 0.8427\n",
      "Epoch 3/5\n",
      "1875/1875 [==============================] - 3s 2ms/step - loss: 0.3594 - accuracy: 0.8700 - val_loss: 0.3684 - val_accuracy: 0.8653\n",
      "Epoch 4/5\n",
      "1875/1875 [==============================] - 3s 2ms/step - loss: 0.3280 - accuracy: 0.8803 - val_loss: 0.3647 - val_accuracy: 0.8713\n",
      "Epoch 5/5\n",
      "1875/1875 [==============================] - 3s 2ms/step - loss: 0.3153 - accuracy: 0.8826 - val_loss: 0.3439 - val_accuracy: 0.8766\n"
     ]
    }
   ],
   "source": [
    "train_model()"
   ],
   "metadata": {
    "collapsed": false,
    "pycharm": {
     "name": "#%%\n"
    }
   }
  },
  {
   "cell_type": "code",
   "execution_count": null,
   "outputs": [],
   "source": [],
   "metadata": {
    "collapsed": false,
    "pycharm": {
     "name": "#%%\n"
    }
   }
  }
 ],
 "metadata": {
  "kernelspec": {
   "display_name": "Python 3",
   "language": "python",
   "name": "python3"
  },
  "language_info": {
   "codemirror_mode": {
    "name": "ipython",
    "version": 2
   },
   "file_extension": ".py",
   "mimetype": "text/x-python",
   "name": "python",
   "nbconvert_exporter": "python",
   "pygments_lexer": "ipython2",
   "version": "2.7.6"
  }
 },
 "nbformat": 4,
 "nbformat_minor": 0
}