{
 "cells": [
  {
   "cell_type": "code",
   "execution_count": 1,
   "metadata": {},
   "outputs": [],
   "source": [
    "import pickle\n",
    "import time\n",
    "import os\n",
    "from sys import platform\n",
    "import numpy as np\n",
    "import matplotlib.pyplot as plt\n",
    "from geant3_parser import Geant3DataFile\n",
    "from geant3_parser import build_train_set\n"
   ]
  },
  {
   "cell_type": "code",
   "execution_count": 2,
   "metadata": {},
   "outputs": [
    {
     "name": "stdout",
     "output_type": "stream",
     "text": [
      "Time open 2.649855613708496\n",
      "Time split 0.5003631114959717\n"
     ]
    }
   ],
   "source": [
    "file_name = os.path.join('data', 'shower_geant3_new.dat')\n",
    "data_file=Geant3DataFile(file_name,skip_lines=3)\n",
    "input,true_e,sum_e=build_train_set(data_file,50000,add_real_xy=False,normalize=True)"
   ]
  },
  {
   "cell_type": "code",
   "execution_count": 3,
   "metadata": {},
   "outputs": [
    {
     "name": "stderr",
     "output_type": "stream",
     "text": [
      "2022-06-21 18:20:54.109137: I tensorflow/stream_executor/platform/default/dso_loader.cc:53] Successfully opened dynamic library libcudart.so.11.0\n"
     ]
    }
   ],
   "source": [
    "from tensorflow.keras.models import Model\n",
    "from tensorflow.keras.layers import Input, Dense"
   ]
  },
  {
   "cell_type": "code",
   "execution_count": 4,
   "metadata": {},
   "outputs": [
    {
     "name": "stderr",
     "output_type": "stream",
     "text": [
      "2022-06-21 18:20:59.128128: I tensorflow/stream_executor/platform/default/dso_loader.cc:53] Successfully opened dynamic library libcuda.so.1\n",
      "2022-06-21 18:20:59.231709: I tensorflow/stream_executor/cuda/cuda_gpu_executor.cc:923] could not open file to read NUMA node: /sys/bus/pci/devices/0000:01:00.0/numa_node\n",
      "Your kernel may have been built without NUMA support.\n",
      "2022-06-21 18:20:59.231788: I tensorflow/core/common_runtime/gpu/gpu_device.cc:1733] Found device 0 with properties: \n",
      "pciBusID: 0000:01:00.0 name: Quadro P1000 computeCapability: 6.1\n",
      "coreClock: 1.5185GHz coreCount: 4 deviceMemorySize: 4.00GiB deviceMemoryBandwidth: 89.53GiB/s\n",
      "2022-06-21 18:20:59.231881: I tensorflow/stream_executor/platform/default/dso_loader.cc:53] Successfully opened dynamic library libcudart.so.11.0\n",
      "2022-06-21 18:20:59.247681: I tensorflow/stream_executor/platform/default/dso_loader.cc:53] Successfully opened dynamic library libcublas.so.11\n",
      "2022-06-21 18:20:59.247828: I tensorflow/stream_executor/platform/default/dso_loader.cc:53] Successfully opened dynamic library libcublasLt.so.11\n",
      "2022-06-21 18:20:59.251138: I tensorflow/stream_executor/platform/default/dso_loader.cc:53] Successfully opened dynamic library libcufft.so.10\n",
      "2022-06-21 18:20:59.253065: I tensorflow/stream_executor/platform/default/dso_loader.cc:53] Successfully opened dynamic library libcurand.so.10\n",
      "2022-06-21 18:20:59.254757: I tensorflow/stream_executor/platform/default/dso_loader.cc:53] Successfully opened dynamic library libcusolver.so.11\n",
      "2022-06-21 18:20:59.256478: I tensorflow/stream_executor/platform/default/dso_loader.cc:53] Successfully opened dynamic library libcusparse.so.11\n",
      "2022-06-21 18:20:59.256710: I tensorflow/stream_executor/platform/default/dso_loader.cc:53] Successfully opened dynamic library libcudnn.so.8\n",
      "2022-06-21 18:20:59.257716: I tensorflow/stream_executor/cuda/cuda_gpu_executor.cc:923] could not open file to read NUMA node: /sys/bus/pci/devices/0000:01:00.0/numa_node\n",
      "Your kernel may have been built without NUMA support.\n",
      "2022-06-21 18:20:59.258446: I tensorflow/stream_executor/cuda/cuda_gpu_executor.cc:923] could not open file to read NUMA node: /sys/bus/pci/devices/0000:01:00.0/numa_node\n",
      "Your kernel may have been built without NUMA support.\n",
      "2022-06-21 18:20:59.258481: I tensorflow/core/common_runtime/gpu/gpu_device.cc:1871] Adding visible gpu devices: 0\n",
      "2022-06-21 18:20:59.259646: I tensorflow/core/platform/cpu_feature_guard.cc:142] This TensorFlow binary is optimized with oneAPI Deep Neural Network Library (oneDNN) to use the following CPU instructions in performance-critical operations:  AVX2 FMA\n",
      "To enable them in other operations, rebuild TensorFlow with the appropriate compiler flags.\n",
      "2022-06-21 18:20:59.264705: I tensorflow/stream_executor/cuda/cuda_gpu_executor.cc:923] could not open file to read NUMA node: /sys/bus/pci/devices/0000:01:00.0/numa_node\n",
      "Your kernel may have been built without NUMA support.\n",
      "2022-06-21 18:20:59.264756: I tensorflow/core/common_runtime/gpu/gpu_device.cc:1733] Found device 0 with properties: \n",
      "pciBusID: 0000:01:00.0 name: Quadro P1000 computeCapability: 6.1\n",
      "coreClock: 1.5185GHz coreCount: 4 deviceMemorySize: 4.00GiB deviceMemoryBandwidth: 89.53GiB/s\n",
      "2022-06-21 18:20:59.265602: I tensorflow/stream_executor/cuda/cuda_gpu_executor.cc:923] could not open file to read NUMA node: /sys/bus/pci/devices/0000:01:00.0/numa_node\n",
      "Your kernel may have been built without NUMA support.\n",
      "2022-06-21 18:20:59.266337: I tensorflow/stream_executor/cuda/cuda_gpu_executor.cc:923] could not open file to read NUMA node: /sys/bus/pci/devices/0000:01:00.0/numa_node\n",
      "Your kernel may have been built without NUMA support.\n",
      "2022-06-21 18:20:59.266362: I tensorflow/core/common_runtime/gpu/gpu_device.cc:1871] Adding visible gpu devices: 0\n",
      "2022-06-21 18:20:59.266467: I tensorflow/stream_executor/platform/default/dso_loader.cc:53] Successfully opened dynamic library libcudart.so.11.0\n",
      "2022-06-21 18:21:00.416104: I tensorflow/core/common_runtime/gpu/gpu_device.cc:1258] Device interconnect StreamExecutor with strength 1 edge matrix:\n",
      "2022-06-21 18:21:00.416147: I tensorflow/core/common_runtime/gpu/gpu_device.cc:1264]      0 \n",
      "2022-06-21 18:21:00.416158: I tensorflow/core/common_runtime/gpu/gpu_device.cc:1277] 0:   N \n",
      "2022-06-21 18:21:00.417772: I tensorflow/stream_executor/cuda/cuda_gpu_executor.cc:923] could not open file to read NUMA node: /sys/bus/pci/devices/0000:01:00.0/numa_node\n",
      "Your kernel may have been built without NUMA support.\n",
      "2022-06-21 18:21:00.418719: I tensorflow/stream_executor/cuda/cuda_gpu_executor.cc:923] could not open file to read NUMA node: /sys/bus/pci/devices/0000:01:00.0/numa_node\n",
      "Your kernel may have been built without NUMA support.\n",
      "2022-06-21 18:21:00.418747: I tensorflow/core/common_runtime/gpu/gpu_device.cc:1501] Could not identify NUMA node of platform GPU id 0, defaulting to 0.  Your kernel may not have been built with NUMA support.\n",
      "2022-06-21 18:21:00.420311: I tensorflow/stream_executor/cuda/cuda_gpu_executor.cc:923] could not open file to read NUMA node: /sys/bus/pci/devices/0000:01:00.0/numa_node\n",
      "Your kernel may have been built without NUMA support.\n",
      "2022-06-21 18:21:00.420385: I tensorflow/core/common_runtime/gpu/gpu_device.cc:1418] Created TensorFlow device (/job:localhost/replica:0/task:0/device:GPU:0 with 2763 MB memory) -> physical GPU (device: 0, name: Quadro P1000, pci bus id: 0000:01:00.0, compute capability: 6.1)\n"
     ]
    },
    {
     "name": "stdout",
     "output_type": "stream",
     "text": [
      "Model: \"model\"\n",
      "_________________________________________________________________\n",
      "Layer (type)                 Output Shape              Param #   \n",
      "=================================================================\n",
      "input_1 (InputLayer)         [(None, 123)]             0         \n",
      "_________________________________________________________________\n",
      "dense (Dense)                (None, 64)                7936      \n",
      "_________________________________________________________________\n",
      "dense_1 (Dense)              (None, 32)                2080      \n",
      "_________________________________________________________________\n",
      "dense_2 (Dense)              (None, 16)                528       \n",
      "_________________________________________________________________\n",
      "dense_3 (Dense)              (None, 8)                 136       \n",
      "_________________________________________________________________\n",
      "dense_4 (Dense)              (None, 4)                 36        \n",
      "_________________________________________________________________\n",
      "dense_5 (Dense)              (None, 2)                 10        \n",
      "_________________________________________________________________\n",
      "dense_6 (Dense)              (None, 1)                 3         \n",
      "_________________________________________________________________\n",
      "dense_7 (Dense)              (None, 4)                 8         \n",
      "_________________________________________________________________\n",
      "dense_8 (Dense)              (None, 8)                 40        \n",
      "_________________________________________________________________\n",
      "dense_9 (Dense)              (None, 16)                144       \n",
      "_________________________________________________________________\n",
      "dense_10 (Dense)             (None, 32)                544       \n",
      "_________________________________________________________________\n",
      "dense_11 (Dense)             (None, 64)                2112      \n",
      "_________________________________________________________________\n",
      "dense_12 (Dense)             (None, 123)               7995      \n",
      "=================================================================\n",
      "Total params: 21,572\n",
      "Trainable params: 21,572\n",
      "Non-trainable params: 0\n",
      "_________________________________________________________________\n"
     ]
    },
    {
     "name": "stderr",
     "output_type": "stream",
     "text": [
      "2022-06-21 18:21:02.432184: I tensorflow/compiler/mlir/mlir_graph_optimization_pass.cc:176] None of the MLIR Optimization Passes are enabled (registered 2)\n",
      "2022-06-21 18:21:02.432890: I tensorflow/core/platform/profile_utils/cpu_utils.cc:114] CPU Frequency: 2904005000 Hz\n"
     ]
    },
    {
     "name": "stdout",
     "output_type": "stream",
     "text": [
      "Epoch 1/20\n"
     ]
    },
    {
     "name": "stderr",
     "output_type": "stream",
     "text": [
      "2022-06-21 18:21:03.704203: I tensorflow/stream_executor/platform/default/dso_loader.cc:53] Successfully opened dynamic library libcublas.so.11\n",
      "2022-06-21 18:21:06.292238: I tensorflow/stream_executor/platform/default/dso_loader.cc:53] Successfully opened dynamic library libcublasLt.so.11\n"
     ]
    },
    {
     "name": "stdout",
     "output_type": "stream",
     "text": [
      "331/331 [==============================] - 12s 23ms/step - loss: 0.2585 - accuracy: 0.7061 - mse: 0.0084 - mae: 0.0575 - val_loss: 0.2469 - val_accuracy: 0.9780 - val_mse: 0.0074 - val_mae: 0.0580\n",
      "Epoch 2/20\n",
      "331/331 [==============================] - 8s 24ms/step - loss: 0.2463 - accuracy: 0.9775 - mse: 0.0074 - mae: 0.0583 - val_loss: 0.2464 - val_accuracy: 0.9780 - val_mse: 0.0075 - val_mae: 0.0591\n",
      "Epoch 3/20\n",
      "331/331 [==============================] - 7s 22ms/step - loss: 0.2462 - accuracy: 0.9775 - mse: 0.0075 - mae: 0.0601 - val_loss: 0.2462 - val_accuracy: 0.9780 - val_mse: 0.0075 - val_mae: 0.0611\n",
      "Epoch 4/20\n",
      "331/331 [==============================] - 7s 21ms/step - loss: 0.2462 - accuracy: 0.9775 - mse: 0.0076 - mae: 0.0624 - val_loss: 0.2461 - val_accuracy: 0.9780 - val_mse: 0.0077 - val_mae: 0.0632\n",
      "Epoch 5/20\n",
      "331/331 [==============================] - 7s 20ms/step - loss: 0.2459 - accuracy: 0.9775 - mse: 0.0076 - mae: 0.0628 - val_loss: 0.2462 - val_accuracy: 0.9780 - val_mse: 0.0073 - val_mae: 0.0615\n",
      "Epoch 6/20\n",
      "331/331 [==============================] - 7s 20ms/step - loss: 0.2466 - accuracy: 0.9775 - mse: 0.0085 - mae: 0.0680 - val_loss: 0.2455 - val_accuracy: 0.9780 - val_mse: 0.0097 - val_mae: 0.0749\n",
      "Epoch 7/20\n",
      "331/331 [==============================] - 7s 21ms/step - loss: 0.2409 - accuracy: 0.9775 - mse: 0.0088 - mae: 0.0709 - val_loss: 0.2392 - val_accuracy: 0.9780 - val_mse: 0.0075 - val_mae: 0.0650\n",
      "Epoch 8/20\n",
      "331/331 [==============================] - 7s 21ms/step - loss: 0.2392 - accuracy: 0.9775 - mse: 0.0076 - mae: 0.0659 - val_loss: 0.2389 - val_accuracy: 0.9780 - val_mse: 0.0074 - val_mae: 0.0648\n",
      "Epoch 9/20\n",
      "331/331 [==============================] - 7s 21ms/step - loss: 0.2387 - accuracy: 0.9775 - mse: 0.0074 - mae: 0.0649 - val_loss: 0.2388 - val_accuracy: 0.9780 - val_mse: 0.0074 - val_mae: 0.0647\n",
      "Epoch 10/20\n",
      "331/331 [==============================] - 7s 20ms/step - loss: 0.2386 - accuracy: 0.9775 - mse: 0.0073 - mae: 0.0646 - val_loss: 0.2387 - val_accuracy: 0.9780 - val_mse: 0.0073 - val_mae: 0.0645\n",
      "Epoch 11/20\n",
      "331/331 [==============================] - 7s 21ms/step - loss: 0.2386 - accuracy: 0.9775 - mse: 0.0073 - mae: 0.0644 - val_loss: 0.2392 - val_accuracy: 0.9780 - val_mse: 0.0074 - val_mae: 0.0658\n",
      "Epoch 12/20\n",
      "331/331 [==============================] - 7s 21ms/step - loss: 0.2386 - accuracy: 0.9775 - mse: 0.0073 - mae: 0.0653 - val_loss: 0.2387 - val_accuracy: 0.9780 - val_mse: 0.0072 - val_mae: 0.0648\n",
      "Epoch 13/20\n",
      "331/331 [==============================] - 7s 22ms/step - loss: 0.2387 - accuracy: 0.9775 - mse: 0.0073 - mae: 0.0650 - val_loss: 0.2391 - val_accuracy: 0.9780 - val_mse: 0.0072 - val_mae: 0.0648\n",
      "Epoch 14/20\n",
      "331/331 [==============================] - 7s 21ms/step - loss: 0.2385 - accuracy: 0.9775 - mse: 0.0071 - mae: 0.0639 - val_loss: 0.2386 - val_accuracy: 0.9780 - val_mse: 0.0071 - val_mae: 0.0638\n",
      "Epoch 15/20\n",
      "331/331 [==============================] - 7s 21ms/step - loss: 0.2258 - accuracy: 0.9775 - mse: 0.0067 - mae: 0.0624 - val_loss: 0.2242 - val_accuracy: 0.9780 - val_mse: 0.0065 - val_mae: 0.0611\n",
      "Epoch 16/20\n",
      "331/331 [==============================] - 7s 21ms/step - loss: 0.2245 - accuracy: 0.9775 - mse: 0.0070 - mae: 0.0646 - val_loss: 0.2242 - val_accuracy: 0.9780 - val_mse: 0.0070 - val_mae: 0.0649\n",
      "Epoch 17/20\n",
      "331/331 [==============================] - 7s 21ms/step - loss: 0.2241 - accuracy: 0.9775 - mse: 0.0070 - mae: 0.0651 - val_loss: 0.2242 - val_accuracy: 0.9780 - val_mse: 0.0070 - val_mae: 0.0650\n",
      "Epoch 18/20\n",
      "331/331 [==============================] - 7s 20ms/step - loss: 0.2241 - accuracy: 0.9775 - mse: 0.0070 - mae: 0.0648 - val_loss: 0.2241 - val_accuracy: 0.9780 - val_mse: 0.0069 - val_mae: 0.0646\n",
      "Epoch 19/20\n",
      "331/331 [==============================] - 7s 20ms/step - loss: 0.2241 - accuracy: 0.9775 - mse: 0.0069 - mae: 0.0643 - val_loss: 0.2241 - val_accuracy: 0.9780 - val_mse: 0.0068 - val_mae: 0.0639\n",
      "Epoch 20/20\n",
      "331/331 [==============================] - 7s 20ms/step - loss: 0.2240 - accuracy: 0.9775 - mse: 0.0068 - mae: 0.0638 - val_loss: 0.2241 - val_accuracy: 0.9780 - val_mse: 0.0068 - val_mae: 0.0637\n"
     ]
    },
    {
     "name": "stderr",
     "output_type": "stream",
     "text": [
      "2022-06-21 18:23:26.046186: W tensorflow/python/util/util.cc:348] Sets are not currently considered sequences, but this may change in the future, so consider avoiding using them.\n",
      "WARNING:absl:Found untraced functions such as leaky_re_lu_layer_call_fn, leaky_re_lu_layer_call_and_return_conditional_losses, leaky_re_lu_1_layer_call_fn, leaky_re_lu_1_layer_call_and_return_conditional_losses, leaky_re_lu_2_layer_call_fn while saving (showing 5 of 55). These functions will not be directly callable after loading.\n"
     ]
    },
    {
     "name": "stdout",
     "output_type": "stream",
     "text": [
      "INFO:tensorflow:Assets written to: trained_models/autoencoder.hd5/assets\n"
     ]
    },
    {
     "name": "stderr",
     "output_type": "stream",
     "text": [
      "INFO:tensorflow:Assets written to: trained_models/autoencoder.hd5/assets\n"
     ]
    }
   ],
   "source": [
    "#build autoencoder\n",
    "input_layer=Input(shape=(123,))\n",
    "encoder=Dense(64,activation='LeakyReLU')(input_layer)   #encoder\n",
    "encoder=Dense(32,activation='LeakyReLU')(encoder)    #encoder\n",
    "encoder=Dense(16,activation='LeakyReLU')(encoder)    #encoder\n",
    "encoder=Dense(8,activation='LeakyReLU')(encoder)     #encoder\n",
    "encoder=Dense(4,activation='LeakyReLU')(encoder)     #encoder\n",
    "encoder=Dense(2,activation='LeakyReLU')(encoder)     #encoder\n",
    "encoder=Dense(1,activation='sigmoid')(encoder)     #encoder\n",
    "decoder=Dense(4,activation='LeakyReLU')(encoder)     #decoder\n",
    "decoder=Dense(8,activation='LeakyReLU')(decoder)     #decoder\n",
    "decoder=Dense(16,activation='LeakyReLU')(decoder)    #decoder\n",
    "decoder=Dense(32,activation='LeakyReLU')(decoder)    #decoder\n",
    "decoder=Dense(64,activation='LeakyReLU')(decoder)    #decoder\n",
    "decoder=Dense(123,activation='tanh')(decoder) #decoder\n",
    "autoencoder=Model(input_layer,decoder)\n",
    "autoencoder.compile(optimizer='adam',loss='binary_crossentropy',metrics=['accuracy','mse','mae'])   #compile\n",
    "autoencoder.summary()                                                                           #summary    #train\n",
    "history=autoencoder.fit(input,input,epochs=20,batch_size=121,validation_split=0.2)                                                   #train  #validation_split=0.2\n",
    "autoencoder.save('trained_models/autoencoder.hd5')                                                                 #save    #save\n",
    "\n"
   ]
  },
  {
   "cell_type": "code",
   "execution_count": 5,
   "metadata": {},
   "outputs": [
    {
     "name": "stdout",
     "output_type": "stream",
     "text": [
      "{'loss': [0.25847822427749634, 0.2463153600692749, 0.2462007850408554, 0.24620048701763153, 0.24586693942546844, 0.2465873807668686, 0.2408761978149414, 0.23918472230434418, 0.2386782020330429, 0.2386040985584259, 0.23861569166183472, 0.23861537873744965, 0.23870410025119781, 0.23854601383209229, 0.22578075528144836, 0.2244921326637268, 0.22411467134952545, 0.22405458986759186, 0.22405698895454407, 0.224031463265419], 'accuracy': [0.7061499953269958, 0.9774749875068665, 0.9774749875068665, 0.9774749875068665, 0.9774749875068665, 0.9774749875068665, 0.9774749875068665, 0.9774749875068665, 0.9774749875068665, 0.9774749875068665, 0.9774749875068665, 0.9774749875068665, 0.9774749875068665, 0.9774749875068665, 0.9774749875068665, 0.9774749875068665, 0.9774749875068665, 0.9774749875068665, 0.9774749875068665, 0.9774749875068665], 'mse': [0.008411284536123276, 0.007414679508656263, 0.007476382423192263, 0.007634675595909357, 0.007582082413136959, 0.008453077636659145, 0.00882110558450222, 0.007604888174682856, 0.007411018945276737, 0.007343616336584091, 0.007282990496605635, 0.007325810380280018, 0.0072634597308933735, 0.007095023524016142, 0.00673304358497262, 0.007027277257293463, 0.007030158303678036, 0.006963138002902269, 0.0068792481906712055, 0.006797035224735737], 'mae': [0.05749165639281273, 0.05833614990115166, 0.060139000415802, 0.06237103417515755, 0.06284645944833755, 0.06795509904623032, 0.07087567448616028, 0.06593301147222519, 0.06491606682538986, 0.06460200995206833, 0.06437267363071442, 0.06534256786108017, 0.06496904045343399, 0.06389515101909637, 0.06243601813912392, 0.06455755233764648, 0.06510920822620392, 0.06477677822113037, 0.06426041573286057, 0.06377702206373215], 'val_loss': [0.24691271781921387, 0.24641719460487366, 0.2461870312690735, 0.24612106382846832, 0.24623218178749084, 0.24548186361789703, 0.2392370104789734, 0.23888766765594482, 0.2388094663619995, 0.23871465027332306, 0.2391510307788849, 0.23867079615592957, 0.2391064465045929, 0.23864474892616272, 0.22420275211334229, 0.22420883178710938, 0.2241598665714264, 0.2241027057170868, 0.22410453855991364, 0.22408472001552582], 'val_accuracy': [0.9779999852180481, 0.9779999852180481, 0.9779999852180481, 0.9779999852180481, 0.9779999852180481, 0.9779999852180481, 0.9779999852180481, 0.9779999852180481, 0.9779999852180481, 0.9779999852180481, 0.9779999852180481, 0.9779999852180481, 0.9779999852180481, 0.9779999852180481, 0.9779999852180481, 0.9779999852180481, 0.9779999852180481, 0.9779999852180481, 0.9779999852180481, 0.9779999852180481], 'val_mse': [0.00737115228548646, 0.007498289458453655, 0.007511777337640524, 0.007679907139390707, 0.0072721876204013824, 0.009690689854323864, 0.007523483131080866, 0.007405761629343033, 0.007359009701758623, 0.00732411490753293, 0.0074211470782756805, 0.007243514992296696, 0.00720763485878706, 0.0070802802219986916, 0.006485177669674158, 0.006996785756200552, 0.007008078973740339, 0.00693626469001174, 0.006819808389991522, 0.0067853559739887714], 'val_mae': [0.05796414613723755, 0.05914336442947388, 0.061063963919878006, 0.06318353861570358, 0.06147835776209831, 0.07494614273309708, 0.06503225862979889, 0.0648428201675415, 0.06468525528907776, 0.06451557576656342, 0.065826416015625, 0.06482256203889847, 0.0647740513086319, 0.06375756114721298, 0.0610668808221817, 0.06486322730779648, 0.0649995282292366, 0.06462817639112473, 0.0639038160443306, 0.06372107565402985]}\n"
     ]
    }
   ],
   "source": [
    "print(history.history)"
   ]
  },
  {
   "cell_type": "code",
   "execution_count": 6,
   "metadata": {},
   "outputs": [
    {
     "data": {
      "text/plain": [
       "[<matplotlib.lines.Line2D at 0x7f5f94d3f070>]"
      ]
     },
     "execution_count": 6,
     "metadata": {},
     "output_type": "execute_result"
    },
    {
     "data": {
      "image/png": "[encoded data removed]",
      "text/plain": [
       "<Figure size 432x288 with 1 Axes>"
      ]
     },
     "metadata": {
      "needs_background": "light"
     },
     "output_type": "display_data"
    }
   ],
   "source": [
    "plt.plot(history.history['loss'])"
   ]
  },
  {
   "cell_type": "code",
   "execution_count": 7,
   "metadata": {},
   "outputs": [
    {
     "data": {
      "text/plain": [
       "[<matplotlib.lines.Line2D at 0x7f5f962db070>]"
      ]
     },
     "execution_count": 7,
     "metadata": {},
     "output_type": "execute_result"
    },
    {
     "data": {
      "image/png": "[encoded data removed]",
      "text/plain": [
       "<Figure size 432x288 with 1 Axes>"
      ]
     },
     "metadata": {
      "needs_background": "light"
     },
     "output_type": "display_data"
    }
   ],
   "source": [
    "plt.plot(history.history['accuracy'])"
   ]
  },
  {
   "cell_type": "code",
   "execution_count": 8,
   "metadata": {},
   "outputs": [
    {
     "data": {
      "text/plain": [
       "[<matplotlib.lines.Line2D at 0x7f5f957228b0>]"
      ]
     },
     "execution_count": 8,
     "metadata": {},
     "output_type": "execute_result"
    },
    {
     "data": {
      "image/png": "[encoded data removed]",
      "text/plain": [
       "<Figure size 432x288 with 1 Axes>"
      ]
     },
     "metadata": {
      "needs_background": "light"
     },
     "output_type": "display_data"
    }
   ],
   "source": [
    "plt.plot(history.history['mse'])"
   ]
  },
  {
   "cell_type": "code",
   "execution_count": 9,
   "metadata": {},
   "outputs": [
    {
     "data": {
      "text/plain": [
       "[<matplotlib.lines.Line2D at 0x7f5f948c8940>]"
      ]
     },
     "execution_count": 9,
     "metadata": {},
     "output_type": "execute_result"
    },
    {
     "data": {
      "image/png": "[encoded data removed]",
      "text/plain": [
       "<Figure size 432x288 with 1 Axes>"
      ]
     },
     "metadata": {
      "needs_background": "light"
     },
     "output_type": "display_data"
    }
   ],
   "source": [
    "plt.plot(history.history['mae'])"
   ]
  },
  {
   "cell_type": "code",
   "execution_count": null,
   "metadata": {},
   "outputs": [],
   "source": []
  }
 ],
 "metadata": {
  "kernelspec": {
   "display_name": "Python 3.9.12 ('dl')",
   "language": "python",
   "name": "python3"
  },
  "language_info": {
   "codemirror_mode": {
    "name": "ipython",
    "version": 3
   },
   "file_extension": ".py",
   "mimetype": "text/x-python",
   "name": "python",
   "nbconvert_exporter": "python",
   "pygments_lexer": "ipython3",
   "version": "3.9.13"
  },
  "orig_nbformat": 4,
  "vscode": {
   "interpreter": {
    "hash": "e792f99ca924ac5da9af932bc557d69820b5853464ee68b1079b8b9e6589c389"
   }
  }
 },
 "nbformat": 4,
 "nbformat_minor": 2
}
