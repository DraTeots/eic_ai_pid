{
 "cells": [
  {
   "cell_type": "code",
   "execution_count": 1,
   "metadata": {},
   "outputs": [],
   "source": [
    "import os\n",
    "from sys import platform\n",
    "\n",
    "import numpy as np\n",
    "import matplotlib.pyplot as plt\n",
    "from geant3_parser import Geant3DataFile\n",
    "from geant3_parser import build_train_set_xy"
   ]
  },
  {
   "cell_type": "code",
   "execution_count": 3,
   "metadata": {},
   "outputs": [
    {
     "name": "stdout",
     "output_type": "stream",
     "text": [
      "Time open 2.168586254119873\n",
      "Time split 0.5319013595581055\n",
      "(5000, 121)\n"
     ]
    }
   ],
   "source": [
    "file_name = os.path.join('data', 'shower_geant3_new.dat')\n",
    "\n",
    "# file_name = 'sample_data.txt'\n",
    "data_file = Geant3DataFile(file_name, skip_lines=3)\n",
    "\n",
    "cells, true_values = build_train_set_xy(data_file, 5000, normalize=True)\n",
    "\n",
    "arr=np.array([[]])\n",
    "for i in range(4999,2):\n",
    "    cells[i]=np.reshape(cells[i],1,-1)\n",
    "    cells[i+1]=np.reshape(cells[i+1],1,-1)\n",
    "    arr=np.hstack(cells[i],cells[i+1])\n",
    "\n",
    "print(cells.shape)\n",
    "input_dims = cells.shape[1]"
   ]
  },
  {
   "cell_type": "code",
   "execution_count": 4,
   "metadata": {},
   "outputs": [],
   "source": [
    "from tensorflow.keras.models import Model\n",
    "from tensorflow.keras.layers import Input, Dense"
   ]
  },
  {
   "cell_type": "code",
   "execution_count": 5,
   "metadata": {},
   "outputs": [
    {
     "name": "stderr",
     "output_type": "stream",
     "text": [
      "2022-06-20 20:21:10.437579: I tensorflow/stream_executor/platform/default/dso_loader.cc:53] Successfully opened dynamic library libcuda.so.1\n",
      "2022-06-20 20:21:11.161283: I tensorflow/stream_executor/cuda/cuda_gpu_executor.cc:923] could not open file to read NUMA node: /sys/bus/pci/devices/0000:01:00.0/numa_node\n",
      "Your kernel may have been built without NUMA support.\n",
      "2022-06-20 20:21:11.161351: I tensorflow/core/common_runtime/gpu/gpu_device.cc:1733] Found device 0 with properties: \n",
      "pciBusID: 0000:01:00.0 name: Quadro P1000 computeCapability: 6.1\n",
      "coreClock: 1.5185GHz coreCount: 4 deviceMemorySize: 4.00GiB deviceMemoryBandwidth: 89.53GiB/s\n",
      "2022-06-20 20:21:11.161405: I tensorflow/stream_executor/platform/default/dso_loader.cc:53] Successfully opened dynamic library libcudart.so.11.0\n",
      "2022-06-20 20:21:11.167102: I tensorflow/stream_executor/platform/default/dso_loader.cc:53] Successfully opened dynamic library libcublas.so.11\n",
      "2022-06-20 20:21:11.167218: I tensorflow/stream_executor/platform/default/dso_loader.cc:53] Successfully opened dynamic library libcublasLt.so.11\n",
      "2022-06-20 20:21:11.168164: I tensorflow/stream_executor/platform/default/dso_loader.cc:53] Successfully opened dynamic library libcufft.so.10\n",
      "2022-06-20 20:21:11.168463: I tensorflow/stream_executor/platform/default/dso_loader.cc:53] Successfully opened dynamic library libcurand.so.10\n",
      "2022-06-20 20:21:11.169271: I tensorflow/stream_executor/platform/default/dso_loader.cc:53] Successfully opened dynamic library libcusolver.so.11\n",
      "2022-06-20 20:21:11.169976: I tensorflow/stream_executor/platform/default/dso_loader.cc:53] Successfully opened dynamic library libcusparse.so.11\n",
      "2022-06-20 20:21:11.170157: I tensorflow/stream_executor/platform/default/dso_loader.cc:53] Successfully opened dynamic library libcudnn.so.8\n",
      "2022-06-20 20:21:11.171453: I tensorflow/stream_executor/cuda/cuda_gpu_executor.cc:923] could not open file to read NUMA node: /sys/bus/pci/devices/0000:01:00.0/numa_node\n",
      "Your kernel may have been built without NUMA support.\n",
      "2022-06-20 20:21:11.172275: I tensorflow/stream_executor/cuda/cuda_gpu_executor.cc:923] could not open file to read NUMA node: /sys/bus/pci/devices/0000:01:00.0/numa_node\n",
      "Your kernel may have been built without NUMA support.\n",
      "2022-06-20 20:21:11.172312: I tensorflow/core/common_runtime/gpu/gpu_device.cc:1871] Adding visible gpu devices: 0\n",
      "2022-06-20 20:21:11.173087: I tensorflow/core/platform/cpu_feature_guard.cc:142] This TensorFlow binary is optimized with oneAPI Deep Neural Network Library (oneDNN) to use the following CPU instructions in performance-critical operations:  AVX2 FMA\n",
      "To enable them in other operations, rebuild TensorFlow with the appropriate compiler flags.\n",
      "2022-06-20 20:21:11.176721: I tensorflow/stream_executor/cuda/cuda_gpu_executor.cc:923] could not open file to read NUMA node: /sys/bus/pci/devices/0000:01:00.0/numa_node\n",
      "Your kernel may have been built without NUMA support.\n",
      "2022-06-20 20:21:11.176783: I tensorflow/core/common_runtime/gpu/gpu_device.cc:1733] Found device 0 with properties: \n",
      "pciBusID: 0000:01:00.0 name: Quadro P1000 computeCapability: 6.1\n",
      "coreClock: 1.5185GHz coreCount: 4 deviceMemorySize: 4.00GiB deviceMemoryBandwidth: 89.53GiB/s\n",
      "2022-06-20 20:21:11.177655: I tensorflow/stream_executor/cuda/cuda_gpu_executor.cc:923] could not open file to read NUMA node: /sys/bus/pci/devices/0000:01:00.0/numa_node\n",
      "Your kernel may have been built without NUMA support.\n",
      "2022-06-20 20:21:11.178499: I tensorflow/stream_executor/cuda/cuda_gpu_executor.cc:923] could not open file to read NUMA node: /sys/bus/pci/devices/0000:01:00.0/numa_node\n",
      "Your kernel may have been built without NUMA support.\n",
      "2022-06-20 20:21:11.178530: I tensorflow/core/common_runtime/gpu/gpu_device.cc:1871] Adding visible gpu devices: 0\n",
      "2022-06-20 20:21:11.178618: I tensorflow/stream_executor/platform/default/dso_loader.cc:53] Successfully opened dynamic library libcudart.so.11.0\n",
      "2022-06-20 20:21:12.429235: I tensorflow/core/common_runtime/gpu/gpu_device.cc:1258] Device interconnect StreamExecutor with strength 1 edge matrix:\n",
      "2022-06-20 20:21:12.429268: I tensorflow/core/common_runtime/gpu/gpu_device.cc:1264]      0 \n",
      "2022-06-20 20:21:12.429276: I tensorflow/core/common_runtime/gpu/gpu_device.cc:1277] 0:   N \n",
      "2022-06-20 20:21:12.430314: I tensorflow/stream_executor/cuda/cuda_gpu_executor.cc:923] could not open file to read NUMA node: /sys/bus/pci/devices/0000:01:00.0/numa_node\n",
      "Your kernel may have been built without NUMA support.\n",
      "2022-06-20 20:21:12.431061: I tensorflow/stream_executor/cuda/cuda_gpu_executor.cc:923] could not open file to read NUMA node: /sys/bus/pci/devices/0000:01:00.0/numa_node\n",
      "Your kernel may have been built without NUMA support.\n",
      "2022-06-20 20:21:12.431081: I tensorflow/core/common_runtime/gpu/gpu_device.cc:1501] Could not identify NUMA node of platform GPU id 0, defaulting to 0.  Your kernel may not have been built with NUMA support.\n",
      "2022-06-20 20:21:12.431731: I tensorflow/stream_executor/cuda/cuda_gpu_executor.cc:923] could not open file to read NUMA node: /sys/bus/pci/devices/0000:01:00.0/numa_node\n",
      "Your kernel may have been built without NUMA support.\n",
      "2022-06-20 20:21:12.431786: I tensorflow/core/common_runtime/gpu/gpu_device.cc:1418] Created TensorFlow device (/job:localhost/replica:0/task:0/device:GPU:0 with 2763 MB memory) -> physical GPU (device: 0, name: Quadro P1000, pci bus id: 0000:01:00.0, compute capability: 6.1)\n"
     ]
    },
    {
     "name": "stdout",
     "output_type": "stream",
     "text": [
      "Model: \"model\"\n",
      "_________________________________________________________________\n",
      "Layer (type)                 Output Shape              Param #   \n",
      "=================================================================\n",
      "input_1 (InputLayer)         [(None, 121)]             0         \n",
      "_________________________________________________________________\n",
      "dense (Dense)                (None, 128)               15616     \n",
      "_________________________________________________________________\n",
      "dense_1 (Dense)              (None, 64)                8256      \n",
      "_________________________________________________________________\n",
      "dense_2 (Dense)              (None, 32)                2080      \n",
      "_________________________________________________________________\n",
      "dense_3 (Dense)              (None, 16)                528       \n",
      "_________________________________________________________________\n",
      "dense_4 (Dense)              (None, 8)                 136       \n",
      "_________________________________________________________________\n",
      "dense_5 (Dense)              (None, 4)                 36        \n",
      "_________________________________________________________________\n",
      "dense_6 (Dense)              (None, 2)                 10        \n",
      "_________________________________________________________________\n",
      "dense_7 (Dense)              (None, 1)                 3         \n",
      "_________________________________________________________________\n",
      "dense_8 (Dense)              (None, 4)                 8         \n",
      "_________________________________________________________________\n",
      "dense_9 (Dense)              (None, 8)                 40        \n",
      "_________________________________________________________________\n",
      "dense_10 (Dense)             (None, 16)                144       \n",
      "_________________________________________________________________\n",
      "dense_11 (Dense)             (None, 32)                544       \n",
      "_________________________________________________________________\n",
      "dense_12 (Dense)             (None, 64)                2112      \n",
      "_________________________________________________________________\n",
      "dense_13 (Dense)             (None, 128)               8320      \n",
      "_________________________________________________________________\n",
      "dense_14 (Dense)             (None, 121)               15609     \n",
      "=================================================================\n",
      "Total params: 53,442\n",
      "Trainable params: 53,442\n",
      "Non-trainable params: 0\n",
      "_________________________________________________________________\n"
     ]
    }
   ],
   "source": [
    "# build autoencoder\n",
    "input_layer = Input(shape=(input_dims,))\n",
    "encoder = Dense(128, activation='LeakyReLU')(input_layer)\n",
    "encoder = Dense(64, activation='LeakyReLU')(encoder)\n",
    "encoder = Dense(32, activation='LeakyReLU')(encoder)\n",
    "encoder = Dense(16, activation='LeakyReLU')(encoder)\n",
    "encoder = Dense(8, activation='LeakyReLU')(encoder)\n",
    "encoder = Dense(4, activation='LeakyReLU')(encoder)\n",
    "encoder = Dense(2, activation='LeakyReLU')(encoder)\n",
    "encoder = Dense(1, activation='sigmoid')(encoder)\n",
    "decoder = Dense(4, activation='LeakyReLU')(encoder)\n",
    "decoder = Dense(8, activation='LeakyReLU')(decoder)\n",
    "decoder = Dense(16, activation='LeakyReLU')(decoder)\n",
    "decoder = Dense(32, activation='LeakyReLU')(decoder)\n",
    "decoder = Dense(64, activation='LeakyReLU')(decoder)\n",
    "decoder = Dense(128, activation='LeakyReLU')(decoder)\n",
    "decoder = Dense(input_dims, activation='tanh')(decoder)\n",
    "autoencoder = Model(input_layer, decoder)\n",
    "autoencoder.compile(optimizer='adam', loss='binary_crossentropy', metrics=['accuracy', 'mse', 'mae'])\n",
    "autoencoder.summary()"
   ]
  },
  {
   "cell_type": "code",
   "execution_count": 13,
   "metadata": {},
   "outputs": [
    {
     "name": "stdout",
     "output_type": "stream",
     "text": [
      "Epoch 1/20\n",
      "125/125 [==============================] - 3s 22ms/step - loss: 0.4543 - accuracy: 0.0063 - mse: 0.0145 - mae: 0.0620 - val_loss: 0.4568 - val_accuracy: 0.0060 - val_mse: 0.0146 - val_mae: 0.0626\n",
      "Epoch 2/20\n",
      "125/125 [==============================] - 2s 16ms/step - loss: 0.4543 - accuracy: 0.0063 - mse: 0.0145 - mae: 0.0628 - val_loss: 0.4567 - val_accuracy: 0.0060 - val_mse: 0.0146 - val_mae: 0.0636\n",
      "Epoch 3/20\n",
      "125/125 [==============================] - 2s 14ms/step - loss: 0.4356 - accuracy: 0.0058 - mse: 0.0146 - mae: 0.0661 - val_loss: 0.4112 - val_accuracy: 0.0080 - val_mse: 0.0145 - val_mae: 0.0691\n",
      "Epoch 4/20\n",
      "125/125 [==============================] - 2s 16ms/step - loss: 0.4052 - accuracy: 0.0063 - mse: 0.0141 - mae: 0.0689 - val_loss: 0.4049 - val_accuracy: 0.0090 - val_mse: 0.0144 - val_mae: 0.0712\n",
      "Epoch 5/20\n",
      "125/125 [==============================] - 2s 16ms/step - loss: 0.4025 - accuracy: 0.0052 - mse: 0.0148 - mae: 0.0728 - val_loss: 0.3409 - val_accuracy: 0.0000e+00 - val_mse: 0.0146 - val_mae: 0.0742\n",
      "Epoch 6/20\n",
      "125/125 [==============================] - 2s 18ms/step - loss: 0.3223 - accuracy: 0.8537 - mse: 0.0131 - mae: 0.0782 - val_loss: 0.3111 - val_accuracy: 0.9770 - val_mse: 0.0128 - val_mae: 0.0766\n",
      "Epoch 7/20\n",
      "125/125 [==============================] - 2s 16ms/step - loss: 0.3082 - accuracy: 0.9745 - mse: 0.0131 - mae: 0.0802 - val_loss: 0.3056 - val_accuracy: 0.9770 - val_mse: 0.0137 - val_mae: 0.0854\n",
      "Epoch 8/20\n",
      "125/125 [==============================] - 2s 16ms/step - loss: 0.3009 - accuracy: 0.9745 - mse: 0.0136 - mae: 0.0862 - val_loss: 0.3008 - val_accuracy: 0.9770 - val_mse: 0.0131 - val_mae: 0.0846\n",
      "Epoch 9/20\n",
      "125/125 [==============================] - 2s 16ms/step - loss: 0.2988 - accuracy: 0.9745 - mse: 0.0130 - mae: 0.0845 - val_loss: 0.2994 - val_accuracy: 0.9770 - val_mse: 0.0128 - val_mae: 0.0837\n",
      "Epoch 10/20\n",
      "125/125 [==============================] - 2s 17ms/step - loss: 0.2979 - accuracy: 0.9745 - mse: 0.0127 - mae: 0.0831 - val_loss: 0.2999 - val_accuracy: 0.9770 - val_mse: 0.0132 - val_mae: 0.0859\n",
      "Epoch 11/20\n",
      "125/125 [==============================] - 2s 16ms/step - loss: 0.2984 - accuracy: 0.9745 - mse: 0.0127 - mae: 0.0835 - val_loss: 0.2993 - val_accuracy: 0.9770 - val_mse: 0.0125 - val_mae: 0.0824\n",
      "Epoch 12/20\n",
      "125/125 [==============================] - 2s 16ms/step - loss: 0.2976 - accuracy: 0.9745 - mse: 0.0123 - mae: 0.0817 - val_loss: 0.2990 - val_accuracy: 0.9770 - val_mse: 0.0124 - val_mae: 0.0818\n",
      "Epoch 13/20\n",
      "125/125 [==============================] - 2s 16ms/step - loss: 0.2977 - accuracy: 0.9745 - mse: 0.0123 - mae: 0.0816 - val_loss: 0.2998 - val_accuracy: 0.9770 - val_mse: 0.0126 - val_mae: 0.0826\n",
      "Epoch 14/20\n",
      "125/125 [==============================] - 2s 17ms/step - loss: 0.2978 - accuracy: 0.9745 - mse: 0.0123 - mae: 0.0815 - val_loss: 0.2992 - val_accuracy: 0.9770 - val_mse: 0.0122 - val_mae: 0.0808\n",
      "Epoch 15/20\n",
      "125/125 [==============================] - 2s 15ms/step - loss: 0.2984 - accuracy: 0.9745 - mse: 0.0125 - mae: 0.0826 - val_loss: 0.2996 - val_accuracy: 0.9770 - val_mse: 0.0123 - val_mae: 0.0812\n",
      "Epoch 16/20\n",
      "125/125 [==============================] - 2s 16ms/step - loss: 0.2977 - accuracy: 0.9745 - mse: 0.0122 - mae: 0.0805 - val_loss: 0.2991 - val_accuracy: 0.9770 - val_mse: 0.0124 - val_mae: 0.0813\n",
      "Epoch 17/20\n",
      "125/125 [==============================] - 2s 17ms/step - loss: 0.2975 - accuracy: 0.9745 - mse: 0.0121 - mae: 0.0802 - val_loss: 0.2989 - val_accuracy: 0.9770 - val_mse: 0.0121 - val_mae: 0.0796\n",
      "Epoch 18/20\n",
      "125/125 [==============================] - 2s 16ms/step - loss: 0.2975 - accuracy: 0.9745 - mse: 0.0120 - mae: 0.0796 - val_loss: 0.2994 - val_accuracy: 0.9770 - val_mse: 0.0119 - val_mae: 0.0797\n",
      "Epoch 19/20\n",
      "125/125 [==============================] - 2s 16ms/step - loss: 0.2975 - accuracy: 0.9745 - mse: 0.0120 - mae: 0.0792 - val_loss: 0.2988 - val_accuracy: 0.9770 - val_mse: 0.0120 - val_mae: 0.0792\n",
      "Epoch 20/20\n",
      "125/125 [==============================] - 2s 16ms/step - loss: 0.2974 - accuracy: 0.9745 - mse: 0.0119 - mae: 0.0787 - val_loss: 0.2988 - val_accuracy: 0.9770 - val_mse: 0.0118 - val_mae: 0.0783\n"
     ]
    },
    {
     "name": "stderr",
     "output_type": "stream",
     "text": [
      "WARNING:absl:Found untraced functions such as leaky_re_lu_layer_call_fn, leaky_re_lu_layer_call_and_return_conditional_losses, leaky_re_lu_1_layer_call_fn, leaky_re_lu_1_layer_call_and_return_conditional_losses, leaky_re_lu_2_layer_call_fn while saving (showing 5 of 65). These functions will not be directly callable after loading.\n"
     ]
    },
    {
     "name": "stdout",
     "output_type": "stream",
     "text": [
      "INFO:tensorflow:Assets written to: trained_models/reshape(5000, 121)_autoencoder.hd5/assets\n"
     ]
    },
    {
     "name": "stderr",
     "output_type": "stream",
     "text": [
      "INFO:tensorflow:Assets written to: trained_models/reshape(5000, 121)_autoencoder.hd5/assets\n"
     ]
    }
   ],
   "source": [
    "# train autoencoder\n",
    "history=autoencoder.fit(cells, cells, epochs=20, batch_size=32, shuffle=True, validation_split=0.2)\n",
    "# save autoencoder\n",
    "autoencoder.save('trained_models/reshape(5000, 121)_autoencoder.hd5')"
   ]
  },
  {
   "cell_type": "code",
   "execution_count": 14,
   "metadata": {},
   "outputs": [
    {
     "data": {
      "text/plain": [
       "[<matplotlib.lines.Line2D at 0x7f78a069d790>]"
      ]
     },
     "execution_count": 14,
     "metadata": {},
     "output_type": "execute_result"
    },
    {
     "data": {
      "image/png": "[encoded data removed]",
      "text/plain": [
       "<Figure size 432x288 with 1 Axes>"
      ]
     },
     "metadata": {
      "needs_background": "light"
     },
     "output_type": "display_data"
    }
   ],
   "source": [
    "plt.plot(history.history['loss'])"
   ]
  },
  {
   "cell_type": "code",
   "execution_count": 15,
   "metadata": {},
   "outputs": [
    {
     "data": {
      "text/plain": [
       "[<matplotlib.lines.Line2D at 0x7f78b078d3a0>]"
      ]
     },
     "execution_count": 15,
     "metadata": {},
     "output_type": "execute_result"
    },
    {
     "data": {
      "image/png": "[encoded data removed]",
      "text/plain": [
       "<Figure size 432x288 with 1 Axes>"
      ]
     },
     "metadata": {
      "needs_background": "light"
     },
     "output_type": "display_data"
    }
   ],
   "source": [
    "plt.plot(history.history['accuracy'])"
   ]
  },
  {
   "cell_type": "code",
   "execution_count": 16,
   "metadata": {},
   "outputs": [
    {
     "data": {
      "text/plain": [
       "[<matplotlib.lines.Line2D at 0x7f78a067c760>]"
      ]
     },
     "execution_count": 16,
     "metadata": {},
     "output_type": "execute_result"
    },
    {
     "data": {
      "image/png": "[encoded data removed]",
      "text/plain": [
       "<Figure size 432x288 with 1 Axes>"
      ]
     },
     "metadata": {
      "needs_background": "light"
     },
     "output_type": "display_data"
    }
   ],
   "source": [
    "plt.plot(history.history['mse'])"
   ]
  },
  {
   "cell_type": "code",
   "execution_count": 17,
   "metadata": {},
   "outputs": [
    {
     "data": {
      "text/plain": [
       "[<matplotlib.lines.Line2D at 0x7f78b0322460>]"
      ]
     },
     "execution_count": 17,
     "metadata": {},
     "output_type": "execute_result"
    },
    {
     "data": {
      "image/png": "[encoded data removed]",
      "text/plain": [
       "<Figure size 432x288 with 1 Axes>"
      ]
     },
     "metadata": {
      "needs_background": "light"
     },
     "output_type": "display_data"
    }
   ],
   "source": [
    "plt.plot(history.history['mae'])"
   ]
  },
  {
   "cell_type": "code",
   "execution_count": null,
   "metadata": {},
   "outputs": [],
   "source": []
  }
 ],
 "metadata": {
  "kernelspec": {
   "display_name": "Python 3.9.12 ('dl')",
   "language": "python",
   "name": "python3"
  },
  "language_info": {
   "codemirror_mode": {
    "name": "ipython",
    "version": 3
   },
   "file_extension": ".py",
   "mimetype": "text/x-python",
   "name": "python",
   "nbconvert_exporter": "python",
   "pygments_lexer": "ipython3",
   "version": "3.9.12"
  },
  "orig_nbformat": 4,
  "vscode": {
   "interpreter": {
    "hash": "e792f99ca924ac5da9af932bc557d69820b5853464ee68b1079b8b9e6589c389"
   }
  }
 },
 "nbformat": 4,
 "nbformat_minor": 2
}
