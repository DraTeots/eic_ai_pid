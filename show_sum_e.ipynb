{
 "cells": [
  {
   "cell_type": "code",
   "execution_count": 2,
   "metadata": {
    "collapsed": true,
    "pycharm": {
     "is_executing": false
    }
   },
   "outputs": [
    {
     "name": "stdout",
     "output_type": "stream",
     "text": [
      "Time open 0.6452319622039795\n",
      "Time split 0.30503010749816895\n"
     ]
    }
   ],
   "source": [
    "import math\n",
    "from keras.models import load_model\n",
    "import numpy as np\n",
    "import matplotlib.pyplot as plt\n",
    "from geant3_parser import build_train_set\n",
    "# load the dataset\n",
    "from geant3_parser import Geant3DataFile\n",
    "import os\n",
    "\n",
    "def get_bin_centers(bins):\n",
    "    assert len(bins) >= 2\n",
    "    return bins[:-1] + (bins[1:] - bins[:-1]) / 2\n",
    "\n",
    "def histo_rms(histo, bins):\n",
    "    bin_centers = get_bin_centers(bins)\n",
    "\n",
    "    rms = np.sum(histo*(bin_centers*bin_centers))/np.sum(histo)\n",
    "    rms = math.sqrt(rms)\n",
    "    return rms\n",
    "\n",
    "max_cell_index = 5\n",
    "total_columns = max_cell_index * 2 + 1\n",
    "total_rows = total_columns              # square calorimeter\n",
    "\n",
    "file_name = os.path.join('data', 'shower_geant3_new.dat')\n",
    "# file_name = 'sample_data.txt'\n",
    "\n",
    "data_file = Geant3DataFile(file_name, skip_lines=3)\n",
    "\n",
    "\n",
    "model = load_model('g3_dense_with_xy.hd5')\n",
    "\n"
   ]
  },
  {
   "cell_type": "code",
   "execution_count": 3,
   "metadata": {},
   "outputs": [
    {
     "data": {
      "text/plain": [
       "(array([[0.16288722, 0.32826526, 0.6722825 , ..., 0.        , 0.        ,\n",
       "         0.18904014],\n",
       "        [0.29619059, 0.47652246, 0.72833516, ..., 0.        , 0.        ,\n",
       "         0.06301338],\n",
       "        [0.06301338, 0.24618638, 0.50375123, ..., 0.        , 0.        ,\n",
       "         0.        ],\n",
       "        ...,\n",
       "        [0.36430302, 0.5979874 , 0.7071482 , ..., 0.        , 0.        ,\n",
       "         0.14631254],\n",
       "        [0.4731    , 0.12602676, 0.56219535, ..., 0.        , 0.        ,\n",
       "         0.        ],\n",
       "        [0.3897    , 0.31218065, 0.69319156, ..., 0.        , 0.        ,\n",
       "         0.16288722]]),\n",
       " array([[2.3556],\n",
       "        [4.4761],\n",
       "        [0.3179],\n",
       "        ...,\n",
       "        [4.0379],\n",
       "        [1.4192],\n",
       "        [3.3711]]),\n",
       " array([[2265.],\n",
       "        [4173.],\n",
       "        [ 311.],\n",
       "        ...,\n",
       "        [3791.],\n",
       "        [1322.],\n",
       "        [3249.]]))"
      ]
     },
     "execution_count": 3,
     "metadata": {},
     "output_type": "execute_result"
    }
   ],
   "source": [
    "len(build_train_set(data_file, 5000, add_real_xy=True))"
   ]
  },
  {
   "cell_type": "code",
   "execution_count": null,
   "metadata": {},
   "outputs": [],
   "source": [
    "\n",
    "input_data, true_e, reco_e, sum_e = build_train_set(data_file, 50000, add_real_xy=True)\n",
    "\n",
    "eval_e = model.predict(input_data)\n",
    "eval_e = eval_e.flatten()\n",
    "reco_e = reco_e.flatten()\n",
    "true_e = true_e.flatten()\n",
    "sum_e = sum_e.flatten()\n",
    "\n",
    "plt.figure(figsize=(10, 10))\n",
    "plt.hist2d(true_e, eval_e, bins=100, range=[[0, 6], [0, 6]])\n",
    "plt.show()\n",
    "\n",
    "\n",
    "eval_dee = np.sqrt(np.power((true_e - eval_e), 2)) / true_e\n",
    "mask = np.isfinite(eval_dee)\n",
    "eval_dee = eval_dee[mask]\n",
    "true_e = true_e[mask]\n",
    "reco_e = reco_e[mask]\n",
    "eval_e = eval_e[mask]\n",
    "del mask\n",
    "\n",
    "plt.figure(figsize=(10, 10))\n",
    "plt.hist2d(true_e, eval_dee, bins=100, range=[[0, 6], [0, 0.1]])\n",
    "plt.show()\n",
    "\n",
    "err_bins = np.arange(0, 0.1, 0.005)\n",
    "e_bins = np.arange(0, 5, 0.1)\n",
    "\n",
    "eval_dee_hist, _, _ = np.histogram2d(true_e, eval_dee, bins=[e_bins, err_bins])\n",
    "\n",
    "\n",
    "e_bin_centers = get_bin_centers(e_bins)\n",
    "eval_rmses=[histo_rms(h1d, err_bins) for h1d in eval_dee_hist]\n",
    "\n",
    "fig = plt.figure(figsize=(10, 8), dpi=150)\n",
    "ax = fig.add_subplot(111)\n",
    "ax.plot(e_bin_centers, eval_rmses, 'bo')\n",
    "ax.set_title('dE/E as a function of E for caloML reconstruction')\n",
    "ax.set_xlabel('E, GeV')\n",
    "ax.set_ylabel('dE/E')\n",
    "\n",
    "\n",
    "del eval_dee, eval_dee_hist, eval_e\n",
    "\n",
    "\n",
    "# reco_dee = np.sqrt(np.power((true_e - reco_e), 2)) / true_e\n",
    "# reco_dee_hist, _, _ = np.histogram2d(true_e, reco_dee, bins=[e_bins, err_bins])\n",
    "# reco_rmses=[histo_rms(h1d, err_bins) for h1d in reco_dee_hist]\n",
    "#\n",
    "# plt.plot(e_bin_centers, reco_rmses, 'ro--')\n",
    "plt.show()\n"
   ]
  }
 ],
 "metadata": {
  "kernelspec": {
   "display_name": "Python 3",
   "language": "python",
   "name": "python3"
  },
  "language_info": {
   "codemirror_mode": {
    "name": "ipython",
    "version": 3
   },
   "file_extension": ".py",
   "mimetype": "text/x-python",
   "name": "python",
   "nbconvert_exporter": "python",
   "pygments_lexer": "ipython3",
   "version": "3.7.11"
  },
  "pycharm": {
   "stem_cell": {
    "cell_type": "raw",
    "metadata": {
     "collapsed": false
    },
    "source": []
   }
  }
 },
 "nbformat": 4,
 "nbformat_minor": 0
}
